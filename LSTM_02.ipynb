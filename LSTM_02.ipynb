{
 "cells": [
  {
   "cell_type": "markdown",
   "metadata": {},
   "source": [
    "# Read dataset"
   ]
  },
  {
   "cell_type": "code",
   "execution_count": 1,
   "metadata": {},
   "outputs": [],
   "source": [
    "import numpy as np\n",
    "import matplotlib.pyplot as plt\n",
    "import pandas as pd\n",
    "\n",
    "train_data = pd.read_csv('./dataset/Google_Stock_Price_Train.csv').values\n",
    "test_data = pd.read_csv('./dataset/Google_Stock_Price_Test.csv').values"
   ]
  },
  {
   "cell_type": "markdown",
   "metadata": {},
   "source": [
    "# Fix data string to float"
   ]
  },
  {
   "cell_type": "code",
   "execution_count": 2,
   "metadata": {},
   "outputs": [
    {
     "name": "stdout",
     "output_type": "stream",
     "text": [
      "(1258, 4)\n",
      "(20, 4)\n"
     ]
    }
   ],
   "source": [
    "# the data[4:6] must be fix\n",
    "def str2float(data):\n",
    "    length = len(data)\n",
    "    for i in range(length):\n",
    "        try:\n",
    "            data[i] = data[i].replace(',', '')\n",
    "        except AttributeError:\n",
    "            data[i] = data[i]\n",
    "    return np.asarray(data, dtype=np.float)\n",
    "    \n",
    "# fix all data in dataset\n",
    "def fixStr2Float(dataset):\n",
    "    shape = dataset.shape\n",
    "    dataset_t = np.zeros((0, shape[-1]), np.float)\n",
    "    for i, data in enumerate(dataset):\n",
    "        dataset_t = np.append(dataset_t, np.expand_dims(str2float(data), axis=0), axis=0)\n",
    "    return dataset_t\n",
    "\n",
    "# trainsform\n",
    "train_data_t = fixStr2Float(train_data[:, 1:-1])\n",
    "test_data_t = fixStr2Float(test_data[:, 1:-1])\n",
    "\n",
    "print(train_data_t.shape)\n",
    "print(test_data_t.shape)"
   ]
  },
  {
   "cell_type": "markdown",
   "metadata": {},
   "source": [
    "# My own MinMaxScaler"
   ]
  },
  {
   "cell_type": "code",
   "execution_count": 3,
   "metadata": {},
   "outputs": [],
   "source": [
    "class MinMaxScaler:\n",
    "    __min = 0.\n",
    "    __max = 1.\n",
    "    __range = 1.\n",
    "    __feature_range = (0, 1)\n",
    "    __scale = 1.\n",
    "    def __init__(self):\n",
    "        pass\n",
    "    def getScalerData(self, dataset, offset=0.1, feature_range=(0, 1)):\n",
    "        data_max = np.max(dataset)\n",
    "        data_min = np.min(dataset)\n",
    "        self.__range = (data_max - data_min) * (1 + offset)\n",
    "        self.__min = data_max - self.__range\n",
    "        self.__max = data_min + self.__range\n",
    "        self.__feature_range = feature_range\n",
    "        self.__scale = (feature_range[1] - feature_range[0]) / self.__range\n",
    "        return self.getTransformData(dataset)\n",
    "    def getTransformData(self, dataset):\n",
    "        return (dataset - self.__min) * self.__scale + self.__feature_range[0]\n",
    "    def getInverseData(self, scalerDataset):\n",
    "        return (scalerDataset - self.__feature_range[0]) / self.__scale + self.__min\n",
    "    def getParameter(self):\n",
    "        return self.__min, self.__max, self.__range, self.__feature_range, self.__scale"
   ]
  },
  {
   "cell_type": "markdown",
   "metadata": {},
   "source": [
    "# Create training dataset and testing dataset"
   ]
  },
  {
   "cell_type": "code",
   "execution_count": 4,
   "metadata": {},
   "outputs": [
    {
     "name": "stdout",
     "output_type": "stream",
     "text": [
      "(1197, 60, 4) (1197, 1, 4)\n",
      "(20, 60, 4) (20, 1, 4)\n"
     ]
    }
   ],
   "source": [
    "def genQuteChange(dataset):\n",
    "    return (dataset[1:] - dataset[:-1]) / dataset[:-1]\n",
    "\n",
    "# def create function\n",
    "def createDataset(dataset, day_in=60, day_out=1):\n",
    "    count = len(dataset)\n",
    "    x = []\n",
    "    y = []\n",
    "    for i in range(day_in, count - day_out + 1):\n",
    "        x.append(dataset[i-day_in:i, :])\n",
    "        y.append(dataset[i:i+day_out, :])\n",
    "    return np.asarray(x), np.asarray(y)\n",
    "\n",
    "# set parameter\n",
    "input_days = 60\n",
    "output_days = 1\n",
    "\n",
    "# append the total dataset\n",
    "dataset_qute = np.append(train_data_t, test_data_t, axis=0)\n",
    "test_count = len(test_data_t)\n",
    "\n",
    "# get qute change dataset\n",
    "sc = MinMaxScaler()\n",
    "dataset_qute = genQuteChange(dataset_qute)\n",
    "dataset_qute = sc.getScalerData(dataset_qute, offset=0)\n",
    "\n",
    "# create data input and output\n",
    "train_x, train_y = createDataset(dataset_qute[:-test_count], day_in=input_days, day_out=output_days)\n",
    "test_x, test_y = createDataset(dataset_qute[-test_count-input_days:], day_in=input_days, day_out=output_days)\n",
    "\n",
    "print(train_x.shape, train_y.shape)\n",
    "print(test_x.shape, test_y.shape)"
   ]
  },
  {
   "cell_type": "markdown",
   "metadata": {},
   "source": [
    "# Create Model"
   ]
  },
  {
   "cell_type": "code",
   "execution_count": 5,
   "metadata": {},
   "outputs": [
    {
     "name": "stderr",
     "output_type": "stream",
     "text": [
      "/usr/local/lib/python3.5/dist-packages/tensorflow/python/framework/dtypes.py:516: FutureWarning: Passing (type, 1) or '1type' as a synonym of type is deprecated; in a future version of numpy, it will be understood as (type, (1,)) / '(1,)type'.\n",
      "  _np_qint8 = np.dtype([(\"qint8\", np.int8, 1)])\n",
      "/usr/local/lib/python3.5/dist-packages/tensorflow/python/framework/dtypes.py:517: FutureWarning: Passing (type, 1) or '1type' as a synonym of type is deprecated; in a future version of numpy, it will be understood as (type, (1,)) / '(1,)type'.\n",
      "  _np_quint8 = np.dtype([(\"quint8\", np.uint8, 1)])\n",
      "/usr/local/lib/python3.5/dist-packages/tensorflow/python/framework/dtypes.py:518: FutureWarning: Passing (type, 1) or '1type' as a synonym of type is deprecated; in a future version of numpy, it will be understood as (type, (1,)) / '(1,)type'.\n",
      "  _np_qint16 = np.dtype([(\"qint16\", np.int16, 1)])\n",
      "/usr/local/lib/python3.5/dist-packages/tensorflow/python/framework/dtypes.py:519: FutureWarning: Passing (type, 1) or '1type' as a synonym of type is deprecated; in a future version of numpy, it will be understood as (type, (1,)) / '(1,)type'.\n",
      "  _np_quint16 = np.dtype([(\"quint16\", np.uint16, 1)])\n",
      "/usr/local/lib/python3.5/dist-packages/tensorflow/python/framework/dtypes.py:520: FutureWarning: Passing (type, 1) or '1type' as a synonym of type is deprecated; in a future version of numpy, it will be understood as (type, (1,)) / '(1,)type'.\n",
      "  _np_qint32 = np.dtype([(\"qint32\", np.int32, 1)])\n",
      "/usr/local/lib/python3.5/dist-packages/tensorflow/python/framework/dtypes.py:525: FutureWarning: Passing (type, 1) or '1type' as a synonym of type is deprecated; in a future version of numpy, it will be understood as (type, (1,)) / '(1,)type'.\n",
      "  np_resource = np.dtype([(\"resource\", np.ubyte, 1)])\n",
      "/usr/local/lib/python3.5/dist-packages/tensorboard/compat/tensorflow_stub/dtypes.py:541: FutureWarning: Passing (type, 1) or '1type' as a synonym of type is deprecated; in a future version of numpy, it will be understood as (type, (1,)) / '(1,)type'.\n",
      "  _np_qint8 = np.dtype([(\"qint8\", np.int8, 1)])\n",
      "/usr/local/lib/python3.5/dist-packages/tensorboard/compat/tensorflow_stub/dtypes.py:542: FutureWarning: Passing (type, 1) or '1type' as a synonym of type is deprecated; in a future version of numpy, it will be understood as (type, (1,)) / '(1,)type'.\n",
      "  _np_quint8 = np.dtype([(\"quint8\", np.uint8, 1)])\n",
      "/usr/local/lib/python3.5/dist-packages/tensorboard/compat/tensorflow_stub/dtypes.py:543: FutureWarning: Passing (type, 1) or '1type' as a synonym of type is deprecated; in a future version of numpy, it will be understood as (type, (1,)) / '(1,)type'.\n",
      "  _np_qint16 = np.dtype([(\"qint16\", np.int16, 1)])\n",
      "/usr/local/lib/python3.5/dist-packages/tensorboard/compat/tensorflow_stub/dtypes.py:544: FutureWarning: Passing (type, 1) or '1type' as a synonym of type is deprecated; in a future version of numpy, it will be understood as (type, (1,)) / '(1,)type'.\n",
      "  _np_quint16 = np.dtype([(\"quint16\", np.uint16, 1)])\n",
      "/usr/local/lib/python3.5/dist-packages/tensorboard/compat/tensorflow_stub/dtypes.py:545: FutureWarning: Passing (type, 1) or '1type' as a synonym of type is deprecated; in a future version of numpy, it will be understood as (type, (1,)) / '(1,)type'.\n",
      "  _np_qint32 = np.dtype([(\"qint32\", np.int32, 1)])\n",
      "/usr/local/lib/python3.5/dist-packages/tensorboard/compat/tensorflow_stub/dtypes.py:550: FutureWarning: Passing (type, 1) or '1type' as a synonym of type is deprecated; in a future version of numpy, it will be understood as (type, (1,)) / '(1,)type'.\n",
      "  np_resource = np.dtype([(\"resource\", np.ubyte, 1)])\n",
      "WARNING: Logging before flag parsing goes to stderr.\n",
      "W0911 11:15:21.254144 140191770683136 deprecation.py:506] From /usr/local/lib/python3.5/dist-packages/tensorflow/python/ops/init_ops.py:1251: calling VarianceScaling.__init__ (from tensorflow.python.ops.init_ops) with dtype is deprecated and will be removed in a future version.\n",
      "Instructions for updating:\n",
      "Call initializer instance with the dtype argument instead of passing it to the constructor\n"
     ]
    },
    {
     "name": "stdout",
     "output_type": "stream",
     "text": [
      "Model: \"sequential\"\n",
      "_________________________________________________________________\n",
      "Layer (type)                 Output Shape              Param #   \n",
      "=================================================================\n",
      "lstm (LSTM)                  (None, 60, 50)            10400     \n",
      "_________________________________________________________________\n",
      "lstm_1 (LSTM)                (None, 60, 50)            20200     \n",
      "_________________________________________________________________\n",
      "flatten (Flatten)            (None, 3000)              0         \n",
      "_________________________________________________________________\n",
      "dense (Dense)                (None, 128)               384128    \n",
      "_________________________________________________________________\n",
      "dense_1 (Dense)              (None, 40)                5160      \n",
      "_________________________________________________________________\n",
      "dense_2 (Dense)              (None, 1)                 41        \n",
      "=================================================================\n",
      "Total params: 419,929\n",
      "Trainable params: 419,929\n",
      "Non-trainable params: 0\n",
      "_________________________________________________________________\n"
     ]
    },
    {
     "data": {
      "image/png": "[encoded data removed]",
      "text/plain": [
       "<IPython.core.display.Image object>"
      ]
     },
     "execution_count": 5,
     "metadata": {},
     "output_type": "execute_result"
    }
   ],
   "source": [
    "# LSTM Training\n",
    "from tensorflow.keras.models import Sequential\n",
    "from tensorflow.keras.layers import LSTM, Dense, Dropout, Flatten\n",
    "from tensorflow.keras.utils import plot_model\n",
    "\n",
    "model = Sequential()\n",
    "\n",
    "model.add(LSTM(units = 50, return_sequences = True, input_shape = (input_days, 1), dropout=0.2))\n",
    "model.add(LSTM(units = 50, return_sequences = True, dropout=0.2))\n",
    "model.add(Flatten())\n",
    "model.add(Dense(units = 128))\n",
    "model.add(Dense(units = 40))\n",
    "model.add(Dense(units = output_days))\n",
    "model.compile(optimizer = 'adam', loss = 'mean_squared_error')\n",
    "model.summary()\n",
    "plot_model(model, 'model.png')"
   ]
  },
  {
   "cell_type": "markdown",
   "metadata": {},
   "source": [
    "# Training the model with Open data"
   ]
  },
  {
   "cell_type": "code",
   "execution_count": 6,
   "metadata": {
    "scrolled": true
   },
   "outputs": [
    {
     "name": "stderr",
     "output_type": "stream",
     "text": [
      "W0911 11:15:22.169251 140191770683136 callbacks.py:875] `period` argument is deprecated. Please use `save_freq` to specify the frequency in number of samples seen.\n"
     ]
    },
    {
     "name": "stdout",
     "output_type": "stream",
     "text": [
      "Train on 1197 samples, validate on 20 samples\n"
     ]
    },
    {
     "name": "stderr",
     "output_type": "stream",
     "text": [
      "W0911 11:15:22.366073 140191770683136 deprecation.py:323] From /usr/local/lib/python3.5/dist-packages/tensorflow/python/ops/math_grad.py:1250: add_dispatch_support.<locals>.wrapper (from tensorflow.python.ops.array_ops) is deprecated and will be removed in a future version.\n",
      "Instructions for updating:\n",
      "Use tf.where in 2.0, which has the same broadcast rule as np.where\n"
     ]
    },
    {
     "name": "stdout",
     "output_type": "stream",
     "text": [
      "Epoch 1/100\n",
      "1197/1197 [==============================] - 7s 6ms/sample - loss: 0.3439 - val_loss: 0.0407\n",
      "Epoch 2/100\n",
      "1197/1197 [==============================] - 3s 3ms/sample - loss: 0.0864 - val_loss: 0.0028\n",
      "Epoch 3/100\n",
      "1197/1197 [==============================] - 3s 3ms/sample - loss: 0.0287 - val_loss: 0.0018\n",
      "Epoch 4/100\n",
      "1197/1197 [==============================] - 3s 3ms/sample - loss: 0.0089 - val_loss: 0.0022\n",
      "Epoch 5/100\n",
      "1197/1197 [==============================] - 3s 3ms/sample - loss: 0.0045 - val_loss: 6.3576e-04\n",
      "Epoch 6/100\n",
      "1197/1197 [==============================] - 3s 3ms/sample - loss: 0.0031 - val_loss: 2.4956e-04\n",
      "Epoch 7/100\n",
      "1197/1197 [==============================] - 3s 3ms/sample - loss: 0.0023 - val_loss: 2.4258e-04\n",
      "Epoch 8/100\n",
      "1197/1197 [==============================] - 3s 3ms/sample - loss: 0.0019 - val_loss: 2.3945e-04\n",
      "Epoch 9/100\n",
      "1197/1197 [==============================] - 3s 3ms/sample - loss: 0.0017 - val_loss: 2.4309e-04\n",
      "Epoch 10/100\n",
      "1100/1197 [==========================>...] - ETA: 0s - loss: 0.0014\n",
      "Epoch 00010: saving model to ./model/LSTM_02_check_point/cp-0010.ckpt\n",
      "1197/1197 [==============================] - 3s 3ms/sample - loss: 0.0014 - val_loss: 3.0841e-04\n",
      "Epoch 11/100\n",
      "1197/1197 [==============================] - 3s 3ms/sample - loss: 0.0011 - val_loss: 2.4714e-04\n",
      "Epoch 12/100\n",
      "1197/1197 [==============================] - 3s 3ms/sample - loss: 0.0012 - val_loss: 2.7186e-04\n",
      "Epoch 13/100\n",
      "1197/1197 [==============================] - 3s 3ms/sample - loss: 0.0011 - val_loss: 2.3819e-04\n",
      "Epoch 14/100\n",
      "1197/1197 [==============================] - 3s 3ms/sample - loss: 0.0010 - val_loss: 3.4402e-04\n",
      "Epoch 15/100\n",
      "1197/1197 [==============================] - 3s 3ms/sample - loss: 0.0010 - val_loss: 2.6078e-04\n",
      "Epoch 16/100\n",
      "1197/1197 [==============================] - 3s 3ms/sample - loss: 9.3936e-04 - val_loss: 2.4530e-04\n",
      "Epoch 17/100\n",
      "1197/1197 [==============================] - 3s 3ms/sample - loss: 8.8049e-04 - val_loss: 2.6578e-04\n",
      "Epoch 18/100\n",
      "1197/1197 [==============================] - 3s 3ms/sample - loss: 8.4618e-04 - val_loss: 2.3745e-04\n",
      "Epoch 19/100\n",
      "1197/1197 [==============================] - 3s 3ms/sample - loss: 8.0477e-04 - val_loss: 2.8965e-04\n",
      "Epoch 20/100\n",
      "1100/1197 [==========================>...] - ETA: 0s - loss: 7.5167e-04\n",
      "Epoch 00020: saving model to ./model/LSTM_02_check_point/cp-0020.ckpt\n",
      "1197/1197 [==============================] - 3s 3ms/sample - loss: 7.6757e-04 - val_loss: 2.7698e-04\n",
      "Epoch 21/100\n",
      "1197/1197 [==============================] - 3s 3ms/sample - loss: 7.2046e-04 - val_loss: 2.4229e-04\n",
      "Epoch 22/100\n",
      "1197/1197 [==============================] - 3s 3ms/sample - loss: 6.9220e-04 - val_loss: 2.7390e-04\n",
      "Epoch 23/100\n",
      "1197/1197 [==============================] - 3s 3ms/sample - loss: 7.3489e-04 - val_loss: 2.4237e-04\n",
      "Epoch 24/100\n",
      "1197/1197 [==============================] - 3s 3ms/sample - loss: 7.1912e-04 - val_loss: 2.3770e-04\n",
      "Epoch 25/100\n",
      "1197/1197 [==============================] - 3s 3ms/sample - loss: 6.9168e-04 - val_loss: 2.3993e-04\n",
      "Epoch 26/100\n",
      "1197/1197 [==============================] - 3s 3ms/sample - loss: 6.8043e-04 - val_loss: 2.4223e-04\n",
      "Epoch 27/100\n",
      "1197/1197 [==============================] - 3s 3ms/sample - loss: 7.0335e-04 - val_loss: 2.4140e-04\n",
      "Epoch 28/100\n",
      "1197/1197 [==============================] - 3s 3ms/sample - loss: 6.8944e-04 - val_loss: 2.3810e-04\n",
      "Epoch 29/100\n",
      "1197/1197 [==============================] - 3s 3ms/sample - loss: 6.7320e-04 - val_loss: 2.7080e-04\n",
      "Epoch 30/100\n",
      "1100/1197 [==========================>...] - ETA: 0s - loss: 6.3733e-04\n",
      "Epoch 00030: saving model to ./model/LSTM_02_check_point/cp-0030.ckpt\n",
      "1197/1197 [==============================] - 3s 3ms/sample - loss: 6.4499e-04 - val_loss: 2.5122e-04\n",
      "Epoch 31/100\n",
      "1197/1197 [==============================] - 3s 3ms/sample - loss: 6.4810e-04 - val_loss: 2.5201e-04\n",
      "Epoch 32/100\n",
      "1197/1197 [==============================] - 3s 3ms/sample - loss: 6.3749e-04 - val_loss: 2.7108e-04\n",
      "Epoch 33/100\n",
      "1197/1197 [==============================] - 3s 3ms/sample - loss: 6.3970e-04 - val_loss: 2.5185e-04\n",
      "Epoch 34/100\n",
      "1197/1197 [==============================] - 3s 3ms/sample - loss: 6.3200e-04 - val_loss: 2.4704e-04\n",
      "Epoch 35/100\n",
      "1197/1197 [==============================] - 3s 3ms/sample - loss: 6.2413e-04 - val_loss: 2.4450e-04\n",
      "Epoch 36/100\n",
      "1197/1197 [==============================] - 3s 3ms/sample - loss: 6.2976e-04 - val_loss: 2.4295e-04\n",
      "Epoch 37/100\n",
      "1197/1197 [==============================] - 3s 3ms/sample - loss: 5.9353e-04 - val_loss: 2.4251e-04\n",
      "Epoch 38/100\n",
      "1197/1197 [==============================] - 3s 3ms/sample - loss: 6.0522e-04 - val_loss: 2.4024e-04\n",
      "Epoch 39/100\n",
      "1197/1197 [==============================] - 3s 3ms/sample - loss: 5.9565e-04 - val_loss: 2.6472e-04\n",
      "Epoch 40/100\n",
      "1100/1197 [==========================>...] - ETA: 0s - loss: 6.2420e-04\n",
      "Epoch 00040: saving model to ./model/LSTM_02_check_point/cp-0040.ckpt\n",
      "1197/1197 [==============================] - 3s 3ms/sample - loss: 6.2809e-04 - val_loss: 2.5737e-04\n",
      "Epoch 41/100\n",
      "1197/1197 [==============================] - 3s 3ms/sample - loss: 6.1855e-04 - val_loss: 2.4694e-04\n",
      "Epoch 42/100\n",
      "1197/1197 [==============================] - 3s 3ms/sample - loss: 6.2485e-04 - val_loss: 2.6772e-04\n",
      "Epoch 43/100\n",
      "1197/1197 [==============================] - 3s 3ms/sample - loss: 6.0855e-04 - val_loss: 2.3823e-04\n",
      "Epoch 44/100\n",
      "1197/1197 [==============================] - 3s 3ms/sample - loss: 5.8072e-04 - val_loss: 2.5638e-04\n",
      "Epoch 45/100\n",
      "1197/1197 [==============================] - 3s 3ms/sample - loss: 5.9824e-04 - val_loss: 3.4282e-04\n",
      "Epoch 46/100\n",
      "1197/1197 [==============================] - 3s 3ms/sample - loss: 6.1142e-04 - val_loss: 2.6943e-04\n",
      "Epoch 47/100\n",
      "1197/1197 [==============================] - 3s 3ms/sample - loss: 5.8901e-04 - val_loss: 2.3909e-04\n",
      "Epoch 48/100\n",
      "1197/1197 [==============================] - 3s 3ms/sample - loss: 5.6559e-04 - val_loss: 2.6932e-04\n",
      "Epoch 49/100\n",
      "1197/1197 [==============================] - 3s 3ms/sample - loss: 6.3543e-04 - val_loss: 3.6015e-04\n",
      "Epoch 50/100\n",
      "1100/1197 [==========================>...] - ETA: 0s - loss: 5.9454e-04\n",
      "Epoch 00050: saving model to ./model/LSTM_02_check_point/cp-0050.ckpt\n",
      "1197/1197 [==============================] - 3s 3ms/sample - loss: 5.7875e-04 - val_loss: 2.3773e-04\n",
      "Epoch 51/100\n",
      "1197/1197 [==============================] - 3s 3ms/sample - loss: 5.5730e-04 - val_loss: 2.3860e-04\n",
      "Epoch 52/100\n",
      "1197/1197 [==============================] - 3s 3ms/sample - loss: 5.8475e-04 - val_loss: 2.3738e-04\n",
      "Epoch 53/100\n",
      "1197/1197 [==============================] - 3s 3ms/sample - loss: 6.0331e-04 - val_loss: 2.3883e-04\n",
      "Epoch 54/100\n",
      "1197/1197 [==============================] - 3s 3ms/sample - loss: 6.6689e-04 - val_loss: 2.4041e-04\n",
      "Epoch 55/100\n",
      "1197/1197 [==============================] - 3s 3ms/sample - loss: 6.5376e-04 - val_loss: 2.6421e-04\n",
      "Epoch 56/100\n",
      "1197/1197 [==============================] - 3s 3ms/sample - loss: 6.0953e-04 - val_loss: 2.4000e-04\n",
      "Epoch 57/100\n",
      "1197/1197 [==============================] - 3s 3ms/sample - loss: 5.8745e-04 - val_loss: 3.1035e-04\n",
      "Epoch 58/100\n",
      "1197/1197 [==============================] - 3s 3ms/sample - loss: 5.8457e-04 - val_loss: 2.3756e-04\n",
      "Epoch 59/100\n",
      "1197/1197 [==============================] - 3s 3ms/sample - loss: 5.7393e-04 - val_loss: 2.4290e-04\n",
      "Epoch 60/100\n",
      "1100/1197 [==========================>...] - ETA: 0s - loss: 5.8419e-04\n",
      "Epoch 00060: saving model to ./model/LSTM_02_check_point/cp-0060.ckpt\n",
      "1197/1197 [==============================] - 3s 3ms/sample - loss: 5.6938e-04 - val_loss: 3.3679e-04\n",
      "Epoch 61/100\n",
      "1197/1197 [==============================] - 3s 3ms/sample - loss: 6.0201e-04 - val_loss: 2.4798e-04\n",
      "Epoch 62/100\n",
      "1197/1197 [==============================] - 3s 3ms/sample - loss: 5.6290e-04 - val_loss: 2.9281e-04\n",
      "Epoch 63/100\n",
      "1197/1197 [==============================] - 3s 3ms/sample - loss: 5.6393e-04 - val_loss: 2.5495e-04\n",
      "Epoch 64/100\n",
      "1197/1197 [==============================] - 3s 3ms/sample - loss: 5.7516e-04 - val_loss: 2.3995e-04\n",
      "Epoch 65/100\n",
      "1197/1197 [==============================] - 3s 3ms/sample - loss: 5.8329e-04 - val_loss: 2.3819e-04\n",
      "Epoch 66/100\n",
      "1197/1197 [==============================] - 3s 3ms/sample - loss: 5.7259e-04 - val_loss: 2.3817e-04\n",
      "Epoch 67/100\n",
      "1197/1197 [==============================] - 3s 3ms/sample - loss: 5.8514e-04 - val_loss: 2.5757e-04\n",
      "Epoch 68/100\n",
      "1197/1197 [==============================] - 3s 3ms/sample - loss: 5.7242e-04 - val_loss: 2.6246e-04\n",
      "Epoch 69/100\n",
      "1197/1197 [==============================] - 3s 3ms/sample - loss: 6.7174e-04 - val_loss: 4.7538e-04\n",
      "Epoch 70/100\n",
      "1100/1197 [==========================>...] - ETA: 0s - loss: 5.7977e-04\n",
      "Epoch 00070: saving model to ./model/LSTM_02_check_point/cp-0070.ckpt\n",
      "1197/1197 [==============================] - 3s 3ms/sample - loss: 5.9517e-04 - val_loss: 2.4259e-04\n",
      "Epoch 71/100\n",
      "1197/1197 [==============================] - 3s 3ms/sample - loss: 5.5119e-04 - val_loss: 2.4205e-04\n",
      "Epoch 72/100\n",
      "1197/1197 [==============================] - 3s 3ms/sample - loss: 5.4204e-04 - val_loss: 2.8673e-04\n",
      "Epoch 73/100\n",
      "1197/1197 [==============================] - 3s 3ms/sample - loss: 5.8817e-04 - val_loss: 2.4003e-04\n",
      "Epoch 74/100\n",
      "1197/1197 [==============================] - 3s 3ms/sample - loss: 5.9767e-04 - val_loss: 2.7692e-04\n",
      "Epoch 75/100\n",
      "1197/1197 [==============================] - 3s 3ms/sample - loss: 5.7593e-04 - val_loss: 2.6974e-04\n",
      "Epoch 76/100\n",
      "1197/1197 [==============================] - 3s 3ms/sample - loss: 5.9734e-04 - val_loss: 2.5638e-04\n",
      "Epoch 77/100\n",
      "1197/1197 [==============================] - 3s 3ms/sample - loss: 5.5750e-04 - val_loss: 2.4078e-04\n",
      "Epoch 78/100\n",
      "1197/1197 [==============================] - 3s 3ms/sample - loss: 5.6863e-04 - val_loss: 3.0882e-04\n",
      "Epoch 79/100\n",
      "1197/1197 [==============================] - 3s 3ms/sample - loss: 5.7629e-04 - val_loss: 2.7271e-04\n",
      "Epoch 80/100\n",
      "1100/1197 [==========================>...] - ETA: 0s - loss: 6.5027e-04\n",
      "Epoch 00080: saving model to ./model/LSTM_02_check_point/cp-0080.ckpt\n",
      "1197/1197 [==============================] - 3s 3ms/sample - loss: 6.3629e-04 - val_loss: 2.7258e-04\n",
      "Epoch 81/100\n",
      "1197/1197 [==============================] - 3s 3ms/sample - loss: 5.8196e-04 - val_loss: 2.5931e-04\n",
      "Epoch 82/100\n",
      "1197/1197 [==============================] - 3s 3ms/sample - loss: 5.7163e-04 - val_loss: 3.8026e-04\n",
      "Epoch 83/100\n",
      "1197/1197 [==============================] - 3s 3ms/sample - loss: 6.5533e-04 - val_loss: 2.5055e-04\n",
      "Epoch 84/100\n",
      "1197/1197 [==============================] - 3s 3ms/sample - loss: 5.8238e-04 - val_loss: 2.5166e-04\n",
      "Epoch 85/100\n",
      "1197/1197 [==============================] - 3s 3ms/sample - loss: 5.6948e-04 - val_loss: 2.5497e-04\n",
      "Epoch 86/100\n",
      "1197/1197 [==============================] - 3s 3ms/sample - loss: 5.8619e-04 - val_loss: 2.8053e-04\n",
      "Epoch 87/100\n",
      "1197/1197 [==============================] - 3s 3ms/sample - loss: 5.8515e-04 - val_loss: 2.4041e-04\n",
      "Epoch 88/100\n",
      "1197/1197 [==============================] - 3s 3ms/sample - loss: 5.5433e-04 - val_loss: 2.4730e-04\n",
      "Epoch 89/100\n",
      "1197/1197 [==============================] - 3s 3ms/sample - loss: 5.6960e-04 - val_loss: 3.0240e-04\n",
      "Epoch 90/100\n",
      "1100/1197 [==========================>...] - ETA: 0s - loss: 5.5992e-04\n",
      "Epoch 00090: saving model to ./model/LSTM_02_check_point/cp-0090.ckpt\n",
      "1197/1197 [==============================] - 3s 3ms/sample - loss: 5.5719e-04 - val_loss: 2.3787e-04\n",
      "Epoch 91/100\n",
      "1197/1197 [==============================] - 3s 3ms/sample - loss: 5.8373e-04 - val_loss: 3.2017e-04\n",
      "Epoch 92/100\n",
      "1197/1197 [==============================] - 3s 3ms/sample - loss: 6.0802e-04 - val_loss: 2.5041e-04\n",
      "Epoch 93/100\n",
      "1197/1197 [==============================] - 3s 3ms/sample - loss: 5.6452e-04 - val_loss: 2.9338e-04\n",
      "Epoch 94/100\n",
      "1197/1197 [==============================] - 3s 3ms/sample - loss: 5.7228e-04 - val_loss: 2.6351e-04\n",
      "Epoch 95/100\n",
      "1197/1197 [==============================] - 3s 3ms/sample - loss: 5.6061e-04 - val_loss: 2.9452e-04\n",
      "Epoch 96/100\n",
      "1197/1197 [==============================] - 3s 3ms/sample - loss: 6.0006e-04 - val_loss: 2.8288e-04\n",
      "Epoch 97/100\n",
      "1197/1197 [==============================] - 3s 3ms/sample - loss: 6.4577e-04 - val_loss: 4.8300e-04\n",
      "Epoch 98/100\n",
      "1197/1197 [==============================] - 3s 3ms/sample - loss: 6.9285e-04 - val_loss: 3.9652e-04\n",
      "Epoch 99/100\n",
      "1197/1197 [==============================] - 3s 3ms/sample - loss: 6.1040e-04 - val_loss: 2.4247e-04\n",
      "Epoch 100/100\n",
      "1100/1197 [==========================>...] - ETA: 0s - loss: 5.5668e-04\n",
      "Epoch 00100: saving model to ./model/LSTM_02_check_point/cp-0100.ckpt\n",
      "1197/1197 [==============================] - 3s 3ms/sample - loss: 5.6621e-04 - val_loss: 3.3728e-04\n"
     ]
    }
   ],
   "source": [
    "from tensorflow.keras.callbacks import ModelCheckpoint\n",
    "import os\n",
    "name = 'LSTM_02'\n",
    "checkpoint_file = './model/' + name + '_check_point/cp-{epoch:04d}.ckpt'\n",
    "try:\n",
    "    os.mkdir('./model/' + name + '_check_point/')\n",
    "except:\n",
    "    pass\n",
    "\n",
    "# get what we want\n",
    "train_input = train_x[:, :, :1]\n",
    "train_label = train_y[:, :, :1]\n",
    "test_input = test_x[:, :, :1]\n",
    "test_label = test_y[:, :, :1]\n",
    "train_label = np.squeeze(train_label, axis=-1)\n",
    "test_label = np.squeeze(test_label, axis=-1)\n",
    "\n",
    "# create callback function\n",
    "cp_callback = ModelCheckpoint(checkpoint_file, save_weights_only=True, verbose=1, period=10)\n",
    "\n",
    "# train the model\n",
    "train = model.fit(train_input, train_label, epochs=100, batch_size=100, callbacks=[cp_callback], \n",
    "                  validation_data=(test_input, test_label))\n",
    "\n",
    "# save model\n",
    "model.save('./model/' + name + '.h5')"
   ]
  },
  {
   "cell_type": "code",
   "execution_count": 7,
   "metadata": {},
   "outputs": [
    {
     "data": {
      "image/png": "[encoded data removed]",
      "text/plain": [
       "<Figure size 432x288 with 1 Axes>"
      ]
     },
     "metadata": {
      "needs_background": "light"
     },
     "output_type": "display_data"
    }
   ],
   "source": [
    "plt.plot(train.history['loss'])\n",
    "plt.plot(train.history['val_loss'])\n",
    "plt.title('model loss')\n",
    "plt.ylabel('loss')\n",
    "plt.xlabel('epoch')\n",
    "plt.legend(['train', 'test'], loc='upper right')\n",
    "plt.show()"
   ]
  },
  {
   "cell_type": "code",
   "execution_count": 8,
   "metadata": {},
   "outputs": [
    {
     "name": "stdout",
     "output_type": "stream",
     "text": [
      "(20, 1) [[784.84283331]\n",
      " [794.49138544]\n",
      " [792.15157807]\n",
      " [801.3193889 ]\n",
      " [812.59665985]\n",
      " [814.04953301]\n",
      " [811.16790861]\n",
      " [813.34186518]\n",
      " [813.63110197]\n",
      " [813.27794054]\n",
      " [811.97921577]\n",
      " [811.2250988 ]\n",
      " [812.98023984]\n",
      " [813.2617867 ]\n",
      " [828.51762938]\n",
      " [835.93718544]\n",
      " [844.18879957]\n",
      " [841.06380415]\n",
      " [820.85356022]\n",
      " [802.87068932]]\n"
     ]
    }
   ],
   "source": [
    "output = model.predict(test_input)\n",
    "output_prices = sc.getInverseData(output) * test_data_t[:, :1] + test_data_t[:, :1]\n",
    "print(output_prices.shape, output_prices)"
   ]
  },
  {
   "cell_type": "code",
   "execution_count": 9,
   "metadata": {},
   "outputs": [
    {
     "data": {
      "image/png": "[encoded data removed]",
      "text/plain": [
       "<Figure size 432x288 with 1 Axes>"
      ]
     },
     "metadata": {
      "needs_background": "light"
     },
     "output_type": "display_data"
    }
   ],
   "source": [
    "# Visualising the results\n",
    "plt.plot(test_data_t[1:, 0], color = 'red', label = 'Real Google Stock Price')\n",
    "plt.plot(output_prices[:, 0], color = 'blue', label = 'Predicted Google Stock Price')\n",
    "plt.title('Prediction')\n",
    "plt.xlabel('Time(days)')\n",
    "plt.ylabel('Real')\n",
    "plt.legend()\n",
    "plt.show()"
   ]
  }
 ],
 "metadata": {
  "kernelspec": {
   "display_name": "Python 3",
   "language": "python",
   "name": "python3"
  },
  "language_info": {
   "codemirror_mode": {
    "name": "ipython",
    "version": 3
   },
   "file_extension": ".py",
   "mimetype": "text/x-python",
   "name": "python",
   "nbconvert_exporter": "python",
   "pygments_lexer": "ipython3",
   "version": "3.5.3"
  }
 },
 "nbformat": 4,
 "nbformat_minor": 2
}
