{
 "cells": [
  {
   "cell_type": "markdown",
   "metadata": {},
   "source": [
    "# Testing stock\n",
    "\n",
    "* 時間, `最近成交價`, `當盤成交量`, `累積成交量`, `最佳五檔（賣價）`, `最佳五檔（賣量）`, `最佳五檔（買價）`, `最佳五檔（買量）`"
   ]
  },
  {
   "cell_type": "code",
   "execution_count": 1,
   "metadata": {},
   "outputs": [],
   "source": [
    "import re\n",
    "import numpy as np\n",
    "\n",
    "def getDataset(path):\n",
    "    dataset = []\n",
    "    with open(path, 'r') as fp:\n",
    "        for i in range(500):\n",
    "            data = fp.readline()\n",
    "            if len(data) == 0:\n",
    "                break\n",
    "            data = data.replace('-', '0')\n",
    "            data = re.split(',|\\n', data)[1:-1]\n",
    "            data[3] = data[3].split('_')[0]\n",
    "            data[4] = data[4].split('_')[0]\n",
    "            data[5] = data[5].split('_')[0]\n",
    "            data[6] = data[6].split('_')[0]\n",
    "            try:\n",
    "                dataset.append(np.asarray(data, dtype=np.float))\n",
    "            except ValueError:\n",
    "                print(data)\n",
    "                \n",
    "    return np.asarray(dataset)"
   ]
  },
  {
   "cell_type": "markdown",
   "metadata": {},
   "source": [
    "# import tools"
   ]
  },
  {
   "cell_type": "code",
   "execution_count": 2,
   "metadata": {},
   "outputs": [],
   "source": [
    "from tools import MinMaxScaler, stockEvn_single"
   ]
  },
  {
   "cell_type": "markdown",
   "metadata": {},
   "source": [
    "# create dataset\n",
    "* 1. price use MinMaxScaler with offset 0.1\n",
    "* 2. trading volume using local MinMaxScaler\n",
    "* 3. best 1 sell price use MinMaxScaler in 1.\n",
    "* 4. best 1 buy price use MinMaxScaler in 1.\n",
    "* 5. if sell count > buy count than > 0.5"
   ]
  },
  {
   "cell_type": "code",
   "execution_count": 3,
   "metadata": {},
   "outputs": [],
   "source": [
    "choose = 500\n",
    "\n",
    "def create_dataset(path, input_days=60, offset_choose=0.01):\n",
    "    dataset = getDataset(path)\n",
    "    price_sc = MinMaxScaler()\n",
    "    price_sc.getScalerData(np.array([dataset[0][0]]), offset=0.1, feature_range=(0, 1))\n",
    "    y_true = np.copy(dataset[:, 0])\n",
    "    dataset[:, [0, 3, 5]] = price_sc.getTransformData(dataset[:, [0, 3, 5]])\n",
    "    output = []\n",
    "    label = []\n",
    "    for i in range(input_days, choose):\n",
    "        temp = dataset[i-input_days:i]\n",
    "        # create total set\n",
    "        temp_sc = MinMaxScaler()\n",
    "        a = dataset[i-input_days:i, [0, 3, 5]]\n",
    "        y = y_true[i]\n",
    "        b = temp_sc.getScalerData(temp[:, 1:2])\n",
    "        sell_count = temp[:, 4:5]\n",
    "        buy_count = temp[:, 6:7]\n",
    "        temp_scale = np.absolute(sell_count - buy_count) / np.maximum(sell_count, buy_count) / 2\n",
    "        c = np.where(sell_count > buy_count, 0.5+temp_scale, 0.5-temp_scale)\n",
    "        output.append(np.append(np.append(a, b, axis=-1), c, axis=-1))\n",
    "        label.append(y)\n",
    "    output = np.asarray(output, dtype=np.float)\n",
    "    label = np.asarray(label, dtype=np.float)\n",
    "    return output, label, price_sc.getParameter()"
   ]
  },
  {
   "cell_type": "markdown",
   "metadata": {},
   "source": [
    "# Create model"
   ]
  },
  {
   "cell_type": "code",
   "execution_count": 4,
   "metadata": {},
   "outputs": [],
   "source": [
    "RADAM = False\n",
    "if RADAM:\n",
    "    from keras_radam import RAdam\n",
    "    from keras_lookahead import Lookahead\n",
    "    optimizer = Lookahead(RAdam())\n",
    "else:\n",
    "    optimizer = 'adam'\n",
    "\n",
    "\n",
    "input_days = 30\n",
    "period = 1\n",
    "epochs = 1\n",
    "# batch_size = 1"
   ]
  },
  {
   "cell_type": "code",
   "execution_count": 5,
   "metadata": {},
   "outputs": [
    {
     "name": "stdout",
     "output_type": "stream",
     "text": [
      "WARNING:tensorflow:From C:\\Users\\DVLAB\\AppData\\anaconda3\\envs\\dlib\\lib\\site-packages\\tensorflow\\python\\ops\\resource_variable_ops.py:435: colocate_with (from tensorflow.python.framework.ops) is deprecated and will be removed in a future version.\n",
      "Instructions for updating:\n",
      "Colocations handled automatically by placer.\n",
      "_________________________________________________________________\n",
      "Layer (type)                 Output Shape              Param #   \n",
      "=================================================================\n",
      "cu_dnnlstm (CuDNNLSTM)       (None, 30, 50)            11400     \n",
      "_________________________________________________________________\n",
      "cu_dnnlstm_1 (CuDNNLSTM)     (None, 30, 50)            20400     \n",
      "_________________________________________________________________\n",
      "cu_dnnlstm_2 (CuDNNLSTM)     (None, 30, 50)            20400     \n",
      "_________________________________________________________________\n",
      "flatten (Flatten)            (None, 1500)              0         \n",
      "_________________________________________________________________\n",
      "dense (Dense)                (None, 128)               192128    \n",
      "_________________________________________________________________\n",
      "dense_1 (Dense)              (None, 40)                5160      \n",
      "_________________________________________________________________\n",
      "dense_2 (Dense)              (None, 3)                 123       \n",
      "=================================================================\n",
      "Total params: 249,611\n",
      "Trainable params: 249,611\n",
      "Non-trainable params: 0\n",
      "_________________________________________________________________\n"
     ]
    }
   ],
   "source": [
    "# LSTM Training\n",
    "\n",
    "from tensorflow.keras.models import Sequential\n",
    "from tensorflow.keras.layers import CuDNNLSTM, Dense, Dropout, Flatten\n",
    "from tensorflow.keras.utils import plot_model\n",
    "\n",
    "model = Sequential()\n",
    "\n",
    "model.add(CuDNNLSTM(units = 50, return_sequences = True, input_shape = (input_days, 5)))\n",
    "model.add(CuDNNLSTM(units = 50, return_sequences = True))\n",
    "model.add(CuDNNLSTM(units = 50, return_sequences = True))\n",
    "model.add(Flatten())\n",
    "model.add(Dense(units = 128, activation='relu'))\n",
    "model.add(Dense(units = 40, activation='relu'))\n",
    "model.add(Dense(units = 3, activation='softmax'))\n",
    "model.summary()\n",
    "plot_model(model, 'model.png')"
   ]
  },
  {
   "cell_type": "markdown",
   "metadata": {},
   "source": [
    "# Define loss function"
   ]
  },
  {
   "cell_type": "code",
   "execution_count": 6,
   "metadata": {},
   "outputs": [],
   "source": [
    "# max_delta_1 = 0.5\n",
    "# min_delta_1 = 0.001\n",
    "# max_delta_2 = 0.5\n",
    "# min_delta_2 = 0.001"
   ]
  },
  {
   "cell_type": "code",
   "execution_count": 7,
   "metadata": {},
   "outputs": [],
   "source": [
    "import tensorflow.keras.backend as K\n",
    "import tensorflow as tf\n",
    "\n",
    "scale = np.array([0.7, 0.2, 0.1]) # buy, sell do_nothing\n",
    "delta_d = 0.000001\n",
    "theta = 0.01\n",
    "\n",
    "def calculateLoss(y_true, y_pred):\n",
    "    # create env\n",
    "#     global max_delta_1\n",
    "#     global min_delta_1\n",
    "#     global max_delta_2\n",
    "#     global min_delta_2\n",
    "#     delta_1 = (max_delta_1 + min_delta_1) / 2\n",
    "#     delta_2 = (max_delta_2 + min_delta_2) / 2\n",
    "    env = stockEvn_single(handling_fee=0.01, transaction_tax=0.003)\n",
    "    # get MinMaxScaler\n",
    "    sc = MinMaxScaler()\n",
    "    sc.updatePatameter(sc_parameter)\n",
    "    # change tensor to numpy\n",
    "    y_pred_numpy = K.eval(y_pred)\n",
    "    y_true_numpy = K.eval(y_true)\n",
    "    # get y real\n",
    "    y_real = sc.getInverseData(y_true_numpy)\n",
    "    y_action = np.argmax(y_pred_numpy, axis=-1)\n",
    "    init_assets = env.getAssets()\n",
    "    count_action = np.array([], dtype=np.float32)\n",
    "    count_action = np.append(count_action, np.where(y_action == 2)[0].shape[0])\n",
    "    count_action = np.append(count_action, np.where(y_action == 0)[0].shape[0])\n",
    "    count_action = np.append(count_action, np.where(y_action == 1)[0].shape[0])\n",
    "    for i, action in enumerate(y_action):\n",
    "#         loss_t = env.doAction(y_real[i], action, 1.)\n",
    "        loss_t = env.doAction(y_real[i], action, y_pred_numpy[i, action])\n",
    "#         loss += loss_t\n",
    "    final_assets = env.getAssets_train()\n",
    "    reward = final_assets - init_assets\n",
    "    if reward > 0:\n",
    "        loss = (1 / (1+reward))\n",
    "    elif reward < 0:\n",
    "        loss = (1 + 1 / (1+reward))\n",
    "    else:\n",
    "        loss = 1.\n",
    "        \n",
    "    count = i + 1\n",
    "    count_loss = np.sum(np.abs(count_action - count * scale))\n",
    "    temp_min = min(count_action[[0, 1]])\n",
    "    temp_max = max(count_action[[0, 1]])\n",
    "    if temp_max == 0:\n",
    "        temp_max = 1\n",
    "    count_buy_sell_loss = temp_min / temp_max\n",
    "    loss *= count_loss / count\n",
    "    loss += 1. - count_buy_sell_loss\n",
    "#     if count_buy_sell_loss < 0.7:\n",
    "#         min_delta_1 += delta_d\n",
    "#         max_delta_1 += delta_d\n",
    "#     else:\n",
    "#         max_delta_1 -= delta_d\n",
    "#         min_delta_1 -= delta_d\n",
    "#     if count_loss > 0.7 * count:\n",
    "#         min_delta_2 += delta_d\n",
    "#         max_delta_2 += delta_d\n",
    "#     else:\n",
    "#         max_delta_2 -= delta_d\n",
    "#         min_delta_2 -= delta_d\n",
    "    return theta * loss\n",
    "    \n",
    "def envLoss(y_true, y_pred):\n",
    "    loss = tf.py_function(calculateLoss, [y_true, y_pred], Tout=tf.float32)\n",
    "    return loss"
   ]
  },
  {
   "cell_type": "markdown",
   "metadata": {},
   "source": [
    "# Training the model"
   ]
  },
  {
   "cell_type": "code",
   "execution_count": 8,
   "metadata": {},
   "outputs": [],
   "source": [
    "import os\n",
    "\n",
    "dataset_path = \"./dataset/Taiwan_5s/\"\n",
    "paths = np.load(dataset_path + 'paths_500.npy')\n",
    "\n",
    "name = 'rl_01'\n",
    "checkpoint_file = './model/' + name + '_check_point/cp-{epoch:04d}.ckpt'\n",
    "try:\n",
    "    os.mkdir('./model/' + name + '_check_point/')\n",
    "except:\n",
    "    pass"
   ]
  },
  {
   "cell_type": "code",
   "execution_count": 9,
   "metadata": {
    "scrolled": true
   },
   "outputs": [
    {
     "name": "stdout",
     "output_type": "stream",
     "text": [
      "WARNING:tensorflow:From C:\\Users\\DVLAB\\AppData\\anaconda3\\envs\\dlib\\lib\\site-packages\\tensorflow\\python\\ops\\math_ops.py:3066: to_int32 (from tensorflow.python.ops.math_ops) is deprecated and will be removed in a future version.\n",
      "Instructions for updating:\n",
      "Use tf.cast instead.\n",
      "470/470 [==============================] - 2s 5ms/sample - loss: 0.0162\n",
      "470/470 [==============================] - 0s 32us/sample - loss: 0.0222\n",
      "470/470 [==============================] - 0s 32us/sample - loss: 0.0177\n",
      "470/470 [==============================] - 0s 28us/sample - loss: 0.0233\n",
      "470/470 [==============================] - 0s 30us/sample - loss: 0.0226\n",
      "470/470 [==============================] - 0s 32us/sample - loss: 0.0185\n",
      "470/470 [==============================] - 0s 28us/sample - loss: 0.0233\n",
      "470/470 [==============================] - 0s 30us/sample - loss: 0.0230\n",
      "470/470 [==============================] - 0s 30us/sample - loss: 0.0151\n"
     ]
    },
    {
     "name": "stderr",
     "output_type": "stream",
     "text": [
      "D:\\programming\\Johnny\\stock\\tools.py:24: RuntimeWarning: divide by zero encountered in double_scalars\n",
      "  self.__scale = (feature_range[1] - feature_range[0]) / self.__range\n",
      "D:\\programming\\Johnny\\stock\\tools.py:27: RuntimeWarning: invalid value encountered in multiply\n",
      "  return (dataset - self.__min) * self.__scale + self.__feature_range[0]\n"
     ]
    },
    {
     "name": "stdout",
     "output_type": "stream",
     "text": [
      "470/470 [==============================] - 0s 28us/sample - loss: 0.0245\n",
      "470/470 [==============================] - 0s 30us/sample - loss: 0.0174\n",
      "470/470 [==============================] - 0s 32us/sample - loss: 0.0146\n",
      "470/470 [==============================] - 0s 30us/sample - loss: 0.0196\n",
      "470/470 [==============================] - 0s 25us/sample - loss: 0.0270\n",
      "470/470 [==============================] - 0s 23us/sample - loss: 0.0273\n",
      "470/470 [==============================] - 0s 25us/sample - loss: 0.0250\n",
      "470/470 [==============================] - 0s 32us/sample - loss: 0.0181\n",
      "470/470 [==============================] - 0s 25us/sample - loss: 0.0260\n",
      "470/470 [==============================] - 0s 25us/sample - loss: 0.0278\n",
      "470/470 [==============================] - 0s 25us/sample - loss: 0.0270\n",
      "470/470 [==============================] - 0s 28us/sample - loss: 0.0240\n",
      "470/470 [==============================] - 0s 30us/sample - loss: 0.0222\n",
      "470/470 [==============================] - 0s 25us/sample - loss: 0.0260\n",
      "470/470 [==============================] - 0s 30us/sample - loss: 0.0228\n",
      "470/470 [==============================] - 0s 23us/sample - loss: 0.0213\n",
      "470/470 [==============================] - 0s 23us/sample - loss: 0.0274\n",
      "...\n",
      "...\n",
      "...\n",
      "470/470 [==============================] - 0s 25us/sample - loss: 0.0264\n",
      "470/470 [==============================] - 0s 32us/sample - loss: 0.0205\n",
      "470/470 [==============================] - 0s 28us/sample - loss: 0.0205\n",
      "470/470 [==============================] - 0s 30us/sample - loss: 0.0225\n",
      "470/470 [==============================] - 0s 30us/sample - loss: 0.0207\n",
      "470/470 [==============================] - 0s 32us/sample - loss: 0.0139\n",
      "470/470 [==============================] - 0s 28us/sample - loss: 0.0256\n",
      "470/470 [==============================] - 0s 28us/sample - loss: 0.0260\n",
      "470/470 [==============================] - 0s 32us/sample - loss: 0.0140\n",
      "470/470 [==============================] - 0s 30us/sample - loss: 0.0209\n",
      "470/470 [==============================] - 0s 32us/sample - loss: 0.0219\n",
      "470/470 [==============================] - 0s 30us/sample - loss: 0.0210\n",
      "470/470 [==============================] - 0s 28us/sample - loss: 0.0207\n",
      "470/470 [==============================] - 0s 25us/sample - loss: 0.0240\n",
      "470/470 [==============================] - 0s 30us/sample - loss: 0.0271\n",
      "470/470 [==============================] - 0s 30us/sample - loss: 0.0199\n",
      "470/470 [==============================] - 0s 32us/sample - loss: 0.0226\n",
      "470/470 [==============================] - 0s 32us/sample - loss: 0.0186\n"
     ]
    }
   ],
   "source": [
    "from tensorflow.keras.callbacks import ModelCheckpoint\n",
    "from functools import partial\n",
    "\n",
    "sc_parameter = None\n",
    "# create callback function\n",
    "cp_callback = ModelCheckpoint(checkpoint_file, save_weights_only=True, verbose=1, period=period)\n",
    "model.compile(optimizer = optimizer, loss = envLoss)\n",
    "# training\n",
    "train_history = []\n",
    "for i in range(epochs):\n",
    "    for j, path in enumerate(paths):\n",
    "        if j > 1500:\n",
    "            break\n",
    "        x, y, sc_parameter = create_dataset(path=path, input_days=input_days)\n",
    "        x[np.isnan(x)] = 0\n",
    "        batch_size = x.shape[0]\n",
    "        # train the model\n",
    "        train = model.fit(x, y, epochs=1, batch_size=batch_size, callbacks=[], validation_split=0.0, shuffle=True)\n",
    "        train_history.append(train.history['loss'])\n",
    "        # save model\n",
    "#         model.save('./model/' + name + '.h5')"
   ]
  },
  {
   "cell_type": "code",
   "execution_count": 10,
   "metadata": {},
   "outputs": [
    {
     "data": {
      "image/png": "[encoded data removed]",
      "text/plain": [
       "<Figure size 432x288 with 1 Axes>"
      ]
     },
     "metadata": {
      "needs_background": "light"
     },
     "output_type": "display_data"
    }
   ],
   "source": [
    "import matplotlib.pyplot as plt\n",
    "%matplotlib inline\n",
    "\n",
    "plt.plot(train_history)\n",
    "plt.title('model loss')\n",
    "plt.ylabel('loss')\n",
    "plt.xlabel('epoch')\n",
    "plt.legend(['train'], loc='upper right')\n",
    "plt.show()"
   ]
  },
  {
   "cell_type": "code",
   "execution_count": 11,
   "metadata": {},
   "outputs": [
    {
     "name": "stdout",
     "output_type": "stream",
     "text": [
      "(470,) [1 1 1 1 1 1 1 1 1 1 1 1 1 1 1 1 1 1 1 1 1 1 1 1 1 1 1 1 1 1 1 1 1 1 1 1 1\n",
      " 1 1 1 1 1 1 1 1 2 2 2 2 1 1 1 1 1 1 1 1 1 1 1 1 1 1 1 1 1 1 1 1 1 1 1 1 1\n",
      " 1 1 1 1 1 1 1 1 1 1 1 1 1 1 1 1 1 1 1 1 1 1 1 1 1 1 1 1 1 1 1 1 1 1 1 1 1\n",
      " 1 1 1 1 1 1 1 1 1 1 1 1 1 1 1 1 1 1 1 1 1 1 1 1 1 1 1 1 1 1 1 1 1 1 1 1 1\n",
      " 1 1 1 1 1 1 1 1 1 1 1 1 1 1 1 1 1 1 1 1 1 1 1 1 1 1 1 1 1 1 1 1 1 1 1 1 1\n",
      " 1 1 1 1 1 1 1 1 1 1 1 1 1 1 1 1 1 1 1 1 1 1 1 1 1 1 1 1 1 1 1 1 1 1 1 1 1\n",
      " 1 1 1 1 1 1 1 1 1 1 1 1 1 1 1 1 1 1 1 1 1 1 1 1 1 1 1 1 1 1 1 1 1 1 1 1 1\n",
      " 1 1 1 1 1 1 1 1 1 1 1 1 1 1 1 1 1 1 1 1 1 1 1 1 1 1 1 1 1 1 1 1 1 1 1 1 1\n",
      " 1 1 1 1 1 1 1 1 1 1 1 1 1 1 1 1 1 1 1 1 1 1 1 1 1 1 1 1 1 1 1 1 1 1 1 1 0\n",
      " 0 0 0 0 1 1 1 1 1 1 1 1 1 1 1 1 1 1 1 1 1 1 1 1 1 1 1 1 1 1 1 1 1 1 1 1 1\n",
      " 1 1 1 1 1 1 1 1 1 1 1 1 1 1 1 1 1 1 1 1 1 1 1 1 1 1 1 1 1 1 1 1 1 1 1 1 1\n",
      " 1 1 1 1 1 1 1 1 1 1 1 1 1 1 1 1 1 0 0 0 0 0 0 0 0 0 0 0 0 0 0 0 0 0 0 0 0\n",
      " 0 0 0 0 0 0 0 0 0 0 0 0 0 0 0 0 0 0 0 0 0 1 1 1 1 1]\n"
     ]
    }
   ],
   "source": [
    "test_x, test_y, sc_parameter = create_dataset(path=paths[1755], input_days=input_days)\n",
    "test_x[np.isnan(test_x)] = 0\n",
    "pred = np.argmax(model.predict(test_x), axis=-1)\n",
    "print(pred.shape, pred)"
   ]
  },
  {
   "cell_type": "code",
   "execution_count": 12,
   "metadata": {},
   "outputs": [
    {
     "name": "stdout",
     "output_type": "stream",
     "text": [
      "(470,)\n"
     ]
    },
    {
     "data": {
      "image/png": "[encoded data removed]",
      "text/plain": [
       "<Figure size 432x288 with 1 Axes>"
      ]
     },
     "metadata": {
      "needs_background": "light"
     },
     "output_type": "display_data"
    }
   ],
   "source": [
    "import matplotlib.pyplot as plt\n",
    "%matplotlib inline\n",
    "\n",
    "test_sc = MinMaxScaler()\n",
    "test_sc.updatePatameter(sc_parameter)\n",
    "test_real = test_x[:, -1, 0]\n",
    "test_real = test_sc.getInverseData(test_real)\n",
    "output_action = pred\n",
    "print(test_real.shape)\n",
    "\n",
    "# Visualising the results\n",
    "plot = test_real\n",
    "sell = np.where(output_action==0)\n",
    "do_nothing = np.where(output_action==1)\n",
    "buy = np.where(output_action==2)\n",
    "plt.plot(plot, color = 'blue', label = 'Real')\n",
    "plt.scatter(sell, plot[sell], color = 'green', label = 'sell')\n",
    "plt.scatter(do_nothing, plot[do_nothing], color = 'gray', label = 'do nothing')\n",
    "plt.scatter(buy, plot[buy], color = 'red', label = 'buy')\n",
    "# plt.plot(output_prices, color = 'blue', label = 'Predicted Google Stock Price')\n",
    "plt.title('Prediction')\n",
    "plt.xlabel('Time(days)')\n",
    "plt.ylabel('Real')\n",
    "plt.legend()\n",
    "plt.show()"
   ]
  },
  {
   "cell_type": "markdown",
   "metadata": {},
   "source": [
    "# import env"
   ]
  },
  {
   "cell_type": "code",
   "execution_count": 13,
   "metadata": {},
   "outputs": [],
   "source": [
    "from tools import stockEvn_single as single_env\n",
    "\n",
    "env = single_env()\n",
    "\n",
    "test_sc = MinMaxScaler()\n",
    "test_sc.updatePatameter(sc_parameter)\n",
    "\n",
    "\n",
    "def predict_once(index):\n",
    "    info = env.getInfo()\n",
    "    result = []\n",
    "    stock_value = [info['stock value']]\n",
    "    test_x, test_y, sc_parameter = create_dataset(path=paths[index], input_days=input_days)\n",
    "    test_x[np.isnan(test_x)] = 0\n",
    "    model_pred = model.predict(test_x)\n",
    "    pred = np.argmax(model_pred, axis=-1)\n",
    "    test_real = test_x[:, -1, 0]\n",
    "    test_real = test_sc.getInverseData(test_real)\n",
    "    output_action = pred\n",
    "    for i, action in enumerate(output_action):\n",
    "        env.doAction(test_real[i], action, model_pred[i, action])\n",
    "        info = env.getInfo()\n",
    "        stock_value.append(info['stock value'])\n",
    "    result.append(env.getAssets())\n",
    "    env.doAction(test_real[-1], 0, 1)\n",
    "    return result, stock_value"
   ]
  },
  {
   "cell_type": "code",
   "execution_count": 17,
   "metadata": {},
   "outputs": [
    {
     "data": {
      "image/png": "[encoded data removed]",
      "text/plain": [
       "<Figure size 432x288 with 1 Axes>"
      ]
     },
     "metadata": {
      "needs_background": "light"
     },
     "output_type": "display_data"
    }
   ],
   "source": [
    "total_assets = np.array([])\n",
    "env = single_env(handling_fee=None, transaction_tax=None)\n",
    "# env = single_env(handling_fee=0., transaction_tax=0.)\n",
    "\n",
    "for i in range(1501, 1901):\n",
    "#     if i != 1501:\n",
    "#         continue\n",
    "    assets, stock_value = predict_once(i)\n",
    "    total_assets = np.append(total_assets, np.asarray(assets))\n",
    "\n",
    "# Visualising the results\n",
    "plt.plot(total_assets, color = 'blue', label = 'assets')\n",
    "# plt.plot(stock_value, color = 'red', label = 'stock value')\n",
    "# plt.plot(output_prices, color = 'blue', label = 'Predicted Google Stock Price')\n",
    "plt.title('Prediction')\n",
    "plt.xlabel('Time(moment)')\n",
    "plt.ylabel('Real')\n",
    "plt.legend()\n",
    "plt.show()"
   ]
  },
  {
   "cell_type": "code",
   "execution_count": 15,
   "metadata": {},
   "outputs": [
    {
     "name": "stdout",
     "output_type": "stream",
     "text": [
      "1364.5847572012485\n"
     ]
    }
   ],
   "source": [
    "print(env.getInfo()['handling fee acc'])\n",
    "# print(max_delta_1, min_delta_1)\n",
    "# print(max_delta_2, min_delta_2)"
   ]
  }
 ],
 "metadata": {
  "kernelspec": {
   "display_name": "Python [conda env:dlib]",
   "language": "python",
   "name": "conda-env-dlib-py"
  },
  "language_info": {
   "codemirror_mode": {
    "name": "ipython",
    "version": 3
   },
   "file_extension": ".py",
   "mimetype": "text/x-python",
   "name": "python",
   "nbconvert_exporter": "python",
   "pygments_lexer": "ipython3",
   "version": "3.6.6"
  }
 },
 "nbformat": 4,
 "nbformat_minor": 2
}
