{
 "cells": [
  {
   "cell_type": "markdown",
   "metadata": {},
   "source": [
    "# Testing stock\n",
    "\n",
    "* 時間, `最近成交價`, `當盤成交量`, `累積成交量`, `最佳五檔（賣價）`, `最佳五檔（賣量）`, `最佳五檔（買價）`, `最佳五檔（買量）`"
   ]
  },
  {
   "cell_type": "code",
   "execution_count": 1,
   "metadata": {
    "scrolled": true
   },
   "outputs": [],
   "source": [
    "import re\n",
    "import numpy as np\n",
    "\n",
    "dataset_path = \"./dataset/Taiwan_5s/\"\n",
    "choose = 500\n",
    "\n",
    "def getDataset(path):\n",
    "    dataset = []\n",
    "    with open(path, 'r') as fp:\n",
    "        for i in range(500):\n",
    "            data = fp.readline()\n",
    "            if len(data) == 0:\n",
    "                break\n",
    "            data = data.replace('-', '0')\n",
    "            data = re.split(',|\\n', data)[1:-1]\n",
    "            data[3] = data[3].split('_')[0]\n",
    "            data[4] = data[4].split('_')[0]\n",
    "            data[5] = data[5].split('_')[0]\n",
    "            data[6] = data[6].split('_')[0]\n",
    "            try:\n",
    "                dataset.append(np.asarray(data, dtype=np.float))\n",
    "            except ValueError:\n",
    "                print(data)\n",
    "                \n",
    "    return np.asarray(dataset)"
   ]
  },
  {
   "cell_type": "markdown",
   "metadata": {},
   "source": [
    "# My own MinMaxScaler"
   ]
  },
  {
   "cell_type": "code",
   "execution_count": 2,
   "metadata": {},
   "outputs": [],
   "source": [
    "class MinMaxScaler:\n",
    "    __min = 0.\n",
    "    __max = 1.\n",
    "    __range = 1.\n",
    "    __feature_range = (0, 1)\n",
    "    __scale = 1.\n",
    "    def __init__(self):\n",
    "        pass\n",
    "    def getScalerData(self, dataset, offset=0.1, feature_range=(0, 1)):\n",
    "        data_max = np.max(dataset)\n",
    "        data_min = np.min(dataset)\n",
    "        if len(dataset) == 1:\n",
    "            range_temp = dataset * offset\n",
    "        else:\n",
    "            range_temp = (data_max - data_min) * (1 + offset)\n",
    "        self.__min = data_max - range_temp\n",
    "        self.__max = data_min + range_temp\n",
    "        self.__range = self.__max - self.__min\n",
    "        self.__feature_range = feature_range\n",
    "        self.__scale = (feature_range[1] - feature_range[0]) / self.__range\n",
    "        return self.getTransformData(dataset)\n",
    "    def getTransformData(self, dataset):\n",
    "        return (dataset - self.__min) * self.__scale + self.__feature_range[0]\n",
    "    def getInverseData(self, scalerDataset):\n",
    "        return (scalerDataset - self.__feature_range[0]) / self.__scale + self.__min\n",
    "    def getParameter(self):\n",
    "        return self.__min, self.__max, self.__range, self.__feature_range, self.__scale\n",
    "    def updatePatameter(self, parameter):\n",
    "        self.__min, self.__max, self.__range, self.__feature_range, self.__scale = parameter"
   ]
  },
  {
   "cell_type": "markdown",
   "metadata": {},
   "source": [
    "# create dataset\n",
    "* 1. price use MinMaxScaler with offset 0.1\n",
    "* 2. trading volume using local MinMaxScaler\n",
    "* 3. best 1 sell price use MinMaxScaler in 1.\n",
    "* 4. best 1 buy price use MinMaxScaler in 1.\n",
    "* 5. if sell count > buy count than > 0.5"
   ]
  },
  {
   "cell_type": "code",
   "execution_count": 3,
   "metadata": {},
   "outputs": [],
   "source": [
    "from tensorflow.keras.utils import to_categorical\n",
    "\n",
    "def create_dataset(path, input_days=60, output_days=1):\n",
    "    dataset = getDataset(path)\n",
    "    price_sc = MinMaxScaler()\n",
    "    price_sc.getScalerData(np.array([dataset[0][0]]), offset=0.1, feature_range=(0, 1))\n",
    "    dataset[:, [0, 3, 5]] = price_sc.getTransformData(dataset[:, [0, 3, 5]])\n",
    "    output = []\n",
    "    label = []\n",
    "    for i in range(input_days, choose - output_days + 1):\n",
    "        temp = dataset[i-input_days:i]\n",
    "        # create total set\n",
    "        temp_sc = MinMaxScaler()\n",
    "        a = dataset[i-input_days:i, [0, 3, 5]]\n",
    "        out_temp = dataset[i:i+output_days, 0]\n",
    "        out_max = np.max(out_temp)\n",
    "        out_min = np.min(out_temp)\n",
    "        out_mean = (out_max + out_min) / 2\n",
    "        in_data = a[-1, 0]\n",
    "        if in_data < out_mean:\n",
    "            y = 2\n",
    "        elif in_data > out_mean:\n",
    "            y = 0\n",
    "        else :\n",
    "            y = 1\n",
    "        b = temp_sc.getScalerData(temp[:, 1:2])\n",
    "        sell_count = temp[:, 4:5]\n",
    "        buy_count = temp[:, 6:7]\n",
    "        temp_scale = np.absolute(sell_count - buy_count) / np.maximum(sell_count, buy_count) / 2\n",
    "        c = np.where(sell_count > buy_count, 0.5+temp_scale, 0.5-temp_scale)\n",
    "        output.append(np.append(np.append(a, b, axis=-1), c, axis=-1))\n",
    "        label.append(y)\n",
    "    output = np.asarray(output, dtype=np.float)\n",
    "    label = to_categorical(np.asarray(label, dtype=np.float), num_classes=3)\n",
    "    return output, label, price_sc.getParameter()"
   ]
  },
  {
   "cell_type": "code",
   "execution_count": 4,
   "metadata": {},
   "outputs": [
    {
     "name": "stderr",
     "output_type": "stream",
     "text": [
      "C:\\Users\\DVLAB\\AppData\\anaconda3\\envs\\dlib\\lib\\site-packages\\ipykernel_launcher.py:20: RuntimeWarning: divide by zero encountered in double_scalars\n",
      "C:\\Users\\DVLAB\\AppData\\anaconda3\\envs\\dlib\\lib\\site-packages\\ipykernel_launcher.py:23: RuntimeWarning: invalid value encountered in multiply\n"
     ]
    },
    {
     "name": "stdout",
     "output_type": "stream",
     "text": [
      "(144781, 10, 5) (144781, 3)\n"
     ]
    }
   ],
   "source": [
    "input_days = 10\n",
    "output_days = 10\n",
    "\n",
    "paths = np.load(dataset_path + 'paths_500.npy')\n",
    "\n",
    "x = np.empty((0, input_days, 5), dtype=np.float)\n",
    "y = np.empty((0, 3), dtype=np.float)\n",
    "\n",
    "for i, path in enumerate(paths):\n",
    "    if i > 300:\n",
    "        break\n",
    "    x_temp, y_temp, sc_parameter = create_dataset(path=path, input_days=input_days, output_days=output_days)\n",
    "    x = np.append(x, x_temp, axis=0)\n",
    "    y = np.append(y, y_temp, axis=0)\n",
    "\n",
    "x[np.isnan(x)] = 0\n",
    "    \n",
    "print(x.shape, y.shape)"
   ]
  },
  {
   "cell_type": "markdown",
   "metadata": {},
   "source": [
    "# Autoencoder"
   ]
  },
  {
   "cell_type": "code",
   "execution_count": 5,
   "metadata": {},
   "outputs": [
    {
     "name": "stdout",
     "output_type": "stream",
     "text": [
      "WARNING:tensorflow:From C:\\Users\\DVLAB\\AppData\\anaconda3\\envs\\dlib\\lib\\site-packages\\tensorflow\\python\\ops\\resource_variable_ops.py:435: colocate_with (from tensorflow.python.framework.ops) is deprecated and will be removed in a future version.\n",
      "Instructions for updating:\n",
      "Colocations handled automatically by placer.\n",
      "WARNING:tensorflow:From C:\\Users\\DVLAB\\AppData\\anaconda3\\envs\\dlib\\lib\\site-packages\\tensorflow\\python\\keras\\utils\\losses_utils.py:170: to_float (from tensorflow.python.ops.math_ops) is deprecated and will be removed in a future version.\n",
      "Instructions for updating:\n",
      "Use tf.cast instead.\n",
      "_________________________________________________________________\n",
      "Layer (type)                 Output Shape              Param #   \n",
      "=================================================================\n",
      "input_1 (InputLayer)         (None, 10, 5)             0         \n",
      "_________________________________________________________________\n",
      "flatten (Flatten)            (None, 50)                0         \n",
      "_________________________________________________________________\n",
      "dense (Dense)                (None, 256)               13056     \n",
      "_________________________________________________________________\n",
      "dense_1 (Dense)              (None, 128)               32896     \n",
      "_________________________________________________________________\n",
      "dense_2 (Dense)              (None, 64)                8256      \n",
      "_________________________________________________________________\n",
      "dense_3 (Dense)              (None, 30)                1950      \n",
      "_________________________________________________________________\n",
      "dense_4 (Dense)              (None, 64)                1984      \n",
      "_________________________________________________________________\n",
      "dense_5 (Dense)              (None, 128)               8320      \n",
      "_________________________________________________________________\n",
      "dense_6 (Dense)              (None, 256)               33024     \n",
      "_________________________________________________________________\n",
      "dense_7 (Dense)              (None, 50)                12850     \n",
      "_________________________________________________________________\n",
      "reshape (Reshape)            (None, 10, 5)             0         \n",
      "=================================================================\n",
      "Total params: 112,336\n",
      "Trainable params: 112,336\n",
      "Non-trainable params: 0\n",
      "_________________________________________________________________\n",
      "_________________________________________________________________\n",
      "Layer (type)                 Output Shape              Param #   \n",
      "=================================================================\n",
      "input_1 (InputLayer)         (None, 10, 5)             0         \n",
      "_________________________________________________________________\n",
      "flatten (Flatten)            (None, 50)                0         \n",
      "_________________________________________________________________\n",
      "dense (Dense)                (None, 256)               13056     \n",
      "_________________________________________________________________\n",
      "dense_1 (Dense)              (None, 128)               32896     \n",
      "_________________________________________________________________\n",
      "dense_2 (Dense)              (None, 64)                8256      \n",
      "_________________________________________________________________\n",
      "dense_3 (Dense)              (None, 30)                1950      \n",
      "=================================================================\n",
      "Total params: 56,158\n",
      "Trainable params: 56,158\n",
      "Non-trainable params: 0\n",
      "_________________________________________________________________\n"
     ]
    }
   ],
   "source": [
    "from tensorflow.keras.layers import Input, Dense, Flatten, Reshape\n",
    "from tensorflow.keras.models import Model\n",
    "\n",
    "encoding_dim = 30\n",
    "input_data = Input(shape=(input_days, 5))\n",
    "encoded = Flatten()(input_data)\n",
    "# encoded\n",
    "encoded = Dense(256, activation='relu')(encoded)\n",
    "encoded = Dense(128, activation='relu')(encoded)\n",
    "encoded = Dense(64, activation='relu')(encoded)\n",
    "encoder_output = Dense(encoding_dim)(encoded)\n",
    "\n",
    "# decoded\n",
    "decoded = Dense(64, activation='relu')(encoder_output)\n",
    "decoded = Dense(128, activation='relu')(decoded)\n",
    "decoded = Dense(256, activation='relu')(decoded)\n",
    "decoded = Dense(50, activation='tanh')(decoded)\n",
    "decoded = Reshape((input_days, 5))(decoded)\n",
    "\n",
    "# autoencoder\n",
    "autoencoder = Model(inputs=input_data, outputs=decoded)\n",
    "\n",
    "# create encoded model\n",
    "encoder = Model(inputs=input_data, outputs=encoder_output)\n",
    "\n",
    "# compile\n",
    "autoencoder.compile(optimizer='adam', loss='mse')\n",
    "\n",
    "# summary\n",
    "autoencoder.summary()\n",
    "encoder.summary()"
   ]
  },
  {
   "cell_type": "code",
   "execution_count": 6,
   "metadata": {
    "scrolled": true
   },
   "outputs": [
    {
     "name": "stdout",
     "output_type": "stream",
     "text": [
      "WARNING:tensorflow:From C:\\Users\\DVLAB\\AppData\\anaconda3\\envs\\dlib\\lib\\site-packages\\tensorflow\\python\\ops\\math_ops.py:3066: to_int32 (from tensorflow.python.ops.math_ops) is deprecated and will be removed in a future version.\n",
      "Instructions for updating:\n",
      "Use tf.cast instead.\n",
      "Epoch 1/30\n",
      "144781/144781 [==============================] - 6s 44us/sample - loss: 0.0075\n",
      "Epoch 2/30\n",
      "144781/144781 [==============================] - 5s 34us/sample - loss: 7.2608e-04\n",
      "Epoch 3/30\n",
      "144781/144781 [==============================] - 5s 35us/sample - loss: 3.3880e-04\n",
      "Epoch 4/30\n",
      "144781/144781 [==============================] - 5s 34us/sample - loss: 2.5633e-04\n",
      "Epoch 5/30\n",
      "144781/144781 [==============================] - 5s 34us/sample - loss: 2.2347e-04\n",
      "Epoch 6/30\n",
      "144781/144781 [==============================] - 5s 34us/sample - loss: 2.0844e-04\n",
      "Epoch 7/30\n",
      "144781/144781 [==============================] - 5s 35us/sample - loss: 1.9734e-04\n",
      "Epoch 8/30\n",
      "144781/144781 [==============================] - 5s 35us/sample - loss: 1.8763e-04\n",
      "Epoch 9/30\n",
      "144781/144781 [==============================] - 5s 34us/sample - loss: 1.8624e-04\n",
      "Epoch 10/30\n",
      "144781/144781 [==============================] - 5s 34us/sample - loss: 1.7667e-04\n",
      "Epoch 11/30\n",
      "144781/144781 [==============================] - 5s 35us/sample - loss: 1.7672e-04\n",
      "Epoch 12/30\n",
      "144781/144781 [==============================] - 5s 35us/sample - loss: 1.7845e-04\n",
      "Epoch 13/30\n",
      "144781/144781 [==============================] - 5s 35us/sample - loss: 1.6378e-04\n",
      "Epoch 14/30\n",
      "144781/144781 [==============================] - 5s 35us/sample - loss: 1.6453e-04\n",
      "Epoch 15/30\n",
      "144781/144781 [==============================] - 5s 35us/sample - loss: 1.6908e-04\n",
      "Epoch 16/30\n",
      "144781/144781 [==============================] - 5s 35us/sample - loss: 1.5818e-04\n",
      "Epoch 17/30\n",
      "144781/144781 [==============================] - 5s 35us/sample - loss: 1.6044e-04\n",
      "Epoch 18/30\n",
      "144781/144781 [==============================] - 5s 35us/sample - loss: 1.5695e-04\n",
      "Epoch 19/30\n",
      "144781/144781 [==============================] - 5s 35us/sample - loss: 1.6208e-04\n",
      "Epoch 20/30\n",
      "144781/144781 [==============================] - 5s 34us/sample - loss: 1.5257e-04\n",
      "Epoch 21/30\n",
      "144781/144781 [==============================] - 5s 34us/sample - loss: 1.5910e-04\n",
      "Epoch 22/30\n",
      "144781/144781 [==============================] - 5s 34us/sample - loss: 1.5304e-04\n",
      "Epoch 23/30\n",
      "144781/144781 [==============================] - 5s 35us/sample - loss: 1.4637e-04\n",
      "Epoch 24/30\n",
      "144781/144781 [==============================] - 5s 34us/sample - loss: 1.4999e-04\n",
      "Epoch 25/30\n",
      "144781/144781 [==============================] - 5s 34us/sample - loss: 1.4523e-04\n",
      "Epoch 26/30\n",
      "144781/144781 [==============================] - 5s 34us/sample - loss: 1.4897e-04\n",
      "Epoch 27/30\n",
      "144781/144781 [==============================] - 5s 35us/sample - loss: 1.4745e-04\n",
      "Epoch 28/30\n",
      "144781/144781 [==============================] - 5s 35us/sample - loss: 1.4124e-04\n",
      "Epoch 29/30\n",
      "144781/144781 [==============================] - 5s 34us/sample - loss: 1.4384e-04\n",
      "Epoch 30/30\n",
      "144781/144781 [==============================] - 5s 35us/sample - loss: 1.3847e-04\n"
     ]
    },
    {
     "data": {
      "text/plain": [
       "<tensorflow.python.keras.callbacks.History at 0x1c0fbdde780>"
      ]
     },
     "execution_count": 6,
     "metadata": {},
     "output_type": "execute_result"
    }
   ],
   "source": [
    "autoencoder.fit(x, x, epochs=10, batch_size=100, shuffle=True)"
   ]
  },
  {
   "cell_type": "code",
   "execution_count": 7,
   "metadata": {},
   "outputs": [
    {
     "name": "stdout",
     "output_type": "stream",
     "text": [
      "(144781, 1, 30)\n"
     ]
    }
   ],
   "source": [
    "x_train = np.expand_dims(encoder.predict(x), axis=1)\n",
    "print(x_train.shape)"
   ]
  },
  {
   "cell_type": "markdown",
   "metadata": {},
   "source": [
    "# Create model"
   ]
  },
  {
   "cell_type": "code",
   "execution_count": 8,
   "metadata": {},
   "outputs": [],
   "source": [
    "RADAM = False\n",
    "if RADAM:\n",
    "    from keras_radam import RAdam\n",
    "    from keras_lookahead import Lookahead\n",
    "    optimizer = Lookahead(RAdam())\n",
    "else:\n",
    "    optimizer = 'adam'\n",
    "    \n",
    "period = 5\n",
    "epochs = 50\n",
    "batch_size = 200"
   ]
  },
  {
   "cell_type": "code",
   "execution_count": 9,
   "metadata": {},
   "outputs": [
    {
     "name": "stdout",
     "output_type": "stream",
     "text": [
      "_________________________________________________________________\n",
      "Layer (type)                 Output Shape              Param #   \n",
      "=================================================================\n",
      "cu_dnnlstm (CuDNNLSTM)       (None, 1, 50)             16400     \n",
      "_________________________________________________________________\n",
      "cu_dnnlstm_1 (CuDNNLSTM)     (None, 1, 50)             20400     \n",
      "_________________________________________________________________\n",
      "cu_dnnlstm_2 (CuDNNLSTM)     (None, 1, 50)             20400     \n",
      "_________________________________________________________________\n",
      "flatten_1 (Flatten)          (None, 50)                0         \n",
      "_________________________________________________________________\n",
      "dense_8 (Dense)              (None, 128)               6528      \n",
      "_________________________________________________________________\n",
      "dense_9 (Dense)              (None, 40)                5160      \n",
      "_________________________________________________________________\n",
      "dense_10 (Dense)             (None, 3)                 123       \n",
      "=================================================================\n",
      "Total params: 69,011\n",
      "Trainable params: 69,011\n",
      "Non-trainable params: 0\n",
      "_________________________________________________________________\n"
     ]
    }
   ],
   "source": [
    "# LSTM Training\n",
    "from tensorflow.keras.models import Sequential\n",
    "from tensorflow.keras.layers import CuDNNLSTM, Dense, Dropout, Flatten\n",
    "from tensorflow.keras.utils import plot_model\n",
    "\n",
    "model = Sequential()\n",
    "model.add(CuDNNLSTM(units = 50, return_sequences = True, input_shape = (1, encoding_dim)))\n",
    "model.add(CuDNNLSTM(units = 50, return_sequences = True))\n",
    "model.add(CuDNNLSTM(units = 50, return_sequences = True))\n",
    "model.add(Flatten())\n",
    "model.add(Dense(units = 128, activation='relu'))\n",
    "model.add(Dense(units = 40, activation='relu'))\n",
    "model.add(Dense(units = 3, activation='softmax'))\n",
    "model.compile(optimizer = optimizer, loss = 'categorical_crossentropy')\n",
    "model.summary()\n",
    "plot_model(model, 'model.png')"
   ]
  },
  {
   "cell_type": "markdown",
   "metadata": {},
   "source": [
    "# Training the model"
   ]
  },
  {
   "cell_type": "code",
   "execution_count": 10,
   "metadata": {
    "scrolled": true
   },
   "outputs": [
    {
     "name": "stdout",
     "output_type": "stream",
     "text": [
      "Train on 115824 samples, validate on 28957 samples\n",
      "Epoch 1/50\n",
      "115824/115824 [==============================] - 5s 47us/sample - loss: 1.0513 - val_loss: 1.0494\n",
      "Epoch 2/50\n",
      "115824/115824 [==============================] - 4s 34us/sample - loss: 1.0441 - val_loss: 1.0438\n",
      "Epoch 3/50\n",
      "115824/115824 [==============================] - 4s 35us/sample - loss: 1.0413 - val_loss: 1.0426\n",
      "Epoch 4/50\n",
      "115824/115824 [==============================] - 4s 35us/sample - loss: 1.0403 - val_loss: 1.0449\n",
      "Epoch 5/50\n",
      "115800/115824 [============================>.] - ETA: 0s - loss: 1.0398\n",
      "Epoch 00005: saving model to ./model/model_04_check_point/cp-0005.ckpt\n",
      "WARNING:tensorflow:This model was compiled with a Keras optimizer (<tensorflow.python.keras.optimizers.Adam object at 0x000001C2FC9A24E0>) but is being saved in TensorFlow format with `save_weights`. The model's weights will be saved, but unlike with TensorFlow optimizers in the TensorFlow format the optimizer's state will not be saved.\n",
      "\n",
      "Consider using a TensorFlow optimizer from `tf.train`.\n",
      "WARNING:tensorflow:From C:\\Users\\DVLAB\\AppData\\anaconda3\\envs\\dlib\\lib\\site-packages\\tensorflow\\python\\keras\\engine\\network.py:1436: update_checkpoint_state (from tensorflow.python.training.checkpoint_management) is deprecated and will be removed in a future version.\n",
      "Instructions for updating:\n",
      "Use tf.train.CheckpointManager to manage checkpoints rather than manually editing the Checkpoint proto.\n",
      "115824/115824 [==============================] - 4s 36us/sample - loss: 1.0398 - val_loss: 1.0448\n",
      "Epoch 6/50\n",
      "115824/115824 [==============================] - 4s 35us/sample - loss: 1.0390 - val_loss: 1.0451\n",
      "Epoch 7/50\n",
      "115824/115824 [==============================] - 4s 34us/sample - loss: 1.0385 - val_loss: 1.0429\n",
      "Epoch 8/50\n",
      "115824/115824 [==============================] - 4s 35us/sample - loss: 1.0384 - val_loss: 1.0439\n",
      "Epoch 9/50\n",
      "115824/115824 [==============================] - 4s 35us/sample - loss: 1.0381 - val_loss: 1.0410\n",
      "Epoch 10/50\n",
      "115000/115824 [============================>.] - ETA: 0s - loss: 1.0378\n",
      "Epoch 00010: saving model to ./model/model_04_check_point/cp-0010.ckpt\n",
      "WARNING:tensorflow:This model was compiled with a Keras optimizer (<tensorflow.python.keras.optimizers.Adam object at 0x000001C2FC9A24E0>) but is being saved in TensorFlow format with `save_weights`. The model's weights will be saved, but unlike with TensorFlow optimizers in the TensorFlow format the optimizer's state will not be saved.\n",
      "\n",
      "Consider using a TensorFlow optimizer from `tf.train`.\n",
      "115824/115824 [==============================] - 4s 35us/sample - loss: 1.0377 - val_loss: 1.0417\n",
      "Epoch 11/50\n",
      "115824/115824 [==============================] - 4s 35us/sample - loss: 1.0376 - val_loss: 1.0464\n",
      "Epoch 12/50\n",
      "115824/115824 [==============================] - 4s 35us/sample - loss: 1.0374 - val_loss: 1.0422\n",
      "Epoch 13/50\n",
      "115824/115824 [==============================] - 4s 35us/sample - loss: 1.0371 - val_loss: 1.0423\n",
      "Epoch 14/50\n",
      "115824/115824 [==============================] - 4s 35us/sample - loss: 1.0367 - val_loss: 1.0436\n",
      "Epoch 15/50\n",
      "114800/115824 [============================>.] - ETA: 0s - loss: 1.0367\n",
      "Epoch 00015: saving model to ./model/model_04_check_point/cp-0015.ckpt\n",
      "WARNING:tensorflow:This model was compiled with a Keras optimizer (<tensorflow.python.keras.optimizers.Adam object at 0x000001C2FC9A24E0>) but is being saved in TensorFlow format with `save_weights`. The model's weights will be saved, but unlike with TensorFlow optimizers in the TensorFlow format the optimizer's state will not be saved.\n",
      "\n",
      "Consider using a TensorFlow optimizer from `tf.train`.\n",
      "115824/115824 [==============================] - 4s 35us/sample - loss: 1.0367 - val_loss: 1.0406\n",
      "Epoch 16/50\n",
      "115824/115824 [==============================] - 4s 35us/sample - loss: 1.0364 - val_loss: 1.0416\n",
      "Epoch 17/50\n",
      "115824/115824 [==============================] - 4s 35us/sample - loss: 1.0361 - val_loss: 1.0414\n",
      "Epoch 18/50\n",
      "115824/115824 [==============================] - 4s 35us/sample - loss: 1.0357 - val_loss: 1.0415\n",
      "Epoch 19/50\n",
      "115824/115824 [==============================] - 4s 35us/sample - loss: 1.0355 - val_loss: 1.0459\n",
      "Epoch 20/50\n",
      "114600/115824 [============================>.] - ETA: 0s - loss: 1.0354\n",
      "Epoch 00020: saving model to ./model/model_04_check_point/cp-0020.ckpt\n",
      "WARNING:tensorflow:This model was compiled with a Keras optimizer (<tensorflow.python.keras.optimizers.Adam object at 0x000001C2FC9A24E0>) but is being saved in TensorFlow format with `save_weights`. The model's weights will be saved, but unlike with TensorFlow optimizers in the TensorFlow format the optimizer's state will not be saved.\n",
      "\n",
      "Consider using a TensorFlow optimizer from `tf.train`.\n",
      "115824/115824 [==============================] - 4s 35us/sample - loss: 1.0353 - val_loss: 1.0423\n",
      "Epoch 21/50\n",
      "115824/115824 [==============================] - 4s 35us/sample - loss: 1.0350 - val_loss: 1.0428\n",
      "Epoch 22/50\n",
      "115824/115824 [==============================] - 4s 35us/sample - loss: 1.0348 - val_loss: 1.0428\n",
      "Epoch 23/50\n",
      "115824/115824 [==============================] - 4s 35us/sample - loss: 1.0345 - val_loss: 1.0414\n",
      "Epoch 24/50\n",
      "115824/115824 [==============================] - 4s 35us/sample - loss: 1.0341 - val_loss: 1.0412\n",
      "Epoch 25/50\n",
      "114400/115824 [============================>.] - ETA: 0s - loss: 1.0340\n",
      "Epoch 00025: saving model to ./model/model_04_check_point/cp-0025.ckpt\n",
      "WARNING:tensorflow:This model was compiled with a Keras optimizer (<tensorflow.python.keras.optimizers.Adam object at 0x000001C2FC9A24E0>) but is being saved in TensorFlow format with `save_weights`. The model's weights will be saved, but unlike with TensorFlow optimizers in the TensorFlow format the optimizer's state will not be saved.\n",
      "\n",
      "Consider using a TensorFlow optimizer from `tf.train`.\n",
      "115824/115824 [==============================] - 4s 36us/sample - loss: 1.0340 - val_loss: 1.0417\n",
      "Epoch 26/50\n",
      "115824/115824 [==============================] - 4s 35us/sample - loss: 1.0336 - val_loss: 1.0425\n",
      "Epoch 27/50\n",
      "115824/115824 [==============================] - 4s 35us/sample - loss: 1.0333 - val_loss: 1.0425\n",
      "Epoch 28/50\n",
      "115824/115824 [==============================] - 4s 35us/sample - loss: 1.0330 - val_loss: 1.0423\n",
      "Epoch 29/50\n",
      "115824/115824 [==============================] - 4s 35us/sample - loss: 1.0331 - val_loss: 1.0407\n",
      "Epoch 30/50\n",
      "115000/115824 [============================>.] - ETA: 0s - loss: 1.0327\n",
      "Epoch 00030: saving model to ./model/model_04_check_point/cp-0030.ckpt\n",
      "WARNING:tensorflow:This model was compiled with a Keras optimizer (<tensorflow.python.keras.optimizers.Adam object at 0x000001C2FC9A24E0>) but is being saved in TensorFlow format with `save_weights`. The model's weights will be saved, but unlike with TensorFlow optimizers in the TensorFlow format the optimizer's state will not be saved.\n",
      "\n",
      "Consider using a TensorFlow optimizer from `tf.train`.\n",
      "115824/115824 [==============================] - 4s 35us/sample - loss: 1.0326 - val_loss: 1.0403\n",
      "Epoch 31/50\n",
      "115824/115824 [==============================] - 4s 35us/sample - loss: 1.0321 - val_loss: 1.0418\n",
      "Epoch 32/50\n",
      "115824/115824 [==============================] - 4s 35us/sample - loss: 1.0319 - val_loss: 1.0428\n",
      "Epoch 33/50\n",
      "115824/115824 [==============================] - 4s 35us/sample - loss: 1.0315 - val_loss: 1.0420\n",
      "Epoch 34/50\n",
      "115824/115824 [==============================] - 4s 35us/sample - loss: 1.0315 - val_loss: 1.0426\n",
      "Epoch 35/50\n",
      "115600/115824 [============================>.] - ETA: 0s - loss: 1.0311\n",
      "Epoch 00035: saving model to ./model/model_04_check_point/cp-0035.ckpt\n",
      "WARNING:tensorflow:This model was compiled with a Keras optimizer (<tensorflow.python.keras.optimizers.Adam object at 0x000001C2FC9A24E0>) but is being saved in TensorFlow format with `save_weights`. The model's weights will be saved, but unlike with TensorFlow optimizers in the TensorFlow format the optimizer's state will not be saved.\n",
      "\n",
      "Consider using a TensorFlow optimizer from `tf.train`.\n",
      "115824/115824 [==============================] - 4s 36us/sample - loss: 1.0311 - val_loss: 1.0420\n",
      "Epoch 36/50\n",
      "115824/115824 [==============================] - 4s 35us/sample - loss: 1.0309 - val_loss: 1.0431\n",
      "Epoch 37/50\n",
      "115824/115824 [==============================] - 4s 34us/sample - loss: 1.0305 - val_loss: 1.0417\n",
      "Epoch 38/50\n",
      "115824/115824 [==============================] - 4s 35us/sample - loss: 1.0299 - val_loss: 1.0464\n",
      "Epoch 39/50\n",
      "115824/115824 [==============================] - 4s 34us/sample - loss: 1.0298 - val_loss: 1.0436\n",
      "Epoch 40/50\n",
      "115400/115824 [============================>.] - ETA: 0s - loss: 1.0294\n",
      "Epoch 00040: saving model to ./model/model_04_check_point/cp-0040.ckpt\n",
      "WARNING:tensorflow:This model was compiled with a Keras optimizer (<tensorflow.python.keras.optimizers.Adam object at 0x000001C2FC9A24E0>) but is being saved in TensorFlow format with `save_weights`. The model's weights will be saved, but unlike with TensorFlow optimizers in the TensorFlow format the optimizer's state will not be saved.\n",
      "\n",
      "Consider using a TensorFlow optimizer from `tf.train`.\n",
      "115824/115824 [==============================] - 4s 35us/sample - loss: 1.0295 - val_loss: 1.0421\n",
      "Epoch 41/50\n",
      "115824/115824 [==============================] - 4s 35us/sample - loss: 1.0291 - val_loss: 1.0452\n",
      "Epoch 42/50\n",
      "115824/115824 [==============================] - 4s 35us/sample - loss: 1.0286 - val_loss: 1.0431\n",
      "Epoch 43/50\n",
      "115824/115824 [==============================] - 4s 34us/sample - loss: 1.0285 - val_loss: 1.0440\n",
      "Epoch 44/50\n",
      "115824/115824 [==============================] - 4s 35us/sample - loss: 1.0278 - val_loss: 1.0455\n",
      "Epoch 45/50\n",
      "115800/115824 [============================>.] - ETA: 0s - loss: 1.0277\n",
      "Epoch 00045: saving model to ./model/model_04_check_point/cp-0045.ckpt\n",
      "WARNING:tensorflow:This model was compiled with a Keras optimizer (<tensorflow.python.keras.optimizers.Adam object at 0x000001C2FC9A24E0>) but is being saved in TensorFlow format with `save_weights`. The model's weights will be saved, but unlike with TensorFlow optimizers in the TensorFlow format the optimizer's state will not be saved.\n",
      "\n",
      "Consider using a TensorFlow optimizer from `tf.train`.\n",
      "115824/115824 [==============================] - 4s 35us/sample - loss: 1.0277 - val_loss: 1.0452\n",
      "Epoch 46/50\n",
      "115824/115824 [==============================] - 4s 35us/sample - loss: 1.0272 - val_loss: 1.0451\n",
      "Epoch 47/50\n",
      "115824/115824 [==============================] - 4s 35us/sample - loss: 1.0268 - val_loss: 1.0433\n",
      "Epoch 48/50\n",
      "115824/115824 [==============================] - 4s 35us/sample - loss: 1.0263 - val_loss: 1.0451\n",
      "Epoch 49/50\n",
      "115824/115824 [==============================] - 4s 34us/sample - loss: 1.0261 - val_loss: 1.0466\n",
      "Epoch 50/50\n",
      "115400/115824 [============================>.] - ETA: 0s - loss: 1.0259\n",
      "Epoch 00050: saving model to ./model/model_04_check_point/cp-0050.ckpt\n",
      "WARNING:tensorflow:This model was compiled with a Keras optimizer (<tensorflow.python.keras.optimizers.Adam object at 0x000001C2FC9A24E0>) but is being saved in TensorFlow format with `save_weights`. The model's weights will be saved, but unlike with TensorFlow optimizers in the TensorFlow format the optimizer's state will not be saved.\n",
      "\n",
      "Consider using a TensorFlow optimizer from `tf.train`.\n",
      "115824/115824 [==============================] - 4s 36us/sample - loss: 1.0259 - val_loss: 1.0436\n"
     ]
    }
   ],
   "source": [
    "from tensorflow.keras.callbacks import ModelCheckpoint\n",
    "import os\n",
    "name = 'model_04'\n",
    "checkpoint_file = './model/' + name + '_check_point/cp-{epoch:04d}.ckpt'\n",
    "try:\n",
    "    os.mkdir('./model/' + name + '_check_point/')\n",
    "except:\n",
    "    pass\n",
    "\n",
    "# create callback function\n",
    "cp_callback = ModelCheckpoint(checkpoint_file, save_weights_only=True, verbose=1, period=period)\n",
    "\n",
    "# train the model\n",
    "train = model.fit(x_train, y, epochs=epochs, batch_size=batch_size, callbacks=[cp_callback], validation_split=0.2)\n",
    "\n",
    "# save model\n",
    "model.save('./model/' + name + '.h5')"
   ]
  },
  {
   "cell_type": "code",
   "execution_count": 11,
   "metadata": {},
   "outputs": [
    {
     "data": {
      "image/png": "[encoded data removed]",
      "text/plain": [
       "<Figure size 432x288 with 1 Axes>"
      ]
     },
     "metadata": {
      "needs_background": "light"
     },
     "output_type": "display_data"
    }
   ],
   "source": [
    "import matplotlib.pyplot as plt\n",
    "%matplotlib inline\n",
    "plt.plot(train.history['loss'])\n",
    "plt.plot(train.history['val_loss'])\n",
    "plt.title('model loss')\n",
    "plt.ylabel('loss')\n",
    "plt.xlabel('epoch')\n",
    "plt.legend(['train', 'test'], loc='upper right')\n",
    "plt.show()"
   ]
  },
  {
   "cell_type": "code",
   "execution_count": 15,
   "metadata": {},
   "outputs": [
    {
     "name": "stdout",
     "output_type": "stream",
     "text": [
      "(481,) [0 0 0 0 2 2 0 0 0 0 0 0 0 1 0 2 2 2 0 0 2 2 2 0 0 0 0 2 2 2 2 2 0 2 2 0 2\n",
      " 2 0 0 0 0 0 0 0 0 2 2 2 2 2 2 0 0 2 0 0 2 2 2 2 0 0 2 2 0 0 0 0 2 0 2 2 2\n",
      " 0 2 2 0 2 2 2 2 2 0 0 0 0 0 0 0 0 2 0 2 2 0 2 2 0 2 2 2 2 2 2 2 0 0 0 0 0\n",
      " 0 2 2 0 2 0 0 0 0 0 0 2 0 2 0 0 2 2 0 0 0 0 0 0 2 2 0 2 0 0 2 2 2 0 0 0 2\n",
      " 2 2 2 2 2 2 2 2 2 0 2 0 0 0 0 0 2 2 2 2 2 2 2 2 0 0 0 0 0 0 0 2 2 0 2 2 2\n",
      " 0 2 0 0 0 0 2 0 2 2 2 2 2 2 0 0 2 2 2 2 0 0 2 2 0 0 2 0 0 0 0 0 0 0 0 1 1\n",
      " 2 0 0 0 0 0 0 0 2 2 0 0 0 2 2 0 2 2 2 2 2 2 2 2 2 2 0 2 0 0 0 2 2 2 0 2 2\n",
      " 0 0 0 0 2 0 0 0 0 0 0 0 0 0 0 0 2 0 2 2 0 0 0 0 0 0 2 2 2 0 0 2 0 0 0 0 0\n",
      " 0 0 2 2 2 2 2 2 2 2 0 2 2 2 2 0 0 2 0 0 2 0 0 0 0 2 0 0 0 2 2 0 0 0 2 2 2\n",
      " 2 2 2 0 0 0 0 0 0 2 2 2 0 2 2 2 2 2 0 0 0 0 0 0 0 0 2 0 0 0 0 0 0 2 1 0 0\n",
      " 2 0 0 0 0 0 0 0 0 0 2 2 2 2 2 0 0 0 0 0 0 0 0 1 1 0 0 0 0 0 0 0 0 0 2 2 2\n",
      " 2 0 0 0 0 2 2 0 2 0 2 0 0 0 2 2 0 0 0 0 0 0 0 2 2 0 0 0 0 0 0 0 0 0 0 0 0\n",
      " 2 0 0 0 2 0 2 0 2 2 2 0 2 0 0 0 2 2 2 2 2 0 2 0 0 0 0 0 2 2 0 0 0 0 0 0 0]\n",
      "(481,)\n"
     ]
    },
    {
     "name": "stderr",
     "output_type": "stream",
     "text": [
      "C:\\Users\\DVLAB\\AppData\\anaconda3\\envs\\dlib\\lib\\site-packages\\ipykernel_launcher.py:20: RuntimeWarning: divide by zero encountered in double_scalars\n",
      "C:\\Users\\DVLAB\\AppData\\anaconda3\\envs\\dlib\\lib\\site-packages\\ipykernel_launcher.py:23: RuntimeWarning: invalid value encountered in multiply\n"
     ]
    },
    {
     "data": {
      "image/png": "[encoded data removed]",
      "text/plain": [
       "<Figure size 432x288 with 1 Axes>"
      ]
     },
     "metadata": {
      "needs_background": "light"
     },
     "output_type": "display_data"
    }
   ],
   "source": [
    "test_x, test_y, sc_parameter = create_dataset(path=paths[990], input_days=input_days, output_days=output_days)\n",
    "test_x[np.isnan(test_x)] = 0\n",
    "test_x_input = np.expand_dims(encoder.predict(test_x), axis=1)\n",
    "pred = np.argmax(model.predict(test_x_input), axis=-1)\n",
    "print(pred.shape, pred)\n",
    "\n",
    "# pred = np.argmax(test_y, axis=-1)\n",
    "\n",
    "test_sc = MinMaxScaler()\n",
    "test_sc.updatePatameter(sc_parameter)\n",
    "test_real = test_x[:, -1, 0]\n",
    "test_real = test_sc.getInverseData(test_real)\n",
    "output_action = pred\n",
    "print(test_real.shape)\n",
    "\n",
    "# Visualising the results\n",
    "plot = test_real\n",
    "sell = np.where(output_action==0)\n",
    "do_nothing = np.where(output_action==1)\n",
    "buy = np.where(output_action==2)\n",
    "plt.plot(plot, color = 'blue', label = 'Real')\n",
    "plt.scatter(sell, plot[sell], color = 'green', label = 'sell')\n",
    "plt.scatter(do_nothing, plot[do_nothing], color = 'gray', label = 'do nothing')\n",
    "plt.scatter(buy, plot[buy], color = 'red', label = 'buy')\n",
    "plt.title('Prediction')\n",
    "plt.xlabel('Time(days)')\n",
    "plt.ylabel('Real')\n",
    "plt.legend()\n",
    "plt.show()"
   ]
  }
 ],
 "metadata": {
  "kernelspec": {
   "display_name": "Python [conda env:dlib]",
   "language": "python",
   "name": "conda-env-dlib-py"
  },
  "language_info": {
   "codemirror_mode": {
    "name": "ipython",
    "version": 3
   },
   "file_extension": ".py",
   "mimetype": "text/x-python",
   "name": "python",
   "nbconvert_exporter": "python",
   "pygments_lexer": "ipython3",
   "version": "3.6.6"
  }
 },
 "nbformat": 4,
 "nbformat_minor": 2
}
