{
 "cells": [
  {
   "cell_type": "markdown",
   "metadata": {},
   "source": [
    "# Testing stock\n",
    "\n",
    "* 時間, `最近成交價`, `當盤成交量`, `累積成交量`, `最佳五檔（賣價）`, `最佳五檔（賣量）`, `最佳五檔（買價）`, `最佳五檔（買量）`"
   ]
  },
  {
   "cell_type": "code",
   "execution_count": 1,
   "metadata": {
    "scrolled": true
   },
   "outputs": [],
   "source": [
    "import re\n",
    "import numpy as np\n",
    "\n",
    "def getDataset(path):\n",
    "    dataset = []\n",
    "    with open(path, 'r') as fp:\n",
    "        for i in range(500):\n",
    "            data = fp.readline()\n",
    "            if len(data) == 0:\n",
    "                break\n",
    "            data = data.replace('-', '0')\n",
    "            data = re.split(',|\\n', data)[1:-1]\n",
    "            data[3] = data[3].split('_')[0]\n",
    "            data[4] = data[4].split('_')[0]\n",
    "            data[5] = data[5].split('_')[0]\n",
    "            data[6] = data[6].split('_')[0]\n",
    "            try:\n",
    "                dataset.append(np.asarray(data, dtype=np.float))\n",
    "            except ValueError:\n",
    "                print(data)\n",
    "                \n",
    "    return np.asarray(dataset)\n",
    "\n",
    "def countDataset(path):\n",
    "    return len(getDataset(path))"
   ]
  },
  {
   "cell_type": "markdown",
   "metadata": {},
   "source": [
    "# get all paths and summary"
   ]
  },
  {
   "cell_type": "code",
   "execution_count": 2,
   "metadata": {
    "scrolled": true
   },
   "outputs": [
    {
     "name": "stdout",
     "output_type": "stream",
     "text": [
      "500 1901\n"
     ]
    },
    {
     "data": {
      "image/png": "[encoded data removed]",
      "text/plain": [
       "<Figure size 432x288 with 1 Axes>"
      ]
     },
     "metadata": {
      "needs_background": "light"
     },
     "output_type": "display_data"
    }
   ],
   "source": [
    "import os\n",
    "import matplotlib.pyplot as plt\n",
    "%matplotlib inline\n",
    "dataset_path = \"./dataset/Taiwan_5s/\"\n",
    "\n",
    "min_count = 65535\n",
    "choose = 500\n",
    "input_days = 30\n",
    "output_days = 1\n",
    "\n",
    "summary = [0] * 100\n",
    "paths = []\n",
    "\n",
    "for dirPath, dirNames, fileNames in os.walk(dataset_path):\n",
    "    if dirPath == dataset_path:\n",
    "        continue\n",
    "    total = 0\n",
    "    for datapath in fileNames:\n",
    "        count = countDataset(dirPath + '/' + datapath)\n",
    "        summary[count // 10 - 1] += 1\n",
    "        if count == choose:\n",
    "            paths.append(dirPath + '/' + datapath)\n",
    "print(choose, len(paths))\n",
    "# plot results\n",
    "plt.plot(summary, color = 'blue', label = 'count')\n",
    "plt.title('summary')\n",
    "plt.xlabel('range * 10')\n",
    "plt.ylabel('count')\n",
    "plt.legend()\n",
    "plt.show()"
   ]
  },
  {
   "cell_type": "markdown",
   "metadata": {},
   "source": [
    "# My own MinMaxScaler"
   ]
  },
  {
   "cell_type": "code",
   "execution_count": 3,
   "metadata": {},
   "outputs": [],
   "source": [
    "class MinMaxScaler:\n",
    "    __min = 0.\n",
    "    __max = 1.\n",
    "    __range = 1.\n",
    "    __feature_range = (0, 1)\n",
    "    __scale = 1.\n",
    "    def __init__(self):\n",
    "        pass\n",
    "    def getScalerData(self, dataset, offset=0.1, feature_range=(0, 1)):\n",
    "        data_max = np.max(dataset)\n",
    "        data_min = np.min(dataset)\n",
    "        if len(dataset) == 1:\n",
    "            range_temp = dataset * offset\n",
    "        else:\n",
    "            range_temp = (data_max - data_min) * (1 + offset)\n",
    "        self.__min = data_max - range_temp\n",
    "        self.__max = data_min + range_temp\n",
    "        self.__range = self.__max - self.__min\n",
    "        self.__feature_range = feature_range\n",
    "        self.__scale = (feature_range[1] - feature_range[0]) / self.__range\n",
    "        return self.getTransformData(dataset)\n",
    "    def getTransformData(self, dataset):\n",
    "        return (dataset - self.__min) * self.__scale + self.__feature_range[0]\n",
    "    def getInverseData(self, scalerDataset):\n",
    "        return (scalerDataset - self.__feature_range[0]) / self.__scale + self.__min\n",
    "    def getParameter(self):\n",
    "        return self.__min, self.__max, self.__range, self.__feature_range, self.__scale\n",
    "    def updatePatameter(self, parameter):\n",
    "        self.__min, self.__max, self.__range, self.__feature_range, self.__scale = parameter"
   ]
  },
  {
   "cell_type": "markdown",
   "metadata": {},
   "source": [
    "# create dataset\n",
    "* 1. price use MinMaxScaler with offset 0.1\n",
    "* 2. trading volume using local MinMaxScaler\n",
    "* 3. best 1 sell price use MinMaxScaler in 1.\n",
    "* 4. best 1 buy price use MinMaxScaler in 1.\n",
    "* 5. if sell count > buy count than > 0.5"
   ]
  },
  {
   "cell_type": "code",
   "execution_count": 4,
   "metadata": {},
   "outputs": [],
   "source": [
    "from tensorflow.keras.utils import to_categorical\n",
    "\n",
    "def create_dataset(path, input_days=60, output_days=1):\n",
    "    dataset = getDataset(path)\n",
    "    price_sc = MinMaxScaler()\n",
    "    price_sc.getScalerData(np.array([dataset[0][0]]), offset=0.1, feature_range=(0, 1))\n",
    "    prices = price_sc.getTransformData(dataset[:, [0, 3, 5]])\n",
    "    output = []\n",
    "    label = []\n",
    "    for i in range(input_days, choose - output_days + 1):\n",
    "        temp = dataset[i-input_days:i]\n",
    "        # create total set\n",
    "        temp_sc = MinMaxScaler()\n",
    "        a = prices[i-input_days:i]\n",
    "        diff = prices[i, 0] - prices[i-1, 0]\n",
    "        if diff > 0:\n",
    "            y = 2\n",
    "        elif diff < 0:\n",
    "            y = 0\n",
    "        else :\n",
    "            y = 1\n",
    "        b = temp_sc.getScalerData(temp[:, 1:2])\n",
    "        sell_count = temp[:, 4:5]\n",
    "        buy_count = temp[:, 6:7]\n",
    "        temp_scale = np.absolute(sell_count - buy_count) / np.maximum(sell_count, buy_count) / 2\n",
    "        c = np.where(sell_count > buy_count, 0.5+temp_scale, 0.5-temp_scale)\n",
    "        output.append(np.append(np.append(a, b, axis=-1), c, axis=-1))\n",
    "        label.append(y)\n",
    "    output = np.asarray(output, dtype=np.float)\n",
    "    label = to_categorical(np.asarray(label, dtype=np.float), num_classes=3)\n",
    "    return output, label, price_sc.getParameter()"
   ]
  },
  {
   "cell_type": "code",
   "execution_count": 5,
   "metadata": {},
   "outputs": [
    {
     "name": "stderr",
     "output_type": "stream",
     "text": [
      "C:\\Users\\DVLAB\\AppData\\anaconda3\\envs\\dlib\\lib\\site-packages\\ipykernel_launcher.py:20: RuntimeWarning: divide by zero encountered in double_scalars\n",
      "C:\\Users\\DVLAB\\AppData\\anaconda3\\envs\\dlib\\lib\\site-packages\\ipykernel_launcher.py:23: RuntimeWarning: invalid value encountered in multiply\n"
     ]
    },
    {
     "name": "stdout",
     "output_type": "stream",
     "text": [
      "(705470, 30, 5) (705470, 3)\n"
     ]
    }
   ],
   "source": [
    "x = np.empty((0, input_days, 5), dtype=np.float)\n",
    "y = np.empty((0, 3), dtype=np.float)\n",
    "\n",
    "for i, path in enumerate(paths):\n",
    "    if i > 1500:\n",
    "        break\n",
    "    x_temp, y_temp, sc_parameter = create_dataset(path=path, input_days=input_days, output_days=output_days)\n",
    "    x = np.append(x, x_temp, axis=0)\n",
    "    y = np.append(y, y_temp, axis=0)\n",
    "\n",
    "print(x.shape, y.shape)"
   ]
  },
  {
   "cell_type": "code",
   "execution_count": 6,
   "metadata": {},
   "outputs": [],
   "source": [
    "x[np.isnan(x)] = 0"
   ]
  },
  {
   "cell_type": "markdown",
   "metadata": {},
   "source": [
    "# Create model"
   ]
  },
  {
   "cell_type": "code",
   "execution_count": 7,
   "metadata": {},
   "outputs": [],
   "source": [
    "RADAM = False\n",
    "if RADAM:\n",
    "    from keras_radam import RAdam\n",
    "    from keras_lookahead import Lookahead\n",
    "    optimizer = Lookahead(RAdam())\n",
    "else:\n",
    "    optimizer = 'adam'\n",
    "    \n",
    "period = 10\n",
    "epochs = 50\n",
    "batch_size = 3000"
   ]
  },
  {
   "cell_type": "code",
   "execution_count": 8,
   "metadata": {},
   "outputs": [
    {
     "name": "stdout",
     "output_type": "stream",
     "text": [
      "WARNING:tensorflow:From C:\\Users\\DVLAB\\AppData\\anaconda3\\envs\\dlib\\lib\\site-packages\\tensorflow\\python\\ops\\resource_variable_ops.py:435: colocate_with (from tensorflow.python.framework.ops) is deprecated and will be removed in a future version.\n",
      "Instructions for updating:\n",
      "Colocations handled automatically by placer.\n",
      "_________________________________________________________________\n",
      "Layer (type)                 Output Shape              Param #   \n",
      "=================================================================\n",
      "cu_dnnlstm (CuDNNLSTM)       (None, 30, 50)            11400     \n",
      "_________________________________________________________________\n",
      "cu_dnnlstm_1 (CuDNNLSTM)     (None, 30, 50)            20400     \n",
      "_________________________________________________________________\n",
      "cu_dnnlstm_2 (CuDNNLSTM)     (None, 30, 50)            20400     \n",
      "_________________________________________________________________\n",
      "flatten (Flatten)            (None, 1500)              0         \n",
      "_________________________________________________________________\n",
      "dense (Dense)                (None, 128)               192128    \n",
      "_________________________________________________________________\n",
      "dense_1 (Dense)              (None, 40)                5160      \n",
      "_________________________________________________________________\n",
      "dense_2 (Dense)              (None, 3)                 123       \n",
      "=================================================================\n",
      "Total params: 249,611\n",
      "Trainable params: 249,611\n",
      "Non-trainable params: 0\n",
      "_________________________________________________________________\n"
     ]
    }
   ],
   "source": [
    "# LSTM Training\n",
    "from tensorflow.keras.models import Sequential\n",
    "from tensorflow.keras.layers import CuDNNLSTM, Dense, Dropout, Flatten\n",
    "from tensorflow.keras.utils import plot_model\n",
    "\n",
    "model = Sequential()\n",
    "\n",
    "model.add(CuDNNLSTM(units = 50, return_sequences = True, input_shape = (input_days, 5)))\n",
    "model.add(CuDNNLSTM(units = 50, return_sequences = True))\n",
    "model.add(CuDNNLSTM(units = 50, return_sequences = True))\n",
    "model.add(Flatten())\n",
    "model.add(Dense(units = 128, activation='relu'))\n",
    "model.add(Dense(units = 40, activation='relu'))\n",
    "model.add(Dense(units = 3, activation='softmax'))\n",
    "model.compile(optimizer = optimizer, loss = 'categorical_crossentropy')\n",
    "model.summary()\n",
    "plot_model(model, 'model.png')"
   ]
  },
  {
   "cell_type": "markdown",
   "metadata": {},
   "source": [
    "# Training the model"
   ]
  },
  {
   "cell_type": "code",
   "execution_count": 9,
   "metadata": {
    "scrolled": true
   },
   "outputs": [
    {
     "name": "stdout",
     "output_type": "stream",
     "text": [
      "Train on 564376 samples, validate on 141094 samples\n",
      "WARNING:tensorflow:From C:\\Users\\DVLAB\\AppData\\anaconda3\\envs\\dlib\\lib\\site-packages\\tensorflow\\python\\ops\\math_ops.py:3066: to_int32 (from tensorflow.python.ops.math_ops) is deprecated and will be removed in a future version.\n",
      "Instructions for updating:\n",
      "Use tf.cast instead.\n",
      "Epoch 1/50\n",
      "564376/564376 [==============================] - 7s 13us/sample - loss: 0.7123 - val_loss: 0.7285\n",
      "Epoch 2/50\n",
      "564376/564376 [==============================] - 5s 9us/sample - loss: 0.7015 - val_loss: 0.7302\n",
      "Epoch 3/50\n",
      "564376/564376 [==============================] - 5s 9us/sample - loss: 0.6993 - val_loss: 0.7322\n",
      "Epoch 4/50\n",
      "564376/564376 [==============================] - 5s 9us/sample - loss: 0.6983 - val_loss: 0.7245\n",
      "Epoch 5/50\n",
      "564376/564376 [==============================] - 5s 9us/sample - loss: 0.6975 - val_loss: 0.7251\n",
      "Epoch 6/50\n",
      "564376/564376 [==============================] - 5s 9us/sample - loss: 0.6970 - val_loss: 0.7233\n",
      "Epoch 7/50\n",
      "564376/564376 [==============================] - 5s 9us/sample - loss: 0.6962 - val_loss: 0.7230\n",
      "Epoch 8/50\n",
      "564376/564376 [==============================] - 5s 9us/sample - loss: 0.6955 - val_loss: 0.7242\n",
      "Epoch 9/50\n",
      "564376/564376 [==============================] - 5s 9us/sample - loss: 0.6952 - val_loss: 0.7241\n",
      "Epoch 10/50\n",
      "558000/564376 [============================>.] - ETA: 0s - loss: 0.6947\n",
      "Epoch 00010: saving model to ./model/model_02_check_point/cp-0010.ckpt\n",
      "WARNING:tensorflow:This model was compiled with a Keras optimizer (<tensorflow.python.keras.optimizers.Adam object at 0x000001874F075C18>) but is being saved in TensorFlow format with `save_weights`. The model's weights will be saved, but unlike with TensorFlow optimizers in the TensorFlow format the optimizer's state will not be saved.\n",
      "\n",
      "Consider using a TensorFlow optimizer from `tf.train`.\n",
      "WARNING:tensorflow:From C:\\Users\\DVLAB\\AppData\\anaconda3\\envs\\dlib\\lib\\site-packages\\tensorflow\\python\\keras\\engine\\network.py:1436: update_checkpoint_state (from tensorflow.python.training.checkpoint_management) is deprecated and will be removed in a future version.\n",
      "Instructions for updating:\n",
      "Use tf.train.CheckpointManager to manage checkpoints rather than manually editing the Checkpoint proto.\n",
      "564376/564376 [==============================] - 5s 9us/sample - loss: 0.6948 - val_loss: 0.7211\n",
      "Epoch 11/50\n",
      "564376/564376 [==============================] - 5s 9us/sample - loss: 0.6941 - val_loss: 0.7271\n",
      "Epoch 12/50\n",
      "564376/564376 [==============================] - 5s 9us/sample - loss: 0.6941 - val_loss: 0.7225\n",
      "Epoch 13/50\n",
      "564376/564376 [==============================] - 5s 9us/sample - loss: 0.6936 - val_loss: 0.7216\n",
      "Epoch 14/50\n",
      "564376/564376 [==============================] - 5s 9us/sample - loss: 0.6934 - val_loss: 0.7193\n",
      "Epoch 15/50\n",
      "564376/564376 [==============================] - 5s 9us/sample - loss: 0.6929 - val_loss: 0.7190\n",
      "Epoch 16/50\n",
      "564376/564376 [==============================] - 5s 9us/sample - loss: 0.6928 - val_loss: 0.7205\n",
      "Epoch 17/50\n",
      "564376/564376 [==============================] - 5s 9us/sample - loss: 0.6924 - val_loss: 0.7199\n",
      "Epoch 18/50\n",
      "564376/564376 [==============================] - 5s 9us/sample - loss: 0.6925 - val_loss: 0.7176\n",
      "Epoch 19/50\n",
      "564376/564376 [==============================] - 5s 9us/sample - loss: 0.6922 - val_loss: 0.7182\n",
      "Epoch 20/50\n",
      "558000/564376 [============================>.] - ETA: 0s - loss: 0.6921\n",
      "Epoch 00020: saving model to ./model/model_02_check_point/cp-0020.ckpt\n",
      "WARNING:tensorflow:This model was compiled with a Keras optimizer (<tensorflow.python.keras.optimizers.Adam object at 0x000001874F075C18>) but is being saved in TensorFlow format with `save_weights`. The model's weights will be saved, but unlike with TensorFlow optimizers in the TensorFlow format the optimizer's state will not be saved.\n",
      "\n",
      "Consider using a TensorFlow optimizer from `tf.train`.\n",
      "564376/564376 [==============================] - 5s 9us/sample - loss: 0.6922 - val_loss: 0.7188\n",
      "Epoch 21/50\n",
      "564376/564376 [==============================] - 5s 9us/sample - loss: 0.6918 - val_loss: 0.7177\n",
      "Epoch 22/50\n",
      "564376/564376 [==============================] - 5s 9us/sample - loss: 0.6918 - val_loss: 0.7192\n",
      "Epoch 23/50\n",
      "564376/564376 [==============================] - 5s 9us/sample - loss: 0.6916 - val_loss: 0.7185\n",
      "Epoch 24/50\n",
      "564376/564376 [==============================] - 5s 9us/sample - loss: 0.6912 - val_loss: 0.7185\n",
      "Epoch 25/50\n",
      "564376/564376 [==============================] - 5s 9us/sample - loss: 0.6907 - val_loss: 0.7170\n",
      "Epoch 26/50\n",
      "564376/564376 [==============================] - 5s 9us/sample - loss: 0.6906 - val_loss: 0.7167\n",
      "Epoch 27/50\n",
      "564376/564376 [==============================] - 5s 9us/sample - loss: 0.6900 - val_loss: 0.7169\n",
      "Epoch 28/50\n",
      "564376/564376 [==============================] - 5s 9us/sample - loss: 0.6895 - val_loss: 0.7163\n",
      "Epoch 29/50\n",
      "564376/564376 [==============================] - 5s 9us/sample - loss: 0.6891 - val_loss: 0.7179\n",
      "Epoch 30/50\n",
      "564000/564376 [============================>.] - ETA: 0s - loss: 0.6885\n",
      "Epoch 00030: saving model to ./model/model_02_check_point/cp-0030.ckpt\n",
      "WARNING:tensorflow:This model was compiled with a Keras optimizer (<tensorflow.python.keras.optimizers.Adam object at 0x000001874F075C18>) but is being saved in TensorFlow format with `save_weights`. The model's weights will be saved, but unlike with TensorFlow optimizers in the TensorFlow format the optimizer's state will not be saved.\n",
      "\n",
      "Consider using a TensorFlow optimizer from `tf.train`.\n",
      "564376/564376 [==============================] - 5s 9us/sample - loss: 0.6885 - val_loss: 0.7160\n",
      "Epoch 31/50\n",
      "564376/564376 [==============================] - 5s 9us/sample - loss: 0.6882 - val_loss: 0.7166\n",
      "Epoch 32/50\n",
      "564376/564376 [==============================] - 5s 9us/sample - loss: 0.6874 - val_loss: 0.7163\n",
      "Epoch 33/50\n",
      "564376/564376 [==============================] - 5s 9us/sample - loss: 0.6870 - val_loss: 0.7154\n",
      "Epoch 34/50\n",
      "564376/564376 [==============================] - 5s 9us/sample - loss: 0.6861 - val_loss: 0.7175\n",
      "Epoch 35/50\n",
      "564376/564376 [==============================] - 5s 9us/sample - loss: 0.6850 - val_loss: 0.7161\n",
      "Epoch 36/50\n",
      "564376/564376 [==============================] - 5s 9us/sample - loss: 0.6842 - val_loss: 0.7156\n",
      "Epoch 37/50\n",
      "564376/564376 [==============================] - 5s 9us/sample - loss: 0.6832 - val_loss: 0.7192\n",
      "Epoch 38/50\n",
      "564376/564376 [==============================] - 5s 9us/sample - loss: 0.6817 - val_loss: 0.7183\n",
      "Epoch 39/50\n",
      "564376/564376 [==============================] - 5s 9us/sample - loss: 0.6801 - val_loss: 0.7187\n",
      "Epoch 40/50\n",
      "558000/564376 [============================>.] - ETA: 0s - loss: 0.6782\n",
      "Epoch 00040: saving model to ./model/model_02_check_point/cp-0040.ckpt\n",
      "WARNING:tensorflow:This model was compiled with a Keras optimizer (<tensorflow.python.keras.optimizers.Adam object at 0x000001874F075C18>) but is being saved in TensorFlow format with `save_weights`. The model's weights will be saved, but unlike with TensorFlow optimizers in the TensorFlow format the optimizer's state will not be saved.\n",
      "\n",
      "Consider using a TensorFlow optimizer from `tf.train`.\n",
      "564376/564376 [==============================] - 5s 9us/sample - loss: 0.6784 - val_loss: 0.7222\n",
      "Epoch 41/50\n",
      "564376/564376 [==============================] - 5s 9us/sample - loss: 0.6762 - val_loss: 0.7225\n",
      "Epoch 42/50\n",
      "564376/564376 [==============================] - 5s 9us/sample - loss: 0.6718 - val_loss: 0.7145\n",
      "Epoch 43/50\n",
      "564376/564376 [==============================] - 5s 9us/sample - loss: 0.6418 - val_loss: 0.6564\n",
      "Epoch 44/50\n",
      "564376/564376 [==============================] - 5s 9us/sample - loss: 0.6009 - val_loss: 0.6235\n",
      "Epoch 45/50\n",
      "564376/564376 [==============================] - 5s 9us/sample - loss: 0.5850 - val_loss: 0.6148\n",
      "Epoch 46/50\n",
      "564376/564376 [==============================] - 5s 9us/sample - loss: 0.5768 - val_loss: 0.6098\n",
      "Epoch 47/50\n",
      "564376/564376 [==============================] - 5s 9us/sample - loss: 0.5706 - val_loss: 0.6104\n",
      "Epoch 48/50\n",
      "564376/564376 [==============================] - 5s 9us/sample - loss: 0.5675 - val_loss: 0.6093\n",
      "Epoch 49/50\n",
      "564376/564376 [==============================] - 5s 9us/sample - loss: 0.5640 - val_loss: 0.6172\n",
      "Epoch 50/50\n",
      "564000/564376 [============================>.] - ETA: 0s - loss: 0.5585\n",
      "Epoch 00050: saving model to ./model/model_02_check_point/cp-0050.ckpt\n",
      "WARNING:tensorflow:This model was compiled with a Keras optimizer (<tensorflow.python.keras.optimizers.Adam object at 0x000001874F075C18>) but is being saved in TensorFlow format with `save_weights`. The model's weights will be saved, but unlike with TensorFlow optimizers in the TensorFlow format the optimizer's state will not be saved.\n",
      "\n",
      "Consider using a TensorFlow optimizer from `tf.train`.\n",
      "564376/564376 [==============================] - 5s 9us/sample - loss: 0.5585 - val_loss: 0.6375\n"
     ]
    }
   ],
   "source": [
    "from tensorflow.keras.callbacks import ModelCheckpoint\n",
    "import os\n",
    "name = 'model_02'\n",
    "checkpoint_file = './model/' + name + '_check_point/cp-{epoch:04d}.ckpt'\n",
    "try:\n",
    "    os.mkdir('./model/' + name + '_check_point/')\n",
    "except:\n",
    "    pass\n",
    "\n",
    "# create callback function\n",
    "cp_callback = ModelCheckpoint(checkpoint_file, save_weights_only=True, verbose=1, period=period)\n",
    "\n",
    "# train the model\n",
    "train = model.fit(x, y, epochs=epochs, batch_size=batch_size, callbacks=[cp_callback], validation_split=0.2)\n",
    "\n",
    "# save model\n",
    "model.save('./model/' + name + '.h5')"
   ]
  },
  {
   "cell_type": "code",
   "execution_count": 10,
   "metadata": {},
   "outputs": [
    {
     "data": {
      "image/png": "[encoded data removed]",
      "text/plain": [
       "<Figure size 432x288 with 1 Axes>"
      ]
     },
     "metadata": {
      "needs_background": "light"
     },
     "output_type": "display_data"
    }
   ],
   "source": [
    "plt.plot(train.history['loss'])\n",
    "plt.plot(train.history['val_loss'])\n",
    "plt.title('model loss')\n",
    "plt.ylabel('loss')\n",
    "plt.xlabel('epoch')\n",
    "plt.legend(['train', 'test'], loc='upper right')\n",
    "plt.show()"
   ]
  },
  {
   "cell_type": "code",
   "execution_count": 13,
   "metadata": {},
   "outputs": [
    {
     "name": "stdout",
     "output_type": "stream",
     "text": [
      "(470,) [1 1 1 1 1 1 1 1 1 1 1 1 1 1 1 1 1 1 1 1 1 1 1 1 1 1 1 1 1 1 1 1 1 1 1 1 1\n",
      " 1 1 1 1 1 1 1 1 1 1 1 1 1 1 1 1 1 1 1 1 1 1 1 1 1 1 1 1 1 1 1 1 1 1 1 1 1\n",
      " 1 1 1 1 1 1 2 1 1 1 1 1 1 1 1 1 1 1 1 1 1 1 1 1 2 1 1 1 1 1 1 1 1 1 1 1 1\n",
      " 1 1 1 1 1 1 1 1 1 1 1 1 1 1 1 1 1 1 1 1 1 1 1 1 1 2 0 1 1 1 2 1 1 1 1 1 1\n",
      " 1 1 1 1 1 1 1 1 1 1 1 1 1 1 1 1 1 1 1 1 1 1 1 2 1 1 1 1 1 1 1 1 1 1 1 1 1\n",
      " 1 1 1 1 1 1 1 1 1 1 1 1 1 1 1 1 1 1 1 1 1 1 1 1 1 1 1 2 1 1 1 1 1 1 1 1 2\n",
      " 1 1 1 1 1 1 1 1 1 1 1 1 1 1 1 1 1 1 1 1 1 1 1 1 1 1 1 1 1 1 1 1 1 1 1 1 1\n",
      " 1 1 1 1 1 1 1 1 1 1 1 1 1 1 1 1 1 1 2 2 1 1 0 1 1 1 1 1 1 1 1 0 1 1 1 1 1\n",
      " 1 1 1 1 1 1 1 1 1 1 1 1 1 1 1 1 1 1 1 1 1 1 0 1 1 0 1 1 1 1 1 0 1 1 1 1 1\n",
      " 0 1 1 1 1 1 1 1 1 1 1 1 1 1 1 1 1 1 1 1 1 1 1 1 1 1 1 1 1 1 1 1 1 1 1 1 1\n",
      " 1 1 0 1 1 1 1 2 1 1 1 1 2 1 1 1 1 1 1 1 1 1 1 1 1 1 1 1 1 1 1 1 1 1 1 1 1\n",
      " 1 1 1 1 1 1 2 1 1 1 1 1 1 1 1 0 1 1 1 1 1 1 1 1 1 1 1 1 1 1 1 1 1 1 1 1 1\n",
      " 1 1 1 1 1 1 1 1 1 1 1 1 1 1 1 1 1 1 1 1 1 1 1 1 1 1]\n"
     ]
    }
   ],
   "source": [
    "# model.load_weights('./model/model_02_check_point/cp-{epoch:04d}.ckpt'.format(epoch=50))\n",
    "test_x, test_y, sc_parameter = create_dataset(path=paths[1500], input_days=input_days, output_days=output_days)\n",
    "test_x[np.isnan(test_x)] = 0\n",
    "pred = np.argmax(model.predict(test_x), axis=-1)\n",
    "print(pred.shape, pred)"
   ]
  },
  {
   "cell_type": "code",
   "execution_count": 14,
   "metadata": {},
   "outputs": [
    {
     "name": "stdout",
     "output_type": "stream",
     "text": [
      "(470,)\n"
     ]
    },
    {
     "data": {
      "image/png": "[encoded data removed]",
      "text/plain": [
       "<Figure size 432x288 with 1 Axes>"
      ]
     },
     "metadata": {
      "needs_background": "light"
     },
     "output_type": "display_data"
    }
   ],
   "source": [
    "test_sc = MinMaxScaler()\n",
    "test_sc.updatePatameter(sc_parameter)\n",
    "test_real = test_x[:, -1, 0]\n",
    "test_real = test_sc.getInverseData(test_real)\n",
    "output_action = pred\n",
    "print(test_real.shape)\n",
    "\n",
    "# Visualising the results\n",
    "plot = test_real\n",
    "sell = np.where(output_action==0)\n",
    "do_nothing = np.where(output_action==1)\n",
    "buy = np.where(output_action==2)\n",
    "plt.plot(plot, color = 'blue', label = 'Real')\n",
    "plt.scatter(sell, plot[sell], color = 'green', label = 'sell')\n",
    "plt.scatter(do_nothing, plot[do_nothing], color = 'gray', label = 'do nothing')\n",
    "plt.scatter(buy, plot[buy], color = 'red', label = 'buy')\n",
    "# plt.plot(output_prices, color = 'blue', label = 'Predicted Google Stock Price')\n",
    "plt.title('Prediction')\n",
    "plt.xlabel('Time(days)')\n",
    "plt.ylabel('Real')\n",
    "plt.legend()\n",
    "plt.show()"
   ]
  },
  {
   "cell_type": "markdown",
   "metadata": {},
   "source": [
    "# import env"
   ]
  },
  {
   "cell_type": "code",
   "execution_count": 58,
   "metadata": {},
   "outputs": [],
   "source": [
    "from tools import stockEvn_single as single_env\n",
    "\n",
    "env = single_env()\n",
    "\n",
    "test_sc = MinMaxScaler()\n",
    "test_sc.updatePatameter(sc_parameter)\n",
    "\n",
    "\n",
    "def predict_once(index):\n",
    "    info = env.getInfo()\n",
    "    result = [info['assets']]\n",
    "    stock_value = [info['stock value']]\n",
    "    test_x, test_y, sc_parameter = create_dataset(path=paths[index], input_days=input_days, output_days=output_days)\n",
    "    test_x[np.isnan(test_x)] = 0\n",
    "    model_pred = model.predict(test_x)\n",
    "    pred = np.argmax(model_pred, axis=-1)\n",
    "    test_real = test_x[:, -1, 0]\n",
    "    test_real = test_sc.getInverseData(test_real)\n",
    "    output_action = pred\n",
    "    for i, action in enumerate(output_action):\n",
    "        env.doAction(test_real[i], action, model_pred[i, action])\n",
    "        info = env.getInfo()\n",
    "        result.append(info['assets'])\n",
    "        stock_value.append(info['stock value'])\n",
    "    env.doAction(test_real[-1], 0, 1)\n",
    "    return result, stock_value"
   ]
  },
  {
   "cell_type": "code",
   "execution_count": 59,
   "metadata": {},
   "outputs": [
    {
     "name": "stderr",
     "output_type": "stream",
     "text": [
      "C:\\Users\\DVLAB\\AppData\\anaconda3\\envs\\dlib\\lib\\site-packages\\ipykernel_launcher.py:20: RuntimeWarning: divide by zero encountered in double_scalars\n",
      "C:\\Users\\DVLAB\\AppData\\anaconda3\\envs\\dlib\\lib\\site-packages\\ipykernel_launcher.py:23: RuntimeWarning: invalid value encountered in multiply\n"
     ]
    },
    {
     "data": {
      "image/png": "[encoded data removed]",
      "text/plain": [
       "<Figure size 432x288 with 1 Axes>"
      ]
     },
     "metadata": {
      "needs_background": "light"
     },
     "output_type": "display_data"
    }
   ],
   "source": [
    "total_assets = np.array([])\n",
    "\n",
    "\n",
    "for i in range(1501, 1901):\n",
    "    assets, stock_value = predict_once(i)\n",
    "    total_assets = np.append(total_assets, np.asarray(assets))\n",
    "\n",
    "# Visualising the results\n",
    "plt.plot(total_assets, color = 'blue', label = 'assets')\n",
    "# plt.plot(stock_value, color = 'red', label = 'stock value')\n",
    "# plt.plot(output_prices, color = 'blue', label = 'Predicted Google Stock Price')\n",
    "plt.title('Prediction')\n",
    "plt.xlabel('Time(moment)')\n",
    "plt.ylabel('Real')\n",
    "plt.legend()\n",
    "plt.show()"
   ]
  }
 ],
 "metadata": {
  "kernelspec": {
   "display_name": "Python [conda env:dlib]",
   "language": "python",
   "name": "conda-env-dlib-py"
  },
  "language_info": {
   "codemirror_mode": {
    "name": "ipython",
    "version": 3
   },
   "file_extension": ".py",
   "mimetype": "text/x-python",
   "name": "python",
   "nbconvert_exporter": "python",
   "pygments_lexer": "ipython3",
   "version": "3.6.6"
  }
 },
 "nbformat": 4,
 "nbformat_minor": 2
}
