{
 "cells": [
  {
   "cell_type": "markdown",
   "metadata": {},
   "source": [
    "# Read dataset"
   ]
  },
  {
   "cell_type": "code",
   "execution_count": 1,
   "metadata": {},
   "outputs": [],
   "source": [
    "import numpy as np\n",
    "import matplotlib.pyplot as plt\n",
    "import pandas as pd\n",
    "\n",
    "train_data = pd.read_csv('./dataset/Google_Stock_Price_Train.csv').values\n",
    "test_data = pd.read_csv('./dataset/Google_Stock_Price_Test.csv').values\n",
    "\n",
    "# parameter\n",
    "input_days = 6\n",
    "local_norm_flag = True\n",
    "epochs = 100\n",
    "batch_size = 5"
   ]
  },
  {
   "cell_type": "markdown",
   "metadata": {},
   "source": [
    "# Fix data string to float"
   ]
  },
  {
   "cell_type": "code",
   "execution_count": 2,
   "metadata": {},
   "outputs": [
    {
     "name": "stdout",
     "output_type": "stream",
     "text": [
      "(1258, 5)\n",
      "(20, 5)\n"
     ]
    }
   ],
   "source": [
    "# the data[4:6] must be fix\n",
    "def str2float(data):\n",
    "    length = len(data)\n",
    "    for i in range(length):\n",
    "        try:\n",
    "            data[i] = data[i].replace(',', '')\n",
    "        except AttributeError:\n",
    "            data[i] = data[i]\n",
    "    return np.asarray(data, dtype=np.float)\n",
    "    \n",
    "# fix all data in dataset\n",
    "def fixStr2Float(dataset):\n",
    "    shape = dataset.shape\n",
    "    dataset_t = np.zeros((0, shape[-1]), np.float)\n",
    "    for i, data in enumerate(dataset):\n",
    "        dataset_t = np.append(dataset_t, np.expand_dims(str2float(data), axis=0), axis=0)\n",
    "    return dataset_t\n",
    "\n",
    "# trainsform\n",
    "train_data_t = fixStr2Float(train_data[:, 1:])\n",
    "test_data_t = fixStr2Float(test_data[:, 1:])\n",
    "\n",
    "print(train_data_t.shape)\n",
    "print(test_data_t.shape)"
   ]
  },
  {
   "cell_type": "markdown",
   "metadata": {},
   "source": [
    "# My own MinMaxScaler"
   ]
  },
  {
   "cell_type": "code",
   "execution_count": 3,
   "metadata": {},
   "outputs": [],
   "source": [
    "class MinMaxScaler:\n",
    "    __min = 0.\n",
    "    __max = 1.\n",
    "    __range = 1.\n",
    "    __feature_range = (0, 1)\n",
    "    __scale = 1.\n",
    "    def __init__(self):\n",
    "        pass\n",
    "    def getScalerData(self, dataset, offset=0.1, feature_range=(0, 1)):\n",
    "        data_max = np.max(dataset)\n",
    "        data_min = np.min(dataset)\n",
    "        self.__range = (data_max - data_min) * (1 + offset)\n",
    "        self.__min = data_max - self.__range\n",
    "        self.__max = data_min + self.__range\n",
    "        self.__feature_range = feature_range\n",
    "        self.__scale = (feature_range[1] - feature_range[0]) / self.__range\n",
    "        return self.getTransformData(dataset)\n",
    "    def getTransformData(self, dataset):\n",
    "        return (dataset - self.__min) * self.__scale + self.__feature_range[0]\n",
    "    def getInverseData(self, scalerDataset):\n",
    "        return (scalerDataset - self.__feature_range[0]) / self.__scale + self.__min\n",
    "    def getParameter(self):\n",
    "        return self.__min, self.__max, self.__range, self.__feature_range, self.__scale"
   ]
  },
  {
   "cell_type": "markdown",
   "metadata": {},
   "source": [
    "# define create dataset"
   ]
  },
  {
   "cell_type": "code",
   "execution_count": 4,
   "metadata": {},
   "outputs": [],
   "source": [
    "def createDataset_global(dataset, day_in=60, day_out=1):\n",
    "    count = len(dataset)\n",
    "    x = []\n",
    "    y = []\n",
    "    for i in range(day_in, count - day_out + 1):\n",
    "        x.append(dataset[i-day_in:i, :])\n",
    "        y.append(dataset[i:i+day_out, :])\n",
    "    return np.asarray(x), np.asarray(y)\n",
    "\n",
    "def genQuteChange(dataset):\n",
    "    return (dataset[1:] - dataset[:-1]) / dataset[:-1]\n",
    "\n",
    "def createDataset_local(dataset, day_in=60, day_out=1, offset=0.1):\n",
    "    sc = MinMaxScaler()\n",
    "    count = len(dataset)\n",
    "    x = []\n",
    "    y = []\n",
    "    for i in range(day_in, count - day_out + 1):\n",
    "        x.append(sc.getScalerData(dataset[i-day_in:i, :], offset=offset))\n",
    "        y.append(sc.getTransformData(dataset[i:i+day_out, :]))\n",
    "    return np.asarray(x), np.asarray(y)"
   ]
  },
  {
   "cell_type": "markdown",
   "metadata": {},
   "source": [
    "# Create training dataset and testing dataset"
   ]
  },
  {
   "cell_type": "code",
   "execution_count": 5,
   "metadata": {},
   "outputs": [
    {
     "name": "stdout",
     "output_type": "stream",
     "text": [
      "(1252, 6, 2) (1252, 1, 1)\n",
      "(26, 6, 2) (26, 1, 1)\n"
     ]
    }
   ],
   "source": [
    "# append to a big dataset total\n",
    "dataset = np.append(train_data_t, test_data_t, axis=0)\n",
    "test_count = len(test_data_t)\n",
    "\n",
    "# Split dataset to Volume and Open\n",
    "open_data = dataset[:, :1]\n",
    "volume_data = dataset[:, -1:]\n",
    "\n",
    "# use global norm to volume data (with offset)\n",
    "volume_sc = MinMaxScaler()\n",
    "volume_norm = volume_sc.getScalerData(volume_data, offset=0.05, feature_range=(0, 1))\n",
    "\n",
    "# create dataset\n",
    "offset = 0.5\n",
    "volume_dataset = createDataset_global(volume_norm, day_in=input_days)\n",
    "if local_norm_flag:\n",
    "    open_dataset = createDataset_local(dataset[:, :1], day_in=input_days, offset=offset)\n",
    "else:\n",
    "    open_sc = MinMaxScaler()\n",
    "    open_qute = genQuteChange(dataset[:, :1])\n",
    "    open_norm = open_sc.getScalerData(open_qute, offset=0, feature_range=(0, 1))\n",
    "    open_dataset = createDataset_global(open_norm, day_in=input_days)\n",
    "    # fix volume dataset\n",
    "    volume_dataset = (volume_dataset[0][1:], volume_dataset[1][1:])\n",
    "\n",
    "# create total dataset\n",
    "dataset_x = np.append(open_dataset[0], volume_dataset[0], axis=-1)\n",
    "dataset_y = np.append(open_dataset[1], volume_dataset[1], axis=-1)\n",
    "\n",
    "# split to train and test dataset\n",
    "train_x = dataset_x[:-test_count]\n",
    "train_y = dataset_y[:-test_count, :, :1]\n",
    "test_x = dataset_x[-test_count-input_days:]\n",
    "test_y = dataset_y[-test_count-input_days:, :, :1]\n",
    "\n",
    "print(train_x.shape, train_y.shape)\n",
    "print(test_x.shape, test_y.shape)"
   ]
  },
  {
   "cell_type": "markdown",
   "metadata": {},
   "source": [
    "# show volume data detail"
   ]
  },
  {
   "cell_type": "code",
   "execution_count": 6,
   "metadata": {},
   "outputs": [
    {
     "name": "stdout",
     "output_type": "stream",
     "text": [
      "[33.66417403] [-0.99747065]\n"
     ]
    },
    {
     "data": {
      "image/png": "[encoded data removed]",
      "text/plain": [
       "<Figure size 432x288 with 1 Axes>"
      ]
     },
     "metadata": {
      "needs_background": "light"
     },
     "output_type": "display_data"
    }
   ],
   "source": [
    "count = len(volume_data)\n",
    "min_ = 1\n",
    "max_ = 0\n",
    "stat = []\n",
    "sc = MinMaxScaler()\n",
    "volume_data_temp = sc.getScalerData(volume_data, offset=0, feature_range=(0, 35))\n",
    "for i in range(1, count):\n",
    "    temp = (volume_data[i] - volume_data[i-1]) / volume_data[i-1]\n",
    "    stat.append(temp[0])\n",
    "    if temp > max_:\n",
    "        max_ = temp\n",
    "    elif temp < min_:\n",
    "        min_ = temp\n",
    "print(max_, min_)\n",
    "\n",
    "# Visualising the results\n",
    "plt.plot(volume_data_temp, color = 'blue', label = 'value')\n",
    "plt.plot(stat, color = 'red', label = 'amplitude')\n",
    "plt.title('Prediction')\n",
    "plt.xlabel('Time(days)')\n",
    "plt.ylabel('Real')\n",
    "plt.legend()\n",
    "plt.show()"
   ]
  },
  {
   "cell_type": "markdown",
   "metadata": {},
   "source": [
    "# Create Model"
   ]
  },
  {
   "cell_type": "code",
   "execution_count": 7,
   "metadata": {},
   "outputs": [
    {
     "name": "stdout",
     "output_type": "stream",
     "text": [
      "WARNING:tensorflow:From C:\\Users\\DVLAB\\AppData\\anaconda3\\envs\\dlib\\lib\\site-packages\\tensorflow\\python\\ops\\resource_variable_ops.py:435: colocate_with (from tensorflow.python.framework.ops) is deprecated and will be removed in a future version.\n",
      "Instructions for updating:\n",
      "Colocations handled automatically by placer.\n",
      "WARNING:tensorflow:From C:\\Users\\DVLAB\\AppData\\anaconda3\\envs\\dlib\\lib\\site-packages\\tensorflow\\python\\keras\\backend.py:4010: calling dropout (from tensorflow.python.ops.nn_ops) with keep_prob is deprecated and will be removed in a future version.\n",
      "Instructions for updating:\n",
      "Please use `rate` instead of `keep_prob`. Rate should be set to `rate = 1 - keep_prob`.\n",
      "WARNING:tensorflow:From C:\\Users\\DVLAB\\AppData\\anaconda3\\envs\\dlib\\lib\\site-packages\\tensorflow\\python\\keras\\utils\\losses_utils.py:170: to_float (from tensorflow.python.ops.math_ops) is deprecated and will be removed in a future version.\n",
      "Instructions for updating:\n",
      "Use tf.cast instead.\n",
      "_________________________________________________________________\n",
      "Layer (type)                 Output Shape              Param #   \n",
      "=================================================================\n",
      "lstm (LSTM)                  (None, 6, 50)             10600     \n",
      "_________________________________________________________________\n",
      "lstm_1 (LSTM)                (None, 6, 50)             20200     \n",
      "_________________________________________________________________\n",
      "flatten (Flatten)            (None, 300)               0         \n",
      "_________________________________________________________________\n",
      "dense (Dense)                (None, 128)               38528     \n",
      "_________________________________________________________________\n",
      "dense_1 (Dense)              (None, 40)                5160      \n",
      "_________________________________________________________________\n",
      "dense_2 (Dense)              (None, 1)                 41        \n",
      "=================================================================\n",
      "Total params: 74,529\n",
      "Trainable params: 74,529\n",
      "Non-trainable params: 0\n",
      "_________________________________________________________________\n"
     ]
    }
   ],
   "source": [
    "# LSTM Training\n",
    "from tensorflow.keras.models import Sequential\n",
    "from tensorflow.keras.layers import LSTM, Dense, Dropout, Flatten\n",
    "from tensorflow.keras.utils import plot_model\n",
    "\n",
    "model = Sequential()\n",
    "\n",
    "model.add(LSTM(units = 50, return_sequences = True, input_shape = (input_days, 2), dropout=0.2))\n",
    "model.add(LSTM(units = 50, return_sequences = True, dropout=0.2))\n",
    "model.add(Flatten())\n",
    "model.add(Dense(units = 128, activation='relu'))\n",
    "model.add(Dense(units = 40, activation='relu'))\n",
    "model.add(Dense(units = 1))\n",
    "model.compile(optimizer = 'adam', loss = 'mean_squared_error')\n",
    "model.summary()\n",
    "plot_model(model, 'model.png')"
   ]
  },
  {
   "cell_type": "markdown",
   "metadata": {},
   "source": [
    "# Training the model with `Open` data and `Volume` data"
   ]
  },
  {
   "cell_type": "code",
   "execution_count": 8,
   "metadata": {
    "scrolled": true
   },
   "outputs": [
    {
     "name": "stdout",
     "output_type": "stream",
     "text": [
      "Train on 1252 samples, validate on 26 samples\n",
      "WARNING:tensorflow:From C:\\Users\\DVLAB\\AppData\\anaconda3\\envs\\dlib\\lib\\site-packages\\tensorflow\\python\\ops\\math_ops.py:3066: to_int32 (from tensorflow.python.ops.math_ops) is deprecated and will be removed in a future version.\n",
      "Instructions for updating:\n",
      "Use tf.cast instead.\n",
      "Epoch 1/100\n",
      "1252/1252 [==============================] - 8s 6ms/sample - loss: 0.2491 - val_loss: 0.9525\n",
      "Epoch 2/100\n",
      "1252/1252 [==============================] - 5s 4ms/sample - loss: 0.2085 - val_loss: 0.9714\n",
      "Epoch 3/100\n",
      "1252/1252 [==============================] - 5s 4ms/sample - loss: 0.1944 - val_loss: 0.8887\n",
      "Epoch 4/100\n",
      "1252/1252 [==============================] - 5s 4ms/sample - loss: 0.1790 - val_loss: 0.8884\n",
      "Epoch 5/100\n",
      "1252/1252 [==============================] - 5s 4ms/sample - loss: 0.1719 - val_loss: 0.8329\n",
      "Epoch 6/100\n",
      "1252/1252 [==============================] - 5s 4ms/sample - loss: 0.1668 - val_loss: 0.8357\n",
      "Epoch 7/100\n",
      "1252/1252 [==============================] - 5s 4ms/sample - loss: 0.1758 - val_loss: 0.8479\n",
      "Epoch 8/100\n",
      "1252/1252 [==============================] - 5s 4ms/sample - loss: 0.1678 - val_loss: 0.8055\n",
      "Epoch 9/100\n",
      "1252/1252 [==============================] - 5s 4ms/sample - loss: 0.1696 - val_loss: 0.9144\n",
      "Epoch 10/100\n",
      "1250/1252 [============================>.] - ETA: 0s - loss: 0.1692\n",
      "Epoch 00010: saving model to ./model/LSTM_03_check_point/cp-0010.ckpt\n",
      "WARNING:tensorflow:This model was compiled with a Keras optimizer (<tensorflow.python.keras.optimizers.Adam object at 0x000001F68C20F4E0>) but is being saved in TensorFlow format with `save_weights`. The model's weights will be saved, but unlike with TensorFlow optimizers in the TensorFlow format the optimizer's state will not be saved.\n",
      "\n",
      "Consider using a TensorFlow optimizer from `tf.train`.\n",
      "WARNING:tensorflow:From C:\\Users\\DVLAB\\AppData\\anaconda3\\envs\\dlib\\lib\\site-packages\\tensorflow\\python\\keras\\engine\\network.py:1436: update_checkpoint_state (from tensorflow.python.training.checkpoint_management) is deprecated and will be removed in a future version.\n",
      "Instructions for updating:\n",
      "Use tf.train.CheckpointManager to manage checkpoints rather than manually editing the Checkpoint proto.\n",
      "1252/1252 [==============================] - 5s 4ms/sample - loss: 0.1690 - val_loss: 0.8481\n",
      "Epoch 11/100\n",
      "1252/1252 [==============================] - 5s 4ms/sample - loss: 0.1641 - val_loss: 0.8330\n",
      "Epoch 12/100\n",
      "1252/1252 [==============================] - 5s 4ms/sample - loss: 0.1601 - val_loss: 0.8950\n",
      "Epoch 13/100\n",
      "1252/1252 [==============================] - 5s 4ms/sample - loss: 0.1633 - val_loss: 0.8090\n",
      "Epoch 14/100\n",
      "1252/1252 [==============================] - 5s 4ms/sample - loss: 0.1596 - val_loss: 0.8387\n",
      "Epoch 15/100\n",
      "1252/1252 [==============================] - 5s 4ms/sample - loss: 0.1564 - val_loss: 0.8944\n",
      "Epoch 16/100\n",
      "1252/1252 [==============================] - 5s 4ms/sample - loss: 0.1568 - val_loss: 0.8264\n",
      "Epoch 17/100\n",
      "1252/1252 [==============================] - 5s 4ms/sample - loss: 0.1584 - val_loss: 0.8309\n",
      "Epoch 18/100\n",
      "1252/1252 [==============================] - 5s 4ms/sample - loss: 0.1531 - val_loss: 0.8148\n",
      "Epoch 19/100\n",
      "1252/1252 [==============================] - 5s 4ms/sample - loss: 0.1548 - val_loss: 0.8204\n",
      "Epoch 20/100\n",
      "1235/1252 [============================>.] - ETA: 0s - loss: 0.1572\n",
      "Epoch 00020: saving model to ./model/LSTM_03_check_point/cp-0020.ckpt\n",
      "WARNING:tensorflow:This model was compiled with a Keras optimizer (<tensorflow.python.keras.optimizers.Adam object at 0x000001F68C20F4E0>) but is being saved in TensorFlow format with `save_weights`. The model's weights will be saved, but unlike with TensorFlow optimizers in the TensorFlow format the optimizer's state will not be saved.\n",
      "\n",
      "Consider using a TensorFlow optimizer from `tf.train`.\n",
      "1252/1252 [==============================] - 5s 4ms/sample - loss: 0.1559 - val_loss: 0.8224\n",
      "Epoch 21/100\n",
      "1252/1252 [==============================] - 5s 4ms/sample - loss: 0.1549 - val_loss: 0.8287\n",
      "Epoch 22/100\n",
      "1252/1252 [==============================] - 5s 4ms/sample - loss: 0.1564 - val_loss: 0.8272\n",
      "Epoch 23/100\n",
      "1252/1252 [==============================] - 5s 4ms/sample - loss: 0.1541 - val_loss: 0.8244\n",
      "Epoch 24/100\n",
      "1252/1252 [==============================] - 5s 4ms/sample - loss: 0.1563 - val_loss: 0.8604\n",
      "Epoch 25/100\n",
      "1252/1252 [==============================] - 5s 4ms/sample - loss: 0.1517 - val_loss: 0.8387\n",
      "Epoch 26/100\n",
      "1252/1252 [==============================] - 5s 4ms/sample - loss: 0.1556 - val_loss: 0.8424\n",
      "Epoch 27/100\n",
      "1252/1252 [==============================] - 5s 4ms/sample - loss: 0.1557 - val_loss: 0.8149\n",
      "Epoch 28/100\n",
      "1252/1252 [==============================] - 5s 4ms/sample - loss: 0.1494 - val_loss: 0.8146\n",
      "Epoch 29/100\n",
      "1252/1252 [==============================] - 5s 4ms/sample - loss: 0.1533 - val_loss: 0.8239\n",
      "Epoch 30/100\n",
      "1250/1252 [============================>.] - ETA: 0s - loss: 0.1548\n",
      "Epoch 00030: saving model to ./model/LSTM_03_check_point/cp-0030.ckpt\n",
      "WARNING:tensorflow:This model was compiled with a Keras optimizer (<tensorflow.python.keras.optimizers.Adam object at 0x000001F68C20F4E0>) but is being saved in TensorFlow format with `save_weights`. The model's weights will be saved, but unlike with TensorFlow optimizers in the TensorFlow format the optimizer's state will not be saved.\n",
      "\n",
      "Consider using a TensorFlow optimizer from `tf.train`.\n",
      "1252/1252 [==============================] - 5s 4ms/sample - loss: 0.1547 - val_loss: 0.8071\n",
      "Epoch 31/100\n",
      "1252/1252 [==============================] - 5s 4ms/sample - loss: 0.1507 - val_loss: 0.8159\n",
      "Epoch 32/100\n",
      "1252/1252 [==============================] - 5s 4ms/sample - loss: 0.1503 - val_loss: 0.8548\n",
      "Epoch 33/100\n",
      "1252/1252 [==============================] - 5s 4ms/sample - loss: 0.1530 - val_loss: 0.8078\n",
      "Epoch 34/100\n",
      "1252/1252 [==============================] - 5s 4ms/sample - loss: 0.1507 - val_loss: 0.8414\n",
      "Epoch 35/100\n",
      "1252/1252 [==============================] - 5s 4ms/sample - loss: 0.1503 - val_loss: 0.8279\n",
      "Epoch 36/100\n",
      "1252/1252 [==============================] - 5s 4ms/sample - loss: 0.1506 - val_loss: 0.8429\n",
      "Epoch 37/100\n",
      "1252/1252 [==============================] - 5s 4ms/sample - loss: 0.1516 - val_loss: 0.8225\n",
      "Epoch 38/100\n",
      "1252/1252 [==============================] - 5s 4ms/sample - loss: 0.1522 - val_loss: 0.8274\n",
      "Epoch 39/100\n",
      "1252/1252 [==============================] - 5s 4ms/sample - loss: 0.1514 - val_loss: 0.8373\n",
      "Epoch 40/100\n",
      "1250/1252 [============================>.] - ETA: 0s - loss: 0.1514\n",
      "Epoch 00040: saving model to ./model/LSTM_03_check_point/cp-0040.ckpt\n",
      "WARNING:tensorflow:This model was compiled with a Keras optimizer (<tensorflow.python.keras.optimizers.Adam object at 0x000001F68C20F4E0>) but is being saved in TensorFlow format with `save_weights`. The model's weights will be saved, but unlike with TensorFlow optimizers in the TensorFlow format the optimizer's state will not be saved.\n",
      "\n",
      "Consider using a TensorFlow optimizer from `tf.train`.\n",
      "1252/1252 [==============================] - 5s 4ms/sample - loss: 0.1512 - val_loss: 0.8367\n",
      "Epoch 41/100\n",
      "1252/1252 [==============================] - 5s 4ms/sample - loss: 0.1494 - val_loss: 0.8130\n",
      "Epoch 42/100\n",
      "1252/1252 [==============================] - 5s 4ms/sample - loss: 0.1527 - val_loss: 0.8102\n",
      "Epoch 43/100\n",
      "1252/1252 [==============================] - 5s 4ms/sample - loss: 0.1524 - val_loss: 0.8353\n",
      "Epoch 44/100\n",
      "1252/1252 [==============================] - 5s 4ms/sample - loss: 0.1509 - val_loss: 0.8240\n",
      "Epoch 45/100\n",
      "1252/1252 [==============================] - 5s 4ms/sample - loss: 0.1502 - val_loss: 0.8540\n",
      "Epoch 46/100\n",
      "1252/1252 [==============================] - 5s 4ms/sample - loss: 0.1496 - val_loss: 0.8272\n",
      "Epoch 47/100\n",
      "1252/1252 [==============================] - 5s 4ms/sample - loss: 0.1474 - val_loss: 0.8193\n",
      "Epoch 48/100\n",
      "1252/1252 [==============================] - 5s 4ms/sample - loss: 0.1515 - val_loss: 0.8109\n",
      "Epoch 49/100\n",
      "1252/1252 [==============================] - 5s 4ms/sample - loss: 0.1493 - val_loss: 0.8101\n",
      "Epoch 50/100\n",
      "1245/1252 [============================>.] - ETA: 0s - loss: 0.1476\n",
      "Epoch 00050: saving model to ./model/LSTM_03_check_point/cp-0050.ckpt\n",
      "WARNING:tensorflow:This model was compiled with a Keras optimizer (<tensorflow.python.keras.optimizers.Adam object at 0x000001F68C20F4E0>) but is being saved in TensorFlow format with `save_weights`. The model's weights will be saved, but unlike with TensorFlow optimizers in the TensorFlow format the optimizer's state will not be saved.\n",
      "\n",
      "Consider using a TensorFlow optimizer from `tf.train`.\n",
      "1252/1252 [==============================] - 5s 4ms/sample - loss: 0.1473 - val_loss: 0.8163\n",
      "Epoch 51/100\n",
      "1252/1252 [==============================] - 5s 4ms/sample - loss: 0.1501 - val_loss: 0.8375\n",
      "Epoch 52/100\n",
      "1252/1252 [==============================] - 5s 4ms/sample - loss: 0.1503 - val_loss: 0.8211\n",
      "Epoch 53/100\n",
      "1252/1252 [==============================] - 5s 4ms/sample - loss: 0.1491 - val_loss: 0.8221\n",
      "Epoch 54/100\n",
      "1252/1252 [==============================] - 5s 4ms/sample - loss: 0.1510 - val_loss: 0.8140\n",
      "Epoch 55/100\n",
      "1252/1252 [==============================] - 5s 4ms/sample - loss: 0.1485 - val_loss: 0.7940\n",
      "Epoch 56/100\n",
      "1252/1252 [==============================] - 5s 4ms/sample - loss: 0.1487 - val_loss: 0.8082\n",
      "Epoch 57/100\n",
      "1252/1252 [==============================] - 5s 4ms/sample - loss: 0.1462 - val_loss: 0.7929\n",
      "Epoch 58/100\n",
      "1252/1252 [==============================] - 5s 4ms/sample - loss: 0.1475 - val_loss: 0.8384\n",
      "Epoch 59/100\n",
      "1252/1252 [==============================] - 5s 4ms/sample - loss: 0.1483 - val_loss: 0.7955\n",
      "Epoch 60/100\n",
      "1245/1252 [============================>.] - ETA: 0s - loss: 0.1434\n",
      "Epoch 00060: saving model to ./model/LSTM_03_check_point/cp-0060.ckpt\n",
      "WARNING:tensorflow:This model was compiled with a Keras optimizer (<tensorflow.python.keras.optimizers.Adam object at 0x000001F68C20F4E0>) but is being saved in TensorFlow format with `save_weights`. The model's weights will be saved, but unlike with TensorFlow optimizers in the TensorFlow format the optimizer's state will not be saved.\n",
      "\n",
      "Consider using a TensorFlow optimizer from `tf.train`.\n",
      "1252/1252 [==============================] - 5s 4ms/sample - loss: 0.1469 - val_loss: 0.8473\n",
      "Epoch 61/100\n",
      "1252/1252 [==============================] - 5s 4ms/sample - loss: 0.1501 - val_loss: 0.8303o\n",
      "Epoch 62/100\n",
      "1252/1252 [==============================] - 5s 4ms/sample - loss: 0.1463 - val_loss: 0.7942\n",
      "Epoch 63/100\n",
      "1252/1252 [==============================] - 5s 4ms/sample - loss: 0.1478 - val_loss: 0.7970\n",
      "Epoch 64/100\n",
      "1252/1252 [==============================] - 5s 4ms/sample - loss: 0.1472 - val_loss: 0.8058\n",
      "Epoch 65/100\n",
      "1252/1252 [==============================] - 5s 4ms/sample - loss: 0.1462 - val_loss: 0.8096\n",
      "Epoch 66/100\n",
      "1252/1252 [==============================] - 5s 4ms/sample - loss: 0.1447 - val_loss: 0.7989\n",
      "Epoch 67/100\n",
      "1252/1252 [==============================] - 5s 4ms/sample - loss: 0.1480 - val_loss: 0.7997\n",
      "Epoch 68/100\n",
      "1252/1252 [==============================] - 5s 4ms/sample - loss: 0.1472 - val_loss: 0.8211\n",
      "Epoch 69/100\n",
      "1252/1252 [==============================] - 5s 4ms/sample - loss: 0.1427 - val_loss: 0.7955\n",
      "Epoch 70/100\n",
      "1245/1252 [============================>.] - ETA: 0s - loss: 0.1452\n",
      "Epoch 00070: saving model to ./model/LSTM_03_check_point/cp-0070.ckpt\n",
      "WARNING:tensorflow:This model was compiled with a Keras optimizer (<tensorflow.python.keras.optimizers.Adam object at 0x000001F68C20F4E0>) but is being saved in TensorFlow format with `save_weights`. The model's weights will be saved, but unlike with TensorFlow optimizers in the TensorFlow format the optimizer's state will not be saved.\n",
      "\n",
      "Consider using a TensorFlow optimizer from `tf.train`.\n",
      "1252/1252 [==============================] - 5s 4ms/sample - loss: 0.1464 - val_loss: 0.8039\n",
      "Epoch 71/100\n",
      "1252/1252 [==============================] - 5s 4ms/sample - loss: 0.1441 - val_loss: 0.8013\n",
      "Epoch 72/100\n",
      "1252/1252 [==============================] - 5s 4ms/sample - loss: 0.1445 - val_loss: 0.7952\n",
      "Epoch 73/100\n",
      "1252/1252 [==============================] - 5s 4ms/sample - loss: 0.1462 - val_loss: 0.8169\n",
      "Epoch 74/100\n",
      "1252/1252 [==============================] - 5s 4ms/sample - loss: 0.1433 - val_loss: 0.8196\n",
      "Epoch 75/100\n",
      "1252/1252 [==============================] - 5s 4ms/sample - loss: 0.1454 - val_loss: 0.8042\n",
      "Epoch 76/100\n",
      "1252/1252 [==============================] - 5s 4ms/sample - loss: 0.1441 - val_loss: 0.8056\n",
      "Epoch 77/100\n",
      "1252/1252 [==============================] - 5s 4ms/sample - loss: 0.1443 - val_loss: 0.8119\n",
      "Epoch 78/100\n",
      "1252/1252 [==============================] - 5s 4ms/sample - loss: 0.1418 - val_loss: 0.7977\n",
      "Epoch 79/100\n",
      "1252/1252 [==============================] - 5s 4ms/sample - loss: 0.1447 - val_loss: 0.8197\n",
      "Epoch 80/100\n",
      "1235/1252 [============================>.] - ETA: 0s - loss: 0.1441- ETA: 0s - loss: 0.1\n",
      "Epoch 00080: saving model to ./model/LSTM_03_check_point/cp-0080.ckpt\n",
      "WARNING:tensorflow:This model was compiled with a Keras optimizer (<tensorflow.python.keras.optimizers.Adam object at 0x000001F68C20F4E0>) but is being saved in TensorFlow format with `save_weights`. The model's weights will be saved, but unlike with TensorFlow optimizers in the TensorFlow format the optimizer's state will not be saved.\n",
      "\n",
      "Consider using a TensorFlow optimizer from `tf.train`.\n",
      "1252/1252 [==============================] - 5s 4ms/sample - loss: 0.1436 - val_loss: 0.7848\n",
      "Epoch 81/100\n",
      "1252/1252 [==============================] - 5s 4ms/sample - loss: 0.1445 - val_loss: 0.8024\n",
      "Epoch 82/100\n",
      "1252/1252 [==============================] - 5s 4ms/sample - loss: 0.1443 - val_loss: 0.7867\n",
      "Epoch 83/100\n",
      "1252/1252 [==============================] - 5s 4ms/sample - loss: 0.1429 - val_loss: 0.7714\n",
      "Epoch 84/100\n",
      "1252/1252 [==============================] - 5s 4ms/sample - loss: 0.1443 - val_loss: 0.8045\n",
      "Epoch 85/100\n",
      "1252/1252 [==============================] - 5s 4ms/sample - loss: 0.1458 - val_loss: 0.8018\n",
      "Epoch 86/100\n",
      "1252/1252 [==============================] - 5s 4ms/sample - loss: 0.1430 - val_loss: 0.8020\n",
      "Epoch 87/100\n",
      "1252/1252 [==============================] - 5s 4ms/sample - loss: 0.1416 - val_loss: 0.7997\n",
      "Epoch 88/100\n",
      "1252/1252 [==============================] - 5s 4ms/sample - loss: 0.1449 - val_loss: 0.8157\n",
      "Epoch 89/100\n",
      "1252/1252 [==============================] - 5s 4ms/sample - loss: 0.1411 - val_loss: 0.8000\n",
      "Epoch 90/100\n",
      "1240/1252 [============================>.] - ETA: 0s - loss: 0.1372\n",
      "Epoch 00090: saving model to ./model/LSTM_03_check_point/cp-0090.ckpt\n",
      "WARNING:tensorflow:This model was compiled with a Keras optimizer (<tensorflow.python.keras.optimizers.Adam object at 0x000001F68C20F4E0>) but is being saved in TensorFlow format with `save_weights`. The model's weights will be saved, but unlike with TensorFlow optimizers in the TensorFlow format the optimizer's state will not be saved.\n",
      "\n",
      "Consider using a TensorFlow optimizer from `tf.train`.\n",
      "1252/1252 [==============================] - 5s 4ms/sample - loss: 0.1380 - val_loss: 0.7784\n",
      "Epoch 91/100\n",
      "1252/1252 [==============================] - 5s 4ms/sample - loss: 0.1371 - val_loss: 0.7941\n",
      "Epoch 92/100\n",
      "1252/1252 [==============================] - 5s 4ms/sample - loss: 0.1396 - val_loss: 0.7903\n",
      "Epoch 93/100\n",
      "1252/1252 [==============================] - 5s 4ms/sample - loss: 0.1397 - val_loss: 0.7783\n",
      "Epoch 94/100\n",
      "1252/1252 [==============================] - 5s 4ms/sample - loss: 0.1383 - val_loss: 0.7990\n",
      "Epoch 95/100\n",
      "1252/1252 [==============================] - 5s 4ms/sample - loss: 0.1419 - val_loss: 0.7770\n",
      "Epoch 96/100\n",
      "1252/1252 [==============================] - 5s 4ms/sample - loss: 0.1391 - val_loss: 0.7697\n",
      "Epoch 97/100\n",
      "1252/1252 [==============================] - 5s 4ms/sample - loss: 0.1357 - val_loss: 0.8054\n",
      "Epoch 98/100\n",
      "1252/1252 [==============================] - 5s 4ms/sample - loss: 0.1386 - val_loss: 0.8037\n",
      "Epoch 99/100\n",
      "1252/1252 [==============================] - 5s 4ms/sample - loss: 0.1373 - val_loss: 0.7723\n",
      "Epoch 100/100\n",
      "1250/1252 [============================>.] - ETA: 0s - loss: 0.1398\n",
      "Epoch 00100: saving model to ./model/LSTM_03_check_point/cp-0100.ckpt\n",
      "WARNING:tensorflow:This model was compiled with a Keras optimizer (<tensorflow.python.keras.optimizers.Adam object at 0x000001F68C20F4E0>) but is being saved in TensorFlow format with `save_weights`. The model's weights will be saved, but unlike with TensorFlow optimizers in the TensorFlow format the optimizer's state will not be saved.\n",
      "\n",
      "Consider using a TensorFlow optimizer from `tf.train`.\n",
      "1252/1252 [==============================] - 5s 4ms/sample - loss: 0.1395 - val_loss: 0.7883\n"
     ]
    }
   ],
   "source": [
    "from tensorflow.keras.callbacks import ModelCheckpoint\n",
    "import os\n",
    "name = 'LSTM_03'\n",
    "checkpoint_file = './model/' + name + '_check_point/cp-{epoch:04d}.ckpt'\n",
    "try:\n",
    "    os.mkdir('./model/' + name + '_check_point/')\n",
    "except:\n",
    "    pass\n",
    "\n",
    "# get what we want\n",
    "train_input = train_x\n",
    "train_label = train_y\n",
    "test_input = test_x\n",
    "test_label = test_y\n",
    "train_label = np.squeeze(train_label, axis=1)\n",
    "test_label = np.squeeze(test_label, axis=1)\n",
    "\n",
    "# create callback function\n",
    "cp_callback = ModelCheckpoint(checkpoint_file, save_weights_only=True, verbose=1, period=10)\n",
    "\n",
    "# train the model\n",
    "train = model.fit(train_input, train_label, epochs=epochs, batch_size=batch_size, callbacks=[cp_callback], \n",
    "                  validation_data=(test_input, test_label))\n",
    "\n",
    "# save model\n",
    "model.save('./model/' + name + '.h5')"
   ]
  },
  {
   "cell_type": "code",
   "execution_count": 9,
   "metadata": {},
   "outputs": [
    {
     "data": {
      "image/png": "[encoded data removed]",
      "text/plain": [
       "<Figure size 432x288 with 1 Axes>"
      ]
     },
     "metadata": {
      "needs_background": "light"
     },
     "output_type": "display_data"
    }
   ],
   "source": [
    "plt.plot(train.history['loss'])\n",
    "plt.plot(train.history['val_loss'])\n",
    "plt.title('model loss')\n",
    "plt.ylabel('loss')\n",
    "plt.xlabel('epoch')\n",
    "plt.legend(['train', 'test'], loc='upper right')\n",
    "plt.show()"
   ]
  },
  {
   "cell_type": "code",
   "execution_count": 10,
   "metadata": {},
   "outputs": [
    {
     "name": "stdout",
     "output_type": "stream",
     "text": [
      "(20,) [783.54949048 779.47702427 784.47940611 789.74760791 798.75662766\n",
      " 807.88898733 807.70712714 803.40541513 805.54427459 808.26380839\n",
      " 805.71194255 805.27730954 804.77383096 806.87025345 807.14862486\n",
      " 825.09010688 828.95066225 839.69256085 835.23717023 806.30394821]\n"
     ]
    }
   ],
   "source": [
    "# local data\n",
    "# model.load_weights('./model/LSTM_03_check_point/cp-{epoch:04d}.ckpt'.format(epoch=600))\n",
    "if local_norm_flag:\n",
    "    testing_data = open_data[-test_count-input_days:]\n",
    "    output_prices = []\n",
    "    for i in range(test_count):\n",
    "        sc = MinMaxScaler()\n",
    "        test = testing_data[i:i+input_days]\n",
    "        test = sc.getScalerData(test, offset=offset)\n",
    "        output = model.predict(np.append(np.expand_dims(test, axis=0), test_x[i:i+1, :, 1:2], axis=-1))\n",
    "        output_prices.append(sc.getInverseData(output[0][0]))\n",
    "else:\n",
    "    output = model.predict(test_input)\n",
    "    output_qute = 1 + open_sc.getInverseData(output)[-test_count:]\n",
    "    value_init = open_data[-test_count-1:-1]\n",
    "    output_prices = value_init * output_qute\n",
    "output_prices = np.asarray(output_prices)\n",
    "print(output_prices.shape, output_prices)"
   ]
  },
  {
   "cell_type": "code",
   "execution_count": 11,
   "metadata": {},
   "outputs": [
    {
     "data": {
      "image/png": "[encoded data removed]",
      "text/plain": [
       "<Figure size 432x288 with 1 Axes>"
      ]
     },
     "metadata": {
      "needs_background": "light"
     },
     "output_type": "display_data"
    }
   ],
   "source": [
    "# Visualising the results\n",
    "plt.plot(test_data_t[1:, 0], color = 'red', label = 'Real Google Stock Price')\n",
    "plt.plot(output_prices, color = 'blue', label = 'Predicted Google Stock Price')\n",
    "plt.title('Prediction')\n",
    "plt.xlabel('Time(days)')\n",
    "plt.ylabel('Real')\n",
    "plt.legend()\n",
    "plt.show()"
   ]
  }
 ],
 "metadata": {
  "kernelspec": {
   "display_name": "Python [conda env:dlib]",
   "language": "python",
   "name": "conda-env-dlib-py"
  },
  "language_info": {
   "codemirror_mode": {
    "name": "ipython",
    "version": 3
   },
   "file_extension": ".py",
   "mimetype": "text/x-python",
   "name": "python",
   "nbconvert_exporter": "python",
   "pygments_lexer": "ipython3",
   "version": "3.6.6"
  }
 },
 "nbformat": 4,
 "nbformat_minor": 2
}
