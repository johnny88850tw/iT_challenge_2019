{
 "cells": [
  {
   "cell_type": "markdown",
   "metadata": {},
   "source": [
    "# Read dataset"
   ]
  },
  {
   "cell_type": "code",
   "execution_count": 1,
   "metadata": {},
   "outputs": [],
   "source": [
    "import numpy as np\n",
    "import matplotlib.pyplot as plt\n",
    "import pandas as pd\n",
    "\n",
    "train_data = pd.read_csv('./dataset/Google_Stock_Price_Train.csv').values\n",
    "test_data = pd.read_csv('./dataset/Google_Stock_Price_Test.csv').values"
   ]
  },
  {
   "cell_type": "markdown",
   "metadata": {},
   "source": [
    "# Fix data string to float"
   ]
  },
  {
   "cell_type": "code",
   "execution_count": 2,
   "metadata": {},
   "outputs": [
    {
     "name": "stdout",
     "output_type": "stream",
     "text": [
      "(1258, 4)\n",
      "(20, 4)\n"
     ]
    }
   ],
   "source": [
    "# the data[4:6] must be fix\n",
    "def str2float(data):\n",
    "    length = len(data)\n",
    "    for i in range(length):\n",
    "        try:\n",
    "            data[i] = data[i].replace(',', '')\n",
    "        except AttributeError:\n",
    "            data[i] = data[i]\n",
    "    return np.asarray(data, dtype=np.float)\n",
    "    \n",
    "# fix all data in dataset\n",
    "def fixStr2Float(dataset):\n",
    "    shape = dataset.shape\n",
    "    dataset_t = np.zeros((0, shape[-1]), np.float)\n",
    "    for i, data in enumerate(dataset):\n",
    "        dataset_t = np.append(dataset_t, np.expand_dims(str2float(data), axis=0), axis=0)\n",
    "    return dataset_t\n",
    "\n",
    "# trainsform\n",
    "train_data_t = fixStr2Float(train_data[:, 1:-1])\n",
    "test_data_t = fixStr2Float(test_data[:, 1:-1])\n",
    "\n",
    "print(train_data_t.shape)\n",
    "print(test_data_t.shape)"
   ]
  },
  {
   "cell_type": "markdown",
   "metadata": {},
   "source": [
    "# My own MinMaxScaler"
   ]
  },
  {
   "cell_type": "code",
   "execution_count": 3,
   "metadata": {},
   "outputs": [],
   "source": [
    "class MinMaxScaler:\n",
    "    __min = 0.\n",
    "    __max = 1.\n",
    "    __range = 1.\n",
    "    __feature_range = (0, 1)\n",
    "    __scale = 1.\n",
    "    def __init__(self):\n",
    "        pass\n",
    "    def getScalerData(self, dataset, offset=0.1, feature_range=(0, 1)):\n",
    "        data_max = np.max(dataset)\n",
    "        data_min = np.min(dataset)\n",
    "        self.__range = (data_max - data_min) * (1 + offset)\n",
    "        self.__min = data_max - self.__range\n",
    "        self.__max = data_min + self.__range\n",
    "        self.__feature_range = feature_range\n",
    "        self.__scale = (feature_range[1] - feature_range[0]) / self.__range\n",
    "        return self.getTransformData(dataset)\n",
    "    def getTransformData(self, dataset):\n",
    "        return (dataset - self.__min) * self.__scale + self.__feature_range[0]\n",
    "    def getInverseData(self, scalerDataset):\n",
    "        return (scalerDataset - self.__feature_range[0]) / self.__scale + self.__min\n",
    "    def getParameter(self):\n",
    "        return self.__min, self.__max, self.__range, self.__feature_range, self.__scale"
   ]
  },
  {
   "cell_type": "markdown",
   "metadata": {},
   "source": [
    "# Create training dataset and testing dataset"
   ]
  },
  {
   "cell_type": "code",
   "execution_count": 4,
   "metadata": {},
   "outputs": [
    {
     "name": "stdout",
     "output_type": "stream",
     "text": [
      "(1248, 10, 4) (1248, 1, 4)\n",
      "(20, 10, 4) (20, 1, 4)\n"
     ]
    }
   ],
   "source": [
    "# def create function\n",
    "def createDataset(dataset, day_in=60, day_out=1, offset=0.1):\n",
    "    sc = MinMaxScaler()\n",
    "    count = len(dataset)\n",
    "    x = []\n",
    "    y = []\n",
    "    for i in range(day_in, count - day_out + 1):\n",
    "        x.append(sc.getScalerData(dataset[i-day_in:i, :], offset=offset))\n",
    "        y.append(sc.getTransformData(dataset[i:i+day_out, :]))\n",
    "    return np.asarray(x), np.asarray(y)\n",
    "\n",
    "# set parameter\n",
    "input_days = 10\n",
    "output_days = 1\n",
    "offset = 0.15\n",
    "\n",
    "# append train data to test data\n",
    "test_data_append = np.append(train_data_t[-input_days:], test_data_t, axis=0)\n",
    "\n",
    "# create data input and output\n",
    "train_x, train_y = createDataset(train_data_t, day_in=input_days, day_out=output_days, offset=offset)\n",
    "test_x, test_y = createDataset(test_data_append, day_in=input_days, day_out=output_days, offset=offset)\n",
    "\n",
    "print(train_x.shape, train_y.shape)\n",
    "print(test_x.shape, test_y.shape)"
   ]
  },
  {
   "cell_type": "markdown",
   "metadata": {},
   "source": [
    "# Create Model"
   ]
  },
  {
   "cell_type": "code",
   "execution_count": 5,
   "metadata": {},
   "outputs": [
    {
     "name": "stderr",
     "output_type": "stream",
     "text": [
      "/usr/local/lib/python3.5/dist-packages/tensorflow/python/framework/dtypes.py:516: FutureWarning: Passing (type, 1) or '1type' as a synonym of type is deprecated; in a future version of numpy, it will be understood as (type, (1,)) / '(1,)type'.\n",
      "  _np_qint8 = np.dtype([(\"qint8\", np.int8, 1)])\n",
      "/usr/local/lib/python3.5/dist-packages/tensorflow/python/framework/dtypes.py:517: FutureWarning: Passing (type, 1) or '1type' as a synonym of type is deprecated; in a future version of numpy, it will be understood as (type, (1,)) / '(1,)type'.\n",
      "  _np_quint8 = np.dtype([(\"quint8\", np.uint8, 1)])\n",
      "/usr/local/lib/python3.5/dist-packages/tensorflow/python/framework/dtypes.py:518: FutureWarning: Passing (type, 1) or '1type' as a synonym of type is deprecated; in a future version of numpy, it will be understood as (type, (1,)) / '(1,)type'.\n",
      "  _np_qint16 = np.dtype([(\"qint16\", np.int16, 1)])\n",
      "/usr/local/lib/python3.5/dist-packages/tensorflow/python/framework/dtypes.py:519: FutureWarning: Passing (type, 1) or '1type' as a synonym of type is deprecated; in a future version of numpy, it will be understood as (type, (1,)) / '(1,)type'.\n",
      "  _np_quint16 = np.dtype([(\"quint16\", np.uint16, 1)])\n",
      "/usr/local/lib/python3.5/dist-packages/tensorflow/python/framework/dtypes.py:520: FutureWarning: Passing (type, 1) or '1type' as a synonym of type is deprecated; in a future version of numpy, it will be understood as (type, (1,)) / '(1,)type'.\n",
      "  _np_qint32 = np.dtype([(\"qint32\", np.int32, 1)])\n",
      "/usr/local/lib/python3.5/dist-packages/tensorflow/python/framework/dtypes.py:525: FutureWarning: Passing (type, 1) or '1type' as a synonym of type is deprecated; in a future version of numpy, it will be understood as (type, (1,)) / '(1,)type'.\n",
      "  np_resource = np.dtype([(\"resource\", np.ubyte, 1)])\n",
      "/usr/local/lib/python3.5/dist-packages/tensorboard/compat/tensorflow_stub/dtypes.py:541: FutureWarning: Passing (type, 1) or '1type' as a synonym of type is deprecated; in a future version of numpy, it will be understood as (type, (1,)) / '(1,)type'.\n",
      "  _np_qint8 = np.dtype([(\"qint8\", np.int8, 1)])\n",
      "/usr/local/lib/python3.5/dist-packages/tensorboard/compat/tensorflow_stub/dtypes.py:542: FutureWarning: Passing (type, 1) or '1type' as a synonym of type is deprecated; in a future version of numpy, it will be understood as (type, (1,)) / '(1,)type'.\n",
      "  _np_quint8 = np.dtype([(\"quint8\", np.uint8, 1)])\n",
      "/usr/local/lib/python3.5/dist-packages/tensorboard/compat/tensorflow_stub/dtypes.py:543: FutureWarning: Passing (type, 1) or '1type' as a synonym of type is deprecated; in a future version of numpy, it will be understood as (type, (1,)) / '(1,)type'.\n",
      "  _np_qint16 = np.dtype([(\"qint16\", np.int16, 1)])\n",
      "/usr/local/lib/python3.5/dist-packages/tensorboard/compat/tensorflow_stub/dtypes.py:544: FutureWarning: Passing (type, 1) or '1type' as a synonym of type is deprecated; in a future version of numpy, it will be understood as (type, (1,)) / '(1,)type'.\n",
      "  _np_quint16 = np.dtype([(\"quint16\", np.uint16, 1)])\n",
      "/usr/local/lib/python3.5/dist-packages/tensorboard/compat/tensorflow_stub/dtypes.py:545: FutureWarning: Passing (type, 1) or '1type' as a synonym of type is deprecated; in a future version of numpy, it will be understood as (type, (1,)) / '(1,)type'.\n",
      "  _np_qint32 = np.dtype([(\"qint32\", np.int32, 1)])\n",
      "/usr/local/lib/python3.5/dist-packages/tensorboard/compat/tensorflow_stub/dtypes.py:550: FutureWarning: Passing (type, 1) or '1type' as a synonym of type is deprecated; in a future version of numpy, it will be understood as (type, (1,)) / '(1,)type'.\n",
      "  np_resource = np.dtype([(\"resource\", np.ubyte, 1)])\n",
      "WARNING: Logging before flag parsing goes to stderr.\n",
      "W0911 09:07:26.290591 140248218236672 deprecation.py:506] From /usr/local/lib/python3.5/dist-packages/tensorflow/python/ops/init_ops.py:1251: calling VarianceScaling.__init__ (from tensorflow.python.ops.init_ops) with dtype is deprecated and will be removed in a future version.\n",
      "Instructions for updating:\n",
      "Call initializer instance with the dtype argument instead of passing it to the constructor\n"
     ]
    },
    {
     "name": "stdout",
     "output_type": "stream",
     "text": [
      "Model: \"sequential\"\n",
      "_________________________________________________________________\n",
      "Layer (type)                 Output Shape              Param #   \n",
      "=================================================================\n",
      "lstm (LSTM)                  (None, 10, 50)            10400     \n",
      "_________________________________________________________________\n",
      "lstm_1 (LSTM)                (None, 10, 50)            20200     \n",
      "_________________________________________________________________\n",
      "flatten (Flatten)            (None, 500)               0         \n",
      "_________________________________________________________________\n",
      "dense (Dense)                (None, 128)               64128     \n",
      "_________________________________________________________________\n",
      "dense_1 (Dense)              (None, 40)                5160      \n",
      "_________________________________________________________________\n",
      "dense_2 (Dense)              (None, 1)                 41        \n",
      "=================================================================\n",
      "Total params: 99,929\n",
      "Trainable params: 99,929\n",
      "Non-trainable params: 0\n",
      "_________________________________________________________________\n"
     ]
    },
    {
     "data": {
      "image/png": "[encoded data removed]",
      "text/plain": [
       "<IPython.core.display.Image object>"
      ]
     },
     "execution_count": 5,
     "metadata": {},
     "output_type": "execute_result"
    }
   ],
   "source": [
    "# LSTM Training\n",
    "from tensorflow.keras.models import Sequential\n",
    "from tensorflow.keras.layers import LSTM, Dense, Dropout, Flatten\n",
    "from tensorflow.keras.utils import plot_model\n",
    "\n",
    "model = Sequential()\n",
    "\n",
    "model.add(LSTM(units = 50, return_sequences = True, input_shape = (input_days, 1), dropout=0.2))\n",
    "model.add(LSTM(units = 50, return_sequences = True, dropout=0.2))\n",
    "model.add(Flatten())\n",
    "model.add(Dense(units = 128))\n",
    "model.add(Dense(units = 40))\n",
    "model.add(Dense(units = output_days))\n",
    "model.compile(optimizer = 'adam', loss = 'mean_squared_error')\n",
    "model.summary()\n",
    "plot_model(model, 'model.png')"
   ]
  },
  {
   "cell_type": "markdown",
   "metadata": {},
   "source": [
    "# Training the model with `Open` data"
   ]
  },
  {
   "cell_type": "code",
   "execution_count": 6,
   "metadata": {
    "scrolled": true
   },
   "outputs": [
    {
     "name": "stderr",
     "output_type": "stream",
     "text": [
      "W0911 09:07:27.219686 140248218236672 callbacks.py:875] `period` argument is deprecated. Please use `save_freq` to specify the frequency in number of samples seen.\n"
     ]
    },
    {
     "name": "stdout",
     "output_type": "stream",
     "text": [
      "Train on 1248 samples, validate on 20 samples\n"
     ]
    },
    {
     "name": "stderr",
     "output_type": "stream",
     "text": [
      "W0911 09:07:27.408115 140248218236672 deprecation.py:323] From /usr/local/lib/python3.5/dist-packages/tensorflow/python/ops/math_grad.py:1250: add_dispatch_support.<locals>.wrapper (from tensorflow.python.ops.array_ops) is deprecated and will be removed in a future version.\n",
      "Instructions for updating:\n",
      "Use tf.where in 2.0, which has the same broadcast rule as np.where\n"
     ]
    },
    {
     "name": "stdout",
     "output_type": "stream",
     "text": [
      "Epoch 1/100\n",
      "1248/1248 [==============================] - 5s 4ms/sample - loss: 0.1260 - val_loss: 0.2458\n",
      "Epoch 2/100\n",
      "1248/1248 [==============================] - 1s 486us/sample - loss: 0.0849 - val_loss: 0.1875\n",
      "Epoch 3/100\n",
      "1248/1248 [==============================] - 1s 485us/sample - loss: 0.0845 - val_loss: 0.1401\n",
      "Epoch 4/100\n",
      "1248/1248 [==============================] - 1s 469us/sample - loss: 0.0771 - val_loss: 0.1290\n",
      "Epoch 5/100\n",
      "1248/1248 [==============================] - 1s 485us/sample - loss: 0.0763 - val_loss: 0.1571\n",
      "Epoch 6/100\n",
      "1248/1248 [==============================] - 1s 510us/sample - loss: 0.0738 - val_loss: 0.1687\n",
      "Epoch 7/100\n",
      "1248/1248 [==============================] - 1s 525us/sample - loss: 0.0719 - val_loss: 0.1874\n",
      "Epoch 8/100\n",
      "1248/1248 [==============================] - 1s 518us/sample - loss: 0.0659 - val_loss: 0.1370\n",
      "Epoch 9/100\n",
      "1248/1248 [==============================] - 1s 520us/sample - loss: 0.0695 - val_loss: 0.1611\n",
      "Epoch 10/100\n",
      "1100/1248 [=========================>....] - ETA: 0s - loss: 0.0670\n",
      "Epoch 00010: saving model to ./model/LSTM_01_check_point/cp-0010.ckpt\n",
      "1248/1248 [==============================] - 1s 667us/sample - loss: 0.0660 - val_loss: 0.1285\n",
      "Epoch 11/100\n",
      "1248/1248 [==============================] - 1s 538us/sample - loss: 0.0651 - val_loss: 0.1817\n",
      "Epoch 12/100\n",
      "1248/1248 [==============================] - 1s 514us/sample - loss: 0.0647 - val_loss: 0.1627\n",
      "Epoch 13/100\n",
      "1248/1248 [==============================] - 1s 522us/sample - loss: 0.0613 - val_loss: 0.1424\n",
      "Epoch 14/100\n",
      "1248/1248 [==============================] - 1s 511us/sample - loss: 0.0597 - val_loss: 0.1129\n",
      "Epoch 15/100\n",
      "1248/1248 [==============================] - 1s 517us/sample - loss: 0.0653 - val_loss: 0.1273\n",
      "Epoch 16/100\n",
      "1248/1248 [==============================] - 1s 510us/sample - loss: 0.0582 - val_loss: 0.1438\n",
      "Epoch 17/100\n",
      "1248/1248 [==============================] - 1s 525us/sample - loss: 0.0620 - val_loss: 0.1124\n",
      "Epoch 18/100\n",
      "1248/1248 [==============================] - 1s 505us/sample - loss: 0.0580 - val_loss: 0.1348\n",
      "Epoch 19/100\n",
      "1248/1248 [==============================] - 1s 517us/sample - loss: 0.0616 - val_loss: 0.1104\n",
      "Epoch 20/100\n",
      "1200/1248 [===========================>..] - ETA: 0s - loss: 0.0627\n",
      "Epoch 00020: saving model to ./model/LSTM_01_check_point/cp-0020.ckpt\n",
      "1248/1248 [==============================] - 1s 541us/sample - loss: 0.0616 - val_loss: 0.0991\n",
      "Epoch 21/100\n",
      "1248/1248 [==============================] - 1s 516us/sample - loss: 0.0615 - val_loss: 0.1046\n",
      "Epoch 22/100\n",
      "1248/1248 [==============================] - 1s 509us/sample - loss: 0.0565 - val_loss: 0.1735\n",
      "Epoch 23/100\n",
      "1248/1248 [==============================] - 1s 526us/sample - loss: 0.0582 - val_loss: 0.0859\n",
      "Epoch 24/100\n",
      "1248/1248 [==============================] - 1s 532us/sample - loss: 0.0576 - val_loss: 0.0913\n",
      "Epoch 25/100\n",
      "1248/1248 [==============================] - 1s 516us/sample - loss: 0.0557 - val_loss: 0.1144\n",
      "Epoch 26/100\n",
      "1248/1248 [==============================] - 1s 511us/sample - loss: 0.0526 - val_loss: 0.1308\n",
      "Epoch 27/100\n",
      "1248/1248 [==============================] - 1s 516us/sample - loss: 0.0513 - val_loss: 0.1343\n",
      "Epoch 28/100\n",
      "1248/1248 [==============================] - 1s 515us/sample - loss: 0.0532 - val_loss: 0.1211\n",
      "Epoch 29/100\n",
      "1248/1248 [==============================] - 1s 508us/sample - loss: 0.0527 - val_loss: 0.1154\n",
      "Epoch 30/100\n",
      "1100/1248 [=========================>....] - ETA: 0s - loss: 0.0479\n",
      "Epoch 00030: saving model to ./model/LSTM_01_check_point/cp-0030.ckpt\n",
      "1248/1248 [==============================] - 1s 536us/sample - loss: 0.0466 - val_loss: 0.1557\n",
      "Epoch 31/100\n",
      "1248/1248 [==============================] - 1s 506us/sample - loss: 0.0466 - val_loss: 0.1440\n",
      "Epoch 32/100\n",
      "1248/1248 [==============================] - 1s 505us/sample - loss: 0.0469 - val_loss: 0.0835\n",
      "Epoch 33/100\n",
      "1248/1248 [==============================] - 1s 521us/sample - loss: 0.0439 - val_loss: 0.1304\n",
      "Epoch 34/100\n",
      "1248/1248 [==============================] - 1s 509us/sample - loss: 0.0421 - val_loss: 0.0883\n",
      "Epoch 35/100\n",
      "1248/1248 [==============================] - 1s 505us/sample - loss: 0.0383 - val_loss: 0.1191\n",
      "Epoch 36/100\n",
      "1248/1248 [==============================] - 1s 511us/sample - loss: 0.0415 - val_loss: 0.1168\n",
      "Epoch 37/100\n",
      "1248/1248 [==============================] - 1s 525us/sample - loss: 0.0365 - val_loss: 0.0847\n",
      "Epoch 38/100\n",
      "1248/1248 [==============================] - 1s 508us/sample - loss: 0.0366 - val_loss: 0.0896\n",
      "Epoch 39/100\n",
      "1248/1248 [==============================] - 1s 522us/sample - loss: 0.0367 - val_loss: 0.0962\n",
      "Epoch 40/100\n",
      "1100/1248 [=========================>....] - ETA: 0s - loss: 0.0324\n",
      "Epoch 00040: saving model to ./model/LSTM_01_check_point/cp-0040.ckpt\n",
      "1248/1248 [==============================] - 1s 529us/sample - loss: 0.0329 - val_loss: 0.0849\n",
      "Epoch 41/100\n",
      "1248/1248 [==============================] - 1s 509us/sample - loss: 0.0385 - val_loss: 0.0743\n",
      "Epoch 42/100\n",
      "1248/1248 [==============================] - 1s 528us/sample - loss: 0.0323 - val_loss: 0.0723\n",
      "Epoch 43/100\n",
      "1248/1248 [==============================] - 1s 534us/sample - loss: 0.0333 - val_loss: 0.0778\n",
      "Epoch 44/100\n",
      "1248/1248 [==============================] - 1s 516us/sample - loss: 0.0317 - val_loss: 0.0923\n",
      "Epoch 45/100\n",
      "1248/1248 [==============================] - 1s 518us/sample - loss: 0.0338 - val_loss: 0.0874\n",
      "Epoch 46/100\n",
      "1248/1248 [==============================] - 1s 523us/sample - loss: 0.0325 - val_loss: 0.0788\n",
      "Epoch 47/100\n",
      "1248/1248 [==============================] - 1s 527us/sample - loss: 0.0324 - val_loss: 0.0796\n",
      "Epoch 48/100\n",
      "1248/1248 [==============================] - 1s 516us/sample - loss: 0.0299 - val_loss: 0.0780\n",
      "Epoch 49/100\n",
      "1248/1248 [==============================] - 1s 514us/sample - loss: 0.0318 - val_loss: 0.0688\n",
      "Epoch 50/100\n",
      "1200/1248 [===========================>..] - ETA: 0s - loss: 0.0321\n",
      "Epoch 00050: saving model to ./model/LSTM_01_check_point/cp-0050.ckpt\n",
      "1248/1248 [==============================] - 1s 535us/sample - loss: 0.0317 - val_loss: 0.0783\n",
      "Epoch 51/100\n",
      "1248/1248 [==============================] - 1s 514us/sample - loss: 0.0326 - val_loss: 0.1037\n",
      "Epoch 52/100\n",
      "1248/1248 [==============================] - 1s 518us/sample - loss: 0.0312 - val_loss: 0.0812\n",
      "Epoch 53/100\n",
      "1248/1248 [==============================] - 1s 523us/sample - loss: 0.0329 - val_loss: 0.0965\n",
      "Epoch 54/100\n",
      "1248/1248 [==============================] - 1s 517us/sample - loss: 0.0338 - val_loss: 0.0951\n",
      "Epoch 55/100\n",
      "1248/1248 [==============================] - 1s 512us/sample - loss: 0.0331 - val_loss: 0.0760\n",
      "Epoch 56/100\n",
      "1248/1248 [==============================] - 1s 515us/sample - loss: 0.0323 - val_loss: 0.0740\n",
      "Epoch 57/100\n",
      "1248/1248 [==============================] - 1s 514us/sample - loss: 0.0298 - val_loss: 0.0838\n",
      "Epoch 58/100\n",
      "1248/1248 [==============================] - 1s 523us/sample - loss: 0.0321 - val_loss: 0.0917\n",
      "Epoch 59/100\n",
      "1248/1248 [==============================] - 1s 510us/sample - loss: 0.0314 - val_loss: 0.0885\n",
      "Epoch 60/100\n",
      "1100/1248 [=========================>....] - ETA: 0s - loss: 0.0306\n",
      "Epoch 00060: saving model to ./model/LSTM_01_check_point/cp-0060.ckpt\n",
      "1248/1248 [==============================] - 1s 519us/sample - loss: 0.0299 - val_loss: 0.0762\n",
      "Epoch 61/100\n",
      "1248/1248 [==============================] - 1s 522us/sample - loss: 0.0310 - val_loss: 0.0771\n",
      "Epoch 62/100\n",
      "1248/1248 [==============================] - 1s 511us/sample - loss: 0.0341 - val_loss: 0.0778\n",
      "Epoch 63/100\n",
      "1248/1248 [==============================] - 1s 522us/sample - loss: 0.0362 - val_loss: 0.0755\n",
      "Epoch 64/100\n",
      "1248/1248 [==============================] - 1s 523us/sample - loss: 0.0326 - val_loss: 0.0722\n",
      "Epoch 65/100\n",
      "1248/1248 [==============================] - 1s 505us/sample - loss: 0.0304 - val_loss: 0.0827\n",
      "Epoch 66/100\n",
      "1248/1248 [==============================] - 1s 510us/sample - loss: 0.0310 - val_loss: 0.0764\n",
      "Epoch 67/100\n",
      "1248/1248 [==============================] - 1s 516us/sample - loss: 0.0302 - val_loss: 0.0785\n",
      "Epoch 68/100\n",
      "1248/1248 [==============================] - 1s 506us/sample - loss: 0.0316 - val_loss: 0.0690\n",
      "Epoch 69/100\n",
      "1248/1248 [==============================] - 1s 518us/sample - loss: 0.0298 - val_loss: 0.0718\n",
      "Epoch 70/100\n",
      "1100/1248 [=========================>....] - ETA: 0s - loss: 0.0309\n",
      "Epoch 00070: saving model to ./model/LSTM_01_check_point/cp-0070.ckpt\n",
      "1248/1248 [==============================] - 1s 533us/sample - loss: 0.0306 - val_loss: 0.0799\n",
      "Epoch 71/100\n",
      "1248/1248 [==============================] - 1s 517us/sample - loss: 0.0298 - val_loss: 0.0807\n",
      "Epoch 72/100\n",
      "1248/1248 [==============================] - 1s 518us/sample - loss: 0.0304 - val_loss: 0.0778\n",
      "Epoch 73/100\n",
      "1248/1248 [==============================] - 1s 508us/sample - loss: 0.0300 - val_loss: 0.0817\n",
      "Epoch 74/100\n",
      "1248/1248 [==============================] - 1s 528us/sample - loss: 0.0283 - val_loss: 0.0634\n",
      "Epoch 75/100\n",
      "1248/1248 [==============================] - 1s 525us/sample - loss: 0.0298 - val_loss: 0.0764\n",
      "Epoch 76/100\n",
      "1248/1248 [==============================] - 1s 509us/sample - loss: 0.0300 - val_loss: 0.0714\n",
      "Epoch 77/100\n",
      "1248/1248 [==============================] - 1s 537us/sample - loss: 0.0304 - val_loss: 0.0715\n",
      "Epoch 78/100\n",
      "1248/1248 [==============================] - 1s 513us/sample - loss: 0.0312 - val_loss: 0.0839\n",
      "Epoch 79/100\n",
      "1248/1248 [==============================] - 1s 505us/sample - loss: 0.0312 - val_loss: 0.0984\n",
      "Epoch 80/100\n",
      "1100/1248 [=========================>....] - ETA: 0s - loss: 0.0327\n",
      "Epoch 00080: saving model to ./model/LSTM_01_check_point/cp-0080.ckpt\n",
      "1248/1248 [==============================] - 1s 513us/sample - loss: 0.0313 - val_loss: 0.0930\n",
      "Epoch 81/100\n",
      "1248/1248 [==============================] - 1s 520us/sample - loss: 0.0307 - val_loss: 0.0811\n",
      "Epoch 82/100\n",
      "1248/1248 [==============================] - 1s 513us/sample - loss: 0.0307 - val_loss: 0.0727\n",
      "Epoch 83/100\n",
      "1248/1248 [==============================] - 1s 509us/sample - loss: 0.0288 - val_loss: 0.0610\n",
      "Epoch 84/100\n",
      "1248/1248 [==============================] - 1s 515us/sample - loss: 0.0289 - val_loss: 0.0620\n",
      "Epoch 85/100\n",
      "1248/1248 [==============================] - 1s 517us/sample - loss: 0.0302 - val_loss: 0.0735\n",
      "Epoch 86/100\n",
      "1248/1248 [==============================] - 1s 509us/sample - loss: 0.0295 - val_loss: 0.0690\n",
      "Epoch 87/100\n",
      "1248/1248 [==============================] - 1s 519us/sample - loss: 0.0291 - val_loss: 0.0654\n",
      "Epoch 88/100\n",
      "1248/1248 [==============================] - 1s 523us/sample - loss: 0.0295 - val_loss: 0.0682\n",
      "Epoch 89/100\n",
      "1248/1248 [==============================] - 1s 520us/sample - loss: 0.0300 - val_loss: 0.0787\n",
      "Epoch 90/100\n",
      "1200/1248 [===========================>..] - ETA: 0s - loss: 0.0311\n",
      "Epoch 00090: saving model to ./model/LSTM_01_check_point/cp-0090.ckpt\n",
      "1248/1248 [==============================] - 1s 522us/sample - loss: 0.0306 - val_loss: 0.0709\n",
      "Epoch 91/100\n",
      "1248/1248 [==============================] - 1s 521us/sample - loss: 0.0298 - val_loss: 0.0685\n",
      "Epoch 92/100\n",
      "1248/1248 [==============================] - 1s 527us/sample - loss: 0.0297 - val_loss: 0.0722\n",
      "Epoch 93/100\n",
      "1248/1248 [==============================] - 1s 510us/sample - loss: 0.0295 - val_loss: 0.0795\n",
      "Epoch 94/100\n",
      "1248/1248 [==============================] - 1s 527us/sample - loss: 0.0295 - val_loss: 0.0797\n",
      "Epoch 95/100\n",
      "1248/1248 [==============================] - 1s 512us/sample - loss: 0.0296 - val_loss: 0.0831\n",
      "Epoch 96/100\n",
      "1248/1248 [==============================] - 1s 508us/sample - loss: 0.0307 - val_loss: 0.0784\n",
      "Epoch 97/100\n",
      "1248/1248 [==============================] - 1s 511us/sample - loss: 0.0297 - val_loss: 0.0718\n",
      "Epoch 98/100\n",
      "1248/1248 [==============================] - 1s 515us/sample - loss: 0.0278 - val_loss: 0.0702\n",
      "Epoch 99/100\n",
      "1248/1248 [==============================] - 1s 510us/sample - loss: 0.0300 - val_loss: 0.0782\n",
      "Epoch 100/100\n",
      "1100/1248 [=========================>....] - ETA: 0s - loss: 0.0331\n",
      "Epoch 00100: saving model to ./model/LSTM_01_check_point/cp-0100.ckpt\n",
      "1248/1248 [==============================] - 1s 522us/sample - loss: 0.0320 - val_loss: 0.0696\n"
     ]
    }
   ],
   "source": [
    "from tensorflow.keras.callbacks import ModelCheckpoint\n",
    "import os\n",
    "name = 'LSTM_01'\n",
    "checkpoint_file = './model/' + name + '_check_point/cp-{epoch:04d}.ckpt'\n",
    "try:\n",
    "    os.mkdir('./model/' + name + '_check_point/')\n",
    "except:\n",
    "    pass\n",
    "\n",
    "# get what we want\n",
    "train_input = train_x[:, :, :1]\n",
    "train_label = train_y[:, :, :1]\n",
    "test_input = test_x[:, :, :1]\n",
    "test_label = test_y[:, :, :1]\n",
    "train_label = np.squeeze(train_label, axis=-1)\n",
    "test_label = np.squeeze(test_label, axis=-1)\n",
    "\n",
    "# create callback function\n",
    "cp_callback = ModelCheckpoint(checkpoint_file, save_weights_only=True, verbose=1, period=10)\n",
    "\n",
    "# train the model\n",
    "train = model.fit(train_input, train_label, epochs=100, batch_size=100, callbacks=[cp_callback], \n",
    "                  validation_data=(test_input, test_label))\n",
    "\n",
    "# save model\n",
    "model.save('./model/' + name + '.h5')"
   ]
  },
  {
   "cell_type": "code",
   "execution_count": 7,
   "metadata": {},
   "outputs": [
    {
     "data": {
      "image/png": "[encoded data removed]",
      "text/plain": [
       "<Figure size 432x288 with 1 Axes>"
      ]
     },
     "metadata": {
      "needs_background": "light"
     },
     "output_type": "display_data"
    }
   ],
   "source": [
    "plt.plot(train.history['loss'])\n",
    "plt.plot(train.history['val_loss'])\n",
    "plt.title('model loss')\n",
    "plt.ylabel('loss')\n",
    "plt.xlabel('epoch')\n",
    "plt.legend(['train', 'test'], loc='upper right')\n",
    "plt.show()"
   ]
  },
  {
   "cell_type": "code",
   "execution_count": 8,
   "metadata": {
    "scrolled": true
   },
   "outputs": [
    {
     "name": "stdout",
     "output_type": "stream",
     "text": [
      "(20, 1) [[784.6848 ]\n",
      " [779.6811 ]\n",
      " [786.74097]\n",
      " [786.186  ]\n",
      " [792.91064]\n",
      " [803.98334]\n",
      " [804.04724]\n",
      " [800.4339 ]\n",
      " [799.6756 ]\n",
      " [798.8165 ]\n",
      " [798.3825 ]\n",
      " [800.2223 ]\n",
      " [799.3335 ]\n",
      " [803.16473]\n",
      " [806.81683]\n",
      " [823.0199 ]\n",
      " [831.73645]\n",
      " [838.7606 ]\n",
      " [831.1866 ]\n",
      " [812.179  ]]\n"
     ]
    }
   ],
   "source": [
    "count = len(test_input)\n",
    "sc = MinMaxScaler()\n",
    "output_prices = []\n",
    "\n",
    "for i in range(count):\n",
    "    test = test_data_append[i:i+input_days, :1]\n",
    "    test = sc.getScalerData(test, offset=offset)\n",
    "    output = model.predict(np.expand_dims(test, axis=0))\n",
    "    output_prices.append(np.squeeze(sc.getInverseData(output), axis=0))\n",
    "output_prices = np.asarray(output_prices)\n",
    "print(output_prices.shape, output_prices)"
   ]
  },
  {
   "cell_type": "code",
   "execution_count": 9,
   "metadata": {},
   "outputs": [
    {
     "data": {
      "image/png": "[encoded data removed]",
      "text/plain": [
       "<Figure size 432x288 with 1 Axes>"
      ]
     },
     "metadata": {
      "needs_background": "light"
     },
     "output_type": "display_data"
    }
   ],
   "source": [
    "# Visualising the results\n",
    "plt.plot(test_data_t[:, 0], color = 'red', label = 'Real Google Stock Price')\n",
    "plt.plot(output_prices[:, 0], color = 'blue', label = 'Predicted Google Stock Price')\n",
    "plt.title('Prediction')\n",
    "plt.xlabel('Time(days)')\n",
    "plt.ylabel('Real')\n",
    "plt.legend()\n",
    "plt.show()"
   ]
  }
 ],
 "metadata": {
  "kernelspec": {
   "display_name": "Python 3",
   "language": "python",
   "name": "python3"
  },
  "language_info": {
   "codemirror_mode": {
    "name": "ipython",
    "version": 3
   },
   "file_extension": ".py",
   "mimetype": "text/x-python",
   "name": "python",
   "nbconvert_exporter": "python",
   "pygments_lexer": "ipython3",
   "version": "3.5.3"
  }
 },
 "nbformat": 4,
 "nbformat_minor": 2
}
