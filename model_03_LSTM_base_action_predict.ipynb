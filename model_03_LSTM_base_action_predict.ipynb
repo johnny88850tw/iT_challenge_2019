{
 "cells": [
  {
   "cell_type": "markdown",
   "metadata": {},
   "source": [
    "# Testing stock\n",
    "\n",
    "* 時間, `最近成交價`, `當盤成交量`, `累積成交量`, `最佳五檔（賣價）`, `最佳五檔（賣量）`, `最佳五檔（買價）`, `最佳五檔（買量）`"
   ]
  },
  {
   "cell_type": "code",
   "execution_count": 1,
   "metadata": {
    "scrolled": true
   },
   "outputs": [],
   "source": [
    "import re\n",
    "import numpy as np\n",
    "\n",
    "def getDataset(path):\n",
    "    dataset = []\n",
    "    with open(path, 'r') as fp:\n",
    "        for i in range(500):\n",
    "            data = fp.readline()\n",
    "            if len(data) == 0:\n",
    "                break\n",
    "            data = data.replace('-', '0')\n",
    "            data = re.split(',|\\n', data)[1:-1]\n",
    "            data[3] = data[3].split('_')[0]\n",
    "            data[4] = data[4].split('_')[0]\n",
    "            data[5] = data[5].split('_')[0]\n",
    "            data[6] = data[6].split('_')[0]\n",
    "            try:\n",
    "                dataset.append(np.asarray(data, dtype=np.float))\n",
    "            except ValueError:\n",
    "                print(data)\n",
    "                \n",
    "    return np.asarray(dataset)\n",
    "\n",
    "def countDataset(path):\n",
    "    return len(getDataset(path))"
   ]
  },
  {
   "cell_type": "markdown",
   "metadata": {},
   "source": [
    "# get all paths and summary"
   ]
  },
  {
   "cell_type": "code",
   "execution_count": 2,
   "metadata": {
    "scrolled": true
   },
   "outputs": [
    {
     "name": "stdout",
     "output_type": "stream",
     "text": [
      "500 1901\n"
     ]
    },
    {
     "data": {
      "image/png": "[encoded data removed]",
      "text/plain": [
       "<Figure size 432x288 with 1 Axes>"
      ]
     },
     "metadata": {
      "needs_background": "light"
     },
     "output_type": "display_data"
    }
   ],
   "source": [
    "import os\n",
    "import matplotlib.pyplot as plt\n",
    "%matplotlib inline\n",
    "dataset_path = \"./dataset/Taiwan_5s/\"\n",
    "\n",
    "min_count = 65535\n",
    "choose = 500\n",
    "\n",
    "summary = [0] * 100\n",
    "paths = []\n",
    "\n",
    "for dirPath, dirNames, fileNames in os.walk(dataset_path):\n",
    "    if dirPath == dataset_path:\n",
    "        continue\n",
    "    total = 0\n",
    "    for datapath in fileNames:\n",
    "        count = countDataset(dirPath + '/' + datapath)\n",
    "        summary[count // 10 - 1] += 1\n",
    "        if count == choose:\n",
    "            paths.append(dirPath + '/' + datapath)\n",
    "print(choose, len(paths))\n",
    "# plot results\n",
    "plt.plot(summary, color = 'blue', label = 'count')\n",
    "plt.title('summary')\n",
    "plt.xlabel('range * 10')\n",
    "plt.ylabel('count')\n",
    "plt.legend()\n",
    "plt.show()"
   ]
  },
  {
   "cell_type": "markdown",
   "metadata": {},
   "source": [
    "# My own MinMaxScaler"
   ]
  },
  {
   "cell_type": "code",
   "execution_count": 3,
   "metadata": {},
   "outputs": [],
   "source": [
    "class MinMaxScaler:\n",
    "    __min = 0.\n",
    "    __max = 1.\n",
    "    __range = 1.\n",
    "    __feature_range = (0, 1)\n",
    "    __scale = 1.\n",
    "    def __init__(self):\n",
    "        pass\n",
    "    def getScalerData(self, dataset, offset=0.1, feature_range=(0, 1)):\n",
    "        data_max = np.max(dataset)\n",
    "        data_min = np.min(dataset)\n",
    "        if len(dataset) == 1:\n",
    "            range_temp = dataset * offset\n",
    "        else:\n",
    "            range_temp = (data_max - data_min) * (1 + offset)\n",
    "        self.__min = data_max - range_temp\n",
    "        self.__max = data_min + range_temp\n",
    "        self.__range = self.__max - self.__min\n",
    "        self.__feature_range = feature_range\n",
    "        self.__scale = (feature_range[1] - feature_range[0]) / self.__range\n",
    "        return self.getTransformData(dataset)\n",
    "    def getTransformData(self, dataset):\n",
    "        return (dataset - self.__min) * self.__scale + self.__feature_range[0]\n",
    "    def getInverseData(self, scalerDataset):\n",
    "        return (scalerDataset - self.__feature_range[0]) / self.__scale + self.__min\n",
    "    def getParameter(self):\n",
    "        return self.__min, self.__max, self.__range, self.__feature_range, self.__scale\n",
    "    def updatePatameter(self, parameter):\n",
    "        self.__min, self.__max, self.__range, self.__feature_range, self.__scale = parameter"
   ]
  },
  {
   "cell_type": "markdown",
   "metadata": {},
   "source": [
    "# create dataset\n",
    "* 1. price use MinMaxScaler with offset 0.1\n",
    "* 2. trading volume using local MinMaxScaler\n",
    "* 3. best 1 sell price use MinMaxScaler in 1.\n",
    "* 4. best 1 buy price use MinMaxScaler in 1.\n",
    "* 5. if sell count > buy count than > 0.5"
   ]
  },
  {
   "cell_type": "code",
   "execution_count": 4,
   "metadata": {},
   "outputs": [],
   "source": [
    "from tensorflow.keras.utils import to_categorical\n",
    "\n",
    "def create_dataset(path, input_days=60, output_days=1):\n",
    "    dataset = getDataset(path)\n",
    "    price_sc = MinMaxScaler()\n",
    "    price_sc.getScalerData(np.array([dataset[0][0]]), offset=0.1, feature_range=(0, 1))\n",
    "    prices = price_sc.getTransformData(dataset[:, [0, 3, 5]])\n",
    "    temp = np.empty((0, 7), dtype=np.float)\n",
    "    price_temp = np.empty((0, 3), dtype=np.float)\n",
    "    output = []\n",
    "    label = []\n",
    "    past_acc = 0.\n",
    "    for i in range(choose):\n",
    "        if past_acc == dataset[i, 0]:\n",
    "            continue\n",
    "        else:\n",
    "            past_acc = dataset[i, 0]\n",
    "        temp = np.append(temp, dataset[i:i+1], axis=0)\n",
    "        price_temp = np.append(price_temp, prices[i:i+1], axis=0)\n",
    "        if len(temp) <= (input_days + output_days):\n",
    "            continue\n",
    "        # create total set\n",
    "        temp_sc = MinMaxScaler()\n",
    "        a = price_temp[-input_days-output_days:-output_days]\n",
    "        diff = temp[-1, 0] - temp[-2, 0]\n",
    "        if diff > 0:\n",
    "            y = 2\n",
    "        elif diff < 0:\n",
    "            y = 0\n",
    "        else :\n",
    "            y = 1\n",
    "        b = temp_sc.getScalerData(temp[-input_days-output_days:-output_days, 1:2])\n",
    "        sell_count = temp[-input_days-output_days:-output_days, 4:5]\n",
    "        buy_count = temp[-input_days-output_days:-output_days, 6:7]\n",
    "        temp_scale = np.absolute(sell_count - buy_count) / np.maximum(sell_count, buy_count) / 2\n",
    "        c = np.where(sell_count > buy_count, 0.5+temp_scale, 0.5-temp_scale)\n",
    "        output.append(np.append(np.append(a, b, axis=-1), c, axis=-1))\n",
    "        label.append(y)\n",
    "    output = np.asarray(output, dtype=np.float)\n",
    "    label = to_categorical(np.asarray(label, dtype=np.float), num_classes=3)\n",
    "    return output, label, price_sc.getParameter()"
   ]
  },
  {
   "cell_type": "code",
   "execution_count": 5,
   "metadata": {},
   "outputs": [
    {
     "name": "stderr",
     "output_type": "stream",
     "text": [
      "C:\\Users\\DVLAB\\AppData\\anaconda3\\envs\\dlib\\lib\\site-packages\\ipykernel_launcher.py:20: RuntimeWarning: divide by zero encountered in double_scalars\n",
      "C:\\Users\\DVLAB\\AppData\\anaconda3\\envs\\dlib\\lib\\site-packages\\ipykernel_launcher.py:23: RuntimeWarning: invalid value encountered in multiply\n"
     ]
    },
    {
     "name": "stdout",
     "output_type": "stream",
     "text": [
      "(30852, 15, 5) (30852, 3)\n"
     ]
    }
   ],
   "source": [
    "input_days = 15\n",
    "output_days = 1\n",
    "\n",
    "x = np.empty((0, input_days, 5), dtype=np.float)\n",
    "y = np.empty((0, 3), dtype=np.float)\n",
    "\n",
    "for i, path in enumerate(paths):\n",
    "    if i > 300:\n",
    "        break\n",
    "    x_temp, y_temp, sc_parameter = create_dataset(path=path, input_days=input_days, output_days=output_days)\n",
    "    x = np.append(x, x_temp, axis=0)\n",
    "    y = np.append(y, y_temp, axis=0)\n",
    "\n",
    "print(x.shape, y.shape)"
   ]
  },
  {
   "cell_type": "markdown",
   "metadata": {},
   "source": [
    "# Create model"
   ]
  },
  {
   "cell_type": "code",
   "execution_count": 6,
   "metadata": {},
   "outputs": [],
   "source": [
    "RADAM = False\n",
    "if RADAM:\n",
    "    from keras_radam import RAdam\n",
    "    from keras_lookahead import Lookahead\n",
    "    optimizer = Lookahead(RAdam())\n",
    "else:\n",
    "    optimizer = 'adam'\n",
    "    \n",
    "period = 1\n",
    "epochs = 10\n",
    "batch_size = 50"
   ]
  },
  {
   "cell_type": "code",
   "execution_count": 7,
   "metadata": {},
   "outputs": [
    {
     "name": "stdout",
     "output_type": "stream",
     "text": [
      "WARNING:tensorflow:From C:\\Users\\DVLAB\\AppData\\anaconda3\\envs\\dlib\\lib\\site-packages\\tensorflow\\python\\ops\\resource_variable_ops.py:435: colocate_with (from tensorflow.python.framework.ops) is deprecated and will be removed in a future version.\n",
      "Instructions for updating:\n",
      "Colocations handled automatically by placer.\n",
      "_________________________________________________________________\n",
      "Layer (type)                 Output Shape              Param #   \n",
      "=================================================================\n",
      "cu_dnnlstm (CuDNNLSTM)       (None, 15, 50)            11400     \n",
      "_________________________________________________________________\n",
      "cu_dnnlstm_1 (CuDNNLSTM)     (None, 15, 50)            20400     \n",
      "_________________________________________________________________\n",
      "cu_dnnlstm_2 (CuDNNLSTM)     (None, 15, 50)            20400     \n",
      "_________________________________________________________________\n",
      "flatten (Flatten)            (None, 750)               0         \n",
      "_________________________________________________________________\n",
      "dense (Dense)                (None, 128)               96128     \n",
      "_________________________________________________________________\n",
      "dense_1 (Dense)              (None, 40)                5160      \n",
      "_________________________________________________________________\n",
      "dense_2 (Dense)              (None, 3)                 123       \n",
      "=================================================================\n",
      "Total params: 153,611\n",
      "Trainable params: 153,611\n",
      "Non-trainable params: 0\n",
      "_________________________________________________________________\n"
     ]
    }
   ],
   "source": [
    "# LSTM Training\n",
    "from tensorflow.keras.models import Sequential\n",
    "from tensorflow.keras.layers import CuDNNLSTM, Dense, Dropout, Flatten\n",
    "from tensorflow.keras.utils import plot_model\n",
    "\n",
    "model = Sequential()\n",
    "\n",
    "model.add(CuDNNLSTM(units = 50, return_sequences = True, input_shape = (input_days, 5)))\n",
    "model.add(CuDNNLSTM(units = 50, return_sequences = True))\n",
    "model.add(CuDNNLSTM(units = 50, return_sequences = True))\n",
    "model.add(Flatten())\n",
    "model.add(Dense(units = 128, activation='relu'))\n",
    "model.add(Dense(units = 40, activation='relu'))\n",
    "model.add(Dense(units = 3, activation='softmax'))\n",
    "model.compile(optimizer = optimizer, loss = 'categorical_crossentropy')\n",
    "model.summary()\n",
    "plot_model(model, 'model.png')"
   ]
  },
  {
   "cell_type": "markdown",
   "metadata": {},
   "source": [
    "# Training the model"
   ]
  },
  {
   "cell_type": "code",
   "execution_count": 8,
   "metadata": {
    "scrolled": true
   },
   "outputs": [
    {
     "name": "stdout",
     "output_type": "stream",
     "text": [
      "Train on 24681 samples, validate on 6171 samples\n",
      "WARNING:tensorflow:From C:\\Users\\DVLAB\\AppData\\anaconda3\\envs\\dlib\\lib\\site-packages\\tensorflow\\python\\ops\\math_ops.py:3066: to_int32 (from tensorflow.python.ops.math_ops) is deprecated and will be removed in a future version.\n",
      "Instructions for updating:\n",
      "Use tf.cast instead.\n",
      "Epoch 1/10\n",
      "24600/24681 [============================>.] - ETA: 0s - loss: 0.8181\n",
      "Epoch 00001: saving model to ./model/model_03_check_point/cp-0001.ckpt\n",
      "WARNING:tensorflow:This model was compiled with a Keras optimizer (<tensorflow.python.keras.optimizers.Adam object at 0x00000245C4CFE048>) but is being saved in TensorFlow format with `save_weights`. The model's weights will be saved, but unlike with TensorFlow optimizers in the TensorFlow format the optimizer's state will not be saved.\n",
      "\n",
      "Consider using a TensorFlow optimizer from `tf.train`.\n",
      "WARNING:tensorflow:From C:\\Users\\DVLAB\\AppData\\anaconda3\\envs\\dlib\\lib\\site-packages\\tensorflow\\python\\keras\\engine\\network.py:1436: update_checkpoint_state (from tensorflow.python.training.checkpoint_management) is deprecated and will be removed in a future version.\n",
      "Instructions for updating:\n",
      "Use tf.train.CheckpointManager to manage checkpoints rather than manually editing the Checkpoint proto.\n",
      "24681/24681 [==============================] - 6s 261us/sample - loss: 0.8178 - val_loss: 0.7092\n",
      "Epoch 2/10\n",
      "24600/24681 [============================>.] - ETA: 0s - loss: 0.7006\n",
      "Epoch 00002: saving model to ./model/model_03_check_point/cp-0002.ckpt\n",
      "WARNING:tensorflow:This model was compiled with a Keras optimizer (<tensorflow.python.keras.optimizers.Adam object at 0x00000245C4CFE048>) but is being saved in TensorFlow format with `save_weights`. The model's weights will be saved, but unlike with TensorFlow optimizers in the TensorFlow format the optimizer's state will not be saved.\n",
      "\n",
      "Consider using a TensorFlow optimizer from `tf.train`.\n",
      "24681/24681 [==============================] - 4s 158us/sample - loss: 0.7005 - val_loss: 0.6968\n",
      "Epoch 3/10\n",
      "24600/24681 [============================>.] - ETA: 0s - loss: 0.6955\n",
      "Epoch 00003: saving model to ./model/model_03_check_point/cp-0003.ckpt\n",
      "WARNING:tensorflow:This model was compiled with a Keras optimizer (<tensorflow.python.keras.optimizers.Adam object at 0x00000245C4CFE048>) but is being saved in TensorFlow format with `save_weights`. The model's weights will be saved, but unlike with TensorFlow optimizers in the TensorFlow format the optimizer's state will not be saved.\n",
      "\n",
      "Consider using a TensorFlow optimizer from `tf.train`.\n",
      "24681/24681 [==============================] - 4s 156us/sample - loss: 0.6955 - val_loss: 0.6953\n",
      "Epoch 4/10\n",
      "24650/24681 [============================>.] - ETA: 0s - loss: 0.6941\n",
      "Epoch 00004: saving model to ./model/model_03_check_point/cp-0004.ckpt\n",
      "WARNING:tensorflow:This model was compiled with a Keras optimizer (<tensorflow.python.keras.optimizers.Adam object at 0x00000245C4CFE048>) but is being saved in TensorFlow format with `save_weights`. The model's weights will be saved, but unlike with TensorFlow optimizers in the TensorFlow format the optimizer's state will not be saved.\n",
      "\n",
      "Consider using a TensorFlow optimizer from `tf.train`.\n",
      "24681/24681 [==============================] - 4s 158us/sample - loss: 0.6941 - val_loss: 0.6940\n",
      "Epoch 5/10\n",
      "24600/24681 [============================>.] - ETA: 0s - loss: 0.6938\n",
      "Epoch 00005: saving model to ./model/model_03_check_point/cp-0005.ckpt\n",
      "WARNING:tensorflow:This model was compiled with a Keras optimizer (<tensorflow.python.keras.optimizers.Adam object at 0x00000245C4CFE048>) but is being saved in TensorFlow format with `save_weights`. The model's weights will be saved, but unlike with TensorFlow optimizers in the TensorFlow format the optimizer's state will not be saved.\n",
      "\n",
      "Consider using a TensorFlow optimizer from `tf.train`.\n",
      "24681/24681 [==============================] - 4s 158us/sample - loss: 0.6938 - val_loss: 0.6938\n",
      "Epoch 6/10\n",
      "24650/24681 [============================>.] - ETA: 0s - loss: 0.6935\n",
      "Epoch 00006: saving model to ./model/model_03_check_point/cp-0006.ckpt\n",
      "WARNING:tensorflow:This model was compiled with a Keras optimizer (<tensorflow.python.keras.optimizers.Adam object at 0x00000245C4CFE048>) but is being saved in TensorFlow format with `save_weights`. The model's weights will be saved, but unlike with TensorFlow optimizers in the TensorFlow format the optimizer's state will not be saved.\n",
      "\n",
      "Consider using a TensorFlow optimizer from `tf.train`.\n",
      "24681/24681 [==============================] - 4s 158us/sample - loss: 0.6935 - val_loss: 0.6936\n",
      "Epoch 7/10\n",
      "24500/24681 [============================>.] - ETA: 0s - loss: 0.6934\n",
      "Epoch 00007: saving model to ./model/model_03_check_point/cp-0007.ckpt\n",
      "WARNING:tensorflow:This model was compiled with a Keras optimizer (<tensorflow.python.keras.optimizers.Adam object at 0x00000245C4CFE048>) but is being saved in TensorFlow format with `save_weights`. The model's weights will be saved, but unlike with TensorFlow optimizers in the TensorFlow format the optimizer's state will not be saved.\n",
      "\n",
      "Consider using a TensorFlow optimizer from `tf.train`.\n",
      "24681/24681 [==============================] - 4s 158us/sample - loss: 0.6934 - val_loss: 0.6934\n",
      "Epoch 8/10\n",
      "24450/24681 [============================>.] - ETA: 0s - loss: 0.6932\n",
      "Epoch 00008: saving model to ./model/model_03_check_point/cp-0008.ckpt\n",
      "WARNING:tensorflow:This model was compiled with a Keras optimizer (<tensorflow.python.keras.optimizers.Adam object at 0x00000245C4CFE048>) but is being saved in TensorFlow format with `save_weights`. The model's weights will be saved, but unlike with TensorFlow optimizers in the TensorFlow format the optimizer's state will not be saved.\n",
      "\n",
      "Consider using a TensorFlow optimizer from `tf.train`.\n",
      "24681/24681 [==============================] - 4s 159us/sample - loss: 0.6932 - val_loss: 0.6944\n",
      "Epoch 9/10\n",
      "24500/24681 [============================>.] - ETA: 0s - loss: 0.6932\n",
      "Epoch 00009: saving model to ./model/model_03_check_point/cp-0009.ckpt\n",
      "WARNING:tensorflow:This model was compiled with a Keras optimizer (<tensorflow.python.keras.optimizers.Adam object at 0x00000245C4CFE048>) but is being saved in TensorFlow format with `save_weights`. The model's weights will be saved, but unlike with TensorFlow optimizers in the TensorFlow format the optimizer's state will not be saved.\n",
      "\n",
      "Consider using a TensorFlow optimizer from `tf.train`.\n",
      "24681/24681 [==============================] - 4s 160us/sample - loss: 0.6931 - val_loss: 0.6956\n",
      "Epoch 10/10\n",
      "24450/24681 [============================>.] - ETA: 0s - loss: 0.6932\n",
      "Epoch 00010: saving model to ./model/model_03_check_point/cp-0010.ckpt\n",
      "WARNING:tensorflow:This model was compiled with a Keras optimizer (<tensorflow.python.keras.optimizers.Adam object at 0x00000245C4CFE048>) but is being saved in TensorFlow format with `save_weights`. The model's weights will be saved, but unlike with TensorFlow optimizers in the TensorFlow format the optimizer's state will not be saved.\n",
      "\n",
      "Consider using a TensorFlow optimizer from `tf.train`.\n",
      "24681/24681 [==============================] - 4s 159us/sample - loss: 0.6933 - val_loss: 0.6952\n"
     ]
    }
   ],
   "source": [
    "from tensorflow.keras.callbacks import ModelCheckpoint\n",
    "import os\n",
    "name = 'model_03'\n",
    "checkpoint_file = './model/' + name + '_check_point/cp-{epoch:04d}.ckpt'\n",
    "try:\n",
    "    os.mkdir('./model/' + name + '_check_point/')\n",
    "except:\n",
    "    pass\n",
    "\n",
    "# create callback function\n",
    "cp_callback = ModelCheckpoint(checkpoint_file, save_weights_only=True, verbose=1, period=period)\n",
    "\n",
    "# train the model\n",
    "train = model.fit(x, y, epochs=epochs, batch_size=batch_size, callbacks=[cp_callback], validation_split=0.2)\n",
    "\n",
    "# save model\n",
    "model.save('./model/' + name + '.h5')"
   ]
  },
  {
   "cell_type": "code",
   "execution_count": 9,
   "metadata": {},
   "outputs": [
    {
     "data": {
      "image/png": "[encoded data removed]",
      "text/plain": [
       "<Figure size 432x288 with 1 Axes>"
      ]
     },
     "metadata": {
      "needs_background": "light"
     },
     "output_type": "display_data"
    }
   ],
   "source": [
    "plt.plot(train.history['loss'])\n",
    "plt.plot(train.history['val_loss'])\n",
    "plt.title('model loss')\n",
    "plt.ylabel('loss')\n",
    "plt.xlabel('epoch')\n",
    "plt.legend(['train', 'test'], loc='upper right')\n",
    "plt.show()"
   ]
  },
  {
   "cell_type": "code",
   "execution_count": 10,
   "metadata": {},
   "outputs": [
    {
     "name": "stdout",
     "output_type": "stream",
     "text": [
      "(172,) [0 0 0 0 0 0 0 0 0 0 0 0 0 0 0 0 0 0 0 0 0 0 0 0 0 0 0 0 0 0 0 0 0 0 0 0 0\n",
      " 0 0 0 0 0 0 0 0 0 0 0 0 0 0 0 0 0 0 0 0 0 0 0 0 0 0 0 0 0 0 0 0 0 0 0 0 0\n",
      " 0 0 0 0 0 0 0 0 0 0 0 0 0 0 0 0 0 0 0 0 0 0 0 0 0 0 0 0 0 0 0 0 0 0 0 0 0\n",
      " 0 0 0 0 0 0 0 0 0 0 0 0 0 0 0 0 0 0 0 0 0 0 0 0 0 0 0 0 0 0 0 0 0 0 0 0 0\n",
      " 0 0 0 0 0 0 0 0 0 0 0 0 0 0 0 0 0 0 0 0 0 0 0 0]\n"
     ]
    }
   ],
   "source": [
    "test_x, test_y, sc_parameter = create_dataset(path=paths[500], input_days=input_days, output_days=output_days)\n",
    "pred = np.argmax(model.predict(test_x), axis=-1)\n",
    "print(pred.shape, pred)"
   ]
  },
  {
   "cell_type": "code",
   "execution_count": 11,
   "metadata": {},
   "outputs": [
    {
     "name": "stdout",
     "output_type": "stream",
     "text": [
      "(172,)\n"
     ]
    },
    {
     "data": {
      "image/png": "[encoded data removed]",
      "text/plain": [
       "<Figure size 432x288 with 1 Axes>"
      ]
     },
     "metadata": {
      "needs_background": "light"
     },
     "output_type": "display_data"
    }
   ],
   "source": [
    "test_sc = MinMaxScaler()\n",
    "test_sc.updatePatameter(sc_parameter)\n",
    "test_real = test_x[:, -1, 0]\n",
    "test_real = test_sc.getInverseData(test_real)\n",
    "output_action = pred\n",
    "print(test_real.shape)\n",
    "\n",
    "# Visualising the results\n",
    "plot = test_real\n",
    "sell = np.where(output_action==0)\n",
    "do_nothing = np.where(output_action==1)\n",
    "buy = np.where(output_action==2)\n",
    "plt.plot(plot, color = 'blue', label = 'Real')\n",
    "plt.scatter(sell, plot[sell], color = 'green', label = 'sell')\n",
    "plt.scatter(do_nothing, plot[do_nothing], color = 'gray', label = 'do nothing')\n",
    "plt.scatter(buy, plot[buy], color = 'red', label = 'buy')\n",
    "plt.title('Prediction')\n",
    "plt.xlabel('Time(days)')\n",
    "plt.ylabel('Real')\n",
    "plt.legend()\n",
    "plt.show()"
   ]
  }
 ],
 "metadata": {
  "kernelspec": {
   "display_name": "Python [conda env:dlib]",
   "language": "python",
   "name": "conda-env-dlib-py"
  },
  "language_info": {
   "codemirror_mode": {
    "name": "ipython",
    "version": 3
   },
   "file_extension": ".py",
   "mimetype": "text/x-python",
   "name": "python",
   "nbconvert_exporter": "python",
   "pygments_lexer": "ipython3",
   "version": "3.6.6"
  }
 },
 "nbformat": 4,
 "nbformat_minor": 2
}
